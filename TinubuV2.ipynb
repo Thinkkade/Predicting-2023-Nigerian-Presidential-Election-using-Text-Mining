{
  "cells": [
    {
      "cell_type": "markdown",
      "id": "72d30f4c",
      "metadata": {
        "id": "72d30f4c"
      },
      "source": [
        "<b>3.Twitter Sentiment Analysis<b>"
      ]
    },
    {
      "cell_type": "code",
      "execution_count": 1,
      "id": "febf18bb",
      "metadata": {
        "id": "febf18bb"
      },
      "outputs": [],
      "source": [
        "import re\n",
        "import string\n",
        "import numpy as np\n",
        "import pandas as pd\n",
        "from nltk.corpus import stopwords\n",
        "from nltk.stem import PorterStemmer\n",
        "from nltk.tokenize import word_tokenize\n",
        "from nltk.tokenize import TweetTokenizer\n",
        "import html"
      ]
    },
    {
      "cell_type": "code",
      "execution_count": 2,
      "id": "9e83b402",
      "metadata": {
        "id": "9e83b402"
      },
      "outputs": [],
      "source": [
        "tweet=pd.read_csv('Tinubu_tweets.csv')"
      ]
    },
    {
      "cell_type": "code",
      "execution_count": 3,
      "id": "1b94ba5d",
      "metadata": {
        "colab": {
          "base_uri": "https://localhost:8080/",
          "height": 542
        },
        "id": "1b94ba5d",
        "outputId": "db453fcf-70e8-4637-feba-498e271a0f16"
      },
      "outputs": [
        {
          "output_type": "execute_result",
          "data": {
            "text/plain": [
              "            tweet_created_at             tweet_id         tweet_id_str  \\\n",
              "0  2022-11-03 06:56:36+00:00  1588062571550183425  1588062571550183425   \n",
              "1  2022-11-03 06:56:33+00:00  1588062558036152320  1588062558036152320   \n",
              "2  2022-11-03 06:56:30+00:00  1588062545880940547  1588062545880940547   \n",
              "3  2022-11-03 06:56:29+00:00  1588062543654047744  1588062543654047744   \n",
              "4  2022-11-03 06:56:28+00:00  1588062539195518976  1588062539195518976   \n",
              "\n",
              "                                     tweet_full_text  tweet_truncated  \\\n",
              "0  @imjennnenna @fkeyamo @officialABAT He was lik...            False   \n",
              "1  RT @MrAfobaje: The Agenda that a certain part ...            False   \n",
              "2  RT @JeffreyGuterman: @fkeyamo @officialABAT He...            False   \n",
              "3  @abikedabiri @officialABAT @apc_lagos @APCUKin...            False   \n",
              "4  RT @oparameka: @officialABAT Oga when will you...            False   \n",
              "\n",
              "  tweet_display_text_range                                     tweet_entities  \\\n",
              "0                 [36, 97]  {'hashtags': [], 'symbols': [], 'user_mentions...   \n",
              "1                 [0, 140]  {'hashtags': [], 'symbols': [], 'user_mentions...   \n",
              "2                  [0, 58]  {'hashtags': [], 'symbols': [], 'user_mentions...   \n",
              "3                [62, 338]  {'hashtags': [], 'symbols': [], 'user_mentions...   \n",
              "4                 [0, 139]  {'hashtags': [], 'symbols': [], 'user_mentions...   \n",
              "\n",
              "                             tweet_entities_mentions tweet_entities_hashtags  \\\n",
              "0              @imjennnenna, @fkeyamo, @officialABAT                     NaN   \n",
              "1                                         @MrAfobaje                     NaN   \n",
              "2          @JeffreyGuterman, @fkeyamo, @officialABAT                     NaN   \n",
              "3  @abikedabiri, @officialABAT, @apc_lagos, @APCU...                     NaN   \n",
              "4                          @oparameka, @officialABAT                     NaN   \n",
              "\n",
              "  tweet_entities_urls  ...  user_profile_use_background_image  \\\n",
              "0                 NaN  ...                               True   \n",
              "1                 NaN  ...                               True   \n",
              "2                 NaN  ...                               True   \n",
              "3                 NaN  ...                               True   \n",
              "4                 NaN  ...                               True   \n",
              "\n",
              "  user_has_extended_profile user_default_profile user_default_profile_image  \\\n",
              "0                      True                 True                      False   \n",
              "1                      True                 True                      False   \n",
              "2                      True                 True                      False   \n",
              "3                      True                 True                      False   \n",
              "4                     False                 True                      False   \n",
              "\n",
              "   user_following  user_follow_request_sent  user_notifications  \\\n",
              "0           False                     False               False   \n",
              "1           False                     False               False   \n",
              "2           False                     False               False   \n",
              "3           False                     False               False   \n",
              "4           False                     False               False   \n",
              "\n",
              "   user_translator_type user_withheld_in_countries  \\\n",
              "0                  none                         []   \n",
              "1                  none                         []   \n",
              "2                  none                         []   \n",
              "3                  none                         []   \n",
              "4                  none                         []   \n",
              "\n",
              "                      tweet_source_url  \n",
              "0  http://twitter.com/download/android  \n",
              "1  http://twitter.com/download/android  \n",
              "2  http://twitter.com/download/android  \n",
              "3  http://twitter.com/download/android  \n",
              "4  http://twitter.com/download/android  \n",
              "\n",
              "[5 rows x 80 columns]"
            ],
            "text/html": [
              "\n",
              "  <div id=\"df-21b014c7-b6e4-49f9-a791-08c84a5ed48f\">\n",
              "    <div class=\"colab-df-container\">\n",
              "      <div>\n",
              "<style scoped>\n",
              "    .dataframe tbody tr th:only-of-type {\n",
              "        vertical-align: middle;\n",
              "    }\n",
              "\n",
              "    .dataframe tbody tr th {\n",
              "        vertical-align: top;\n",
              "    }\n",
              "\n",
              "    .dataframe thead th {\n",
              "        text-align: right;\n",
              "    }\n",
              "</style>\n",
              "<table border=\"1\" class=\"dataframe\">\n",
              "  <thead>\n",
              "    <tr style=\"text-align: right;\">\n",
              "      <th></th>\n",
              "      <th>tweet_created_at</th>\n",
              "      <th>tweet_id</th>\n",
              "      <th>tweet_id_str</th>\n",
              "      <th>tweet_full_text</th>\n",
              "      <th>tweet_truncated</th>\n",
              "      <th>tweet_display_text_range</th>\n",
              "      <th>tweet_entities</th>\n",
              "      <th>tweet_entities_mentions</th>\n",
              "      <th>tweet_entities_hashtags</th>\n",
              "      <th>tweet_entities_urls</th>\n",
              "      <th>...</th>\n",
              "      <th>user_profile_use_background_image</th>\n",
              "      <th>user_has_extended_profile</th>\n",
              "      <th>user_default_profile</th>\n",
              "      <th>user_default_profile_image</th>\n",
              "      <th>user_following</th>\n",
              "      <th>user_follow_request_sent</th>\n",
              "      <th>user_notifications</th>\n",
              "      <th>user_translator_type</th>\n",
              "      <th>user_withheld_in_countries</th>\n",
              "      <th>tweet_source_url</th>\n",
              "    </tr>\n",
              "  </thead>\n",
              "  <tbody>\n",
              "    <tr>\n",
              "      <th>0</th>\n",
              "      <td>2022-11-03 06:56:36+00:00</td>\n",
              "      <td>1588062571550183425</td>\n",
              "      <td>1588062571550183425</td>\n",
              "      <td>@imjennnenna @fkeyamo @officialABAT He was lik...</td>\n",
              "      <td>False</td>\n",
              "      <td>[36, 97]</td>\n",
              "      <td>{'hashtags': [], 'symbols': [], 'user_mentions...</td>\n",
              "      <td>@imjennnenna, @fkeyamo, @officialABAT</td>\n",
              "      <td>NaN</td>\n",
              "      <td>NaN</td>\n",
              "      <td>...</td>\n",
              "      <td>True</td>\n",
              "      <td>True</td>\n",
              "      <td>True</td>\n",
              "      <td>False</td>\n",
              "      <td>False</td>\n",
              "      <td>False</td>\n",
              "      <td>False</td>\n",
              "      <td>none</td>\n",
              "      <td>[]</td>\n",
              "      <td>http://twitter.com/download/android</td>\n",
              "    </tr>\n",
              "    <tr>\n",
              "      <th>1</th>\n",
              "      <td>2022-11-03 06:56:33+00:00</td>\n",
              "      <td>1588062558036152320</td>\n",
              "      <td>1588062558036152320</td>\n",
              "      <td>RT @MrAfobaje: The Agenda that a certain part ...</td>\n",
              "      <td>False</td>\n",
              "      <td>[0, 140]</td>\n",
              "      <td>{'hashtags': [], 'symbols': [], 'user_mentions...</td>\n",
              "      <td>@MrAfobaje</td>\n",
              "      <td>NaN</td>\n",
              "      <td>NaN</td>\n",
              "      <td>...</td>\n",
              "      <td>True</td>\n",
              "      <td>True</td>\n",
              "      <td>True</td>\n",
              "      <td>False</td>\n",
              "      <td>False</td>\n",
              "      <td>False</td>\n",
              "      <td>False</td>\n",
              "      <td>none</td>\n",
              "      <td>[]</td>\n",
              "      <td>http://twitter.com/download/android</td>\n",
              "    </tr>\n",
              "    <tr>\n",
              "      <th>2</th>\n",
              "      <td>2022-11-03 06:56:30+00:00</td>\n",
              "      <td>1588062545880940547</td>\n",
              "      <td>1588062545880940547</td>\n",
              "      <td>RT @JeffreyGuterman: @fkeyamo @officialABAT He...</td>\n",
              "      <td>False</td>\n",
              "      <td>[0, 58]</td>\n",
              "      <td>{'hashtags': [], 'symbols': [], 'user_mentions...</td>\n",
              "      <td>@JeffreyGuterman, @fkeyamo, @officialABAT</td>\n",
              "      <td>NaN</td>\n",
              "      <td>NaN</td>\n",
              "      <td>...</td>\n",
              "      <td>True</td>\n",
              "      <td>True</td>\n",
              "      <td>True</td>\n",
              "      <td>False</td>\n",
              "      <td>False</td>\n",
              "      <td>False</td>\n",
              "      <td>False</td>\n",
              "      <td>none</td>\n",
              "      <td>[]</td>\n",
              "      <td>http://twitter.com/download/android</td>\n",
              "    </tr>\n",
              "    <tr>\n",
              "      <th>3</th>\n",
              "      <td>2022-11-03 06:56:29+00:00</td>\n",
              "      <td>1588062543654047744</td>\n",
              "      <td>1588062543654047744</td>\n",
              "      <td>@abikedabiri @officialABAT @apc_lagos @APCUKin...</td>\n",
              "      <td>False</td>\n",
              "      <td>[62, 338]</td>\n",
              "      <td>{'hashtags': [], 'symbols': [], 'user_mentions...</td>\n",
              "      <td>@abikedabiri, @officialABAT, @apc_lagos, @APCU...</td>\n",
              "      <td>NaN</td>\n",
              "      <td>NaN</td>\n",
              "      <td>...</td>\n",
              "      <td>True</td>\n",
              "      <td>True</td>\n",
              "      <td>True</td>\n",
              "      <td>False</td>\n",
              "      <td>False</td>\n",
              "      <td>False</td>\n",
              "      <td>False</td>\n",
              "      <td>none</td>\n",
              "      <td>[]</td>\n",
              "      <td>http://twitter.com/download/android</td>\n",
              "    </tr>\n",
              "    <tr>\n",
              "      <th>4</th>\n",
              "      <td>2022-11-03 06:56:28+00:00</td>\n",
              "      <td>1588062539195518976</td>\n",
              "      <td>1588062539195518976</td>\n",
              "      <td>RT @oparameka: @officialABAT Oga when will you...</td>\n",
              "      <td>False</td>\n",
              "      <td>[0, 139]</td>\n",
              "      <td>{'hashtags': [], 'symbols': [], 'user_mentions...</td>\n",
              "      <td>@oparameka, @officialABAT</td>\n",
              "      <td>NaN</td>\n",
              "      <td>NaN</td>\n",
              "      <td>...</td>\n",
              "      <td>True</td>\n",
              "      <td>False</td>\n",
              "      <td>True</td>\n",
              "      <td>False</td>\n",
              "      <td>False</td>\n",
              "      <td>False</td>\n",
              "      <td>False</td>\n",
              "      <td>none</td>\n",
              "      <td>[]</td>\n",
              "      <td>http://twitter.com/download/android</td>\n",
              "    </tr>\n",
              "  </tbody>\n",
              "</table>\n",
              "<p>5 rows × 80 columns</p>\n",
              "</div>\n",
              "      <button class=\"colab-df-convert\" onclick=\"convertToInteractive('df-21b014c7-b6e4-49f9-a791-08c84a5ed48f')\"\n",
              "              title=\"Convert this dataframe to an interactive table.\"\n",
              "              style=\"display:none;\">\n",
              "        \n",
              "  <svg xmlns=\"http://www.w3.org/2000/svg\" height=\"24px\"viewBox=\"0 0 24 24\"\n",
              "       width=\"24px\">\n",
              "    <path d=\"M0 0h24v24H0V0z\" fill=\"none\"/>\n",
              "    <path d=\"M18.56 5.44l.94 2.06.94-2.06 2.06-.94-2.06-.94-.94-2.06-.94 2.06-2.06.94zm-11 1L8.5 8.5l.94-2.06 2.06-.94-2.06-.94L8.5 2.5l-.94 2.06-2.06.94zm10 10l.94 2.06.94-2.06 2.06-.94-2.06-.94-.94-2.06-.94 2.06-2.06.94z\"/><path d=\"M17.41 7.96l-1.37-1.37c-.4-.4-.92-.59-1.43-.59-.52 0-1.04.2-1.43.59L10.3 9.45l-7.72 7.72c-.78.78-.78 2.05 0 2.83L4 21.41c.39.39.9.59 1.41.59.51 0 1.02-.2 1.41-.59l7.78-7.78 2.81-2.81c.8-.78.8-2.07 0-2.86zM5.41 20L4 18.59l7.72-7.72 1.47 1.35L5.41 20z\"/>\n",
              "  </svg>\n",
              "      </button>\n",
              "      \n",
              "  <style>\n",
              "    .colab-df-container {\n",
              "      display:flex;\n",
              "      flex-wrap:wrap;\n",
              "      gap: 12px;\n",
              "    }\n",
              "\n",
              "    .colab-df-convert {\n",
              "      background-color: #E8F0FE;\n",
              "      border: none;\n",
              "      border-radius: 50%;\n",
              "      cursor: pointer;\n",
              "      display: none;\n",
              "      fill: #1967D2;\n",
              "      height: 32px;\n",
              "      padding: 0 0 0 0;\n",
              "      width: 32px;\n",
              "    }\n",
              "\n",
              "    .colab-df-convert:hover {\n",
              "      background-color: #E2EBFA;\n",
              "      box-shadow: 0px 1px 2px rgba(60, 64, 67, 0.3), 0px 1px 3px 1px rgba(60, 64, 67, 0.15);\n",
              "      fill: #174EA6;\n",
              "    }\n",
              "\n",
              "    [theme=dark] .colab-df-convert {\n",
              "      background-color: #3B4455;\n",
              "      fill: #D2E3FC;\n",
              "    }\n",
              "\n",
              "    [theme=dark] .colab-df-convert:hover {\n",
              "      background-color: #434B5C;\n",
              "      box-shadow: 0px 1px 3px 1px rgba(0, 0, 0, 0.15);\n",
              "      filter: drop-shadow(0px 1px 2px rgba(0, 0, 0, 0.3));\n",
              "      fill: #FFFFFF;\n",
              "    }\n",
              "  </style>\n",
              "\n",
              "      <script>\n",
              "        const buttonEl =\n",
              "          document.querySelector('#df-21b014c7-b6e4-49f9-a791-08c84a5ed48f button.colab-df-convert');\n",
              "        buttonEl.style.display =\n",
              "          google.colab.kernel.accessAllowed ? 'block' : 'none';\n",
              "\n",
              "        async function convertToInteractive(key) {\n",
              "          const element = document.querySelector('#df-21b014c7-b6e4-49f9-a791-08c84a5ed48f');\n",
              "          const dataTable =\n",
              "            await google.colab.kernel.invokeFunction('convertToInteractive',\n",
              "                                                     [key], {});\n",
              "          if (!dataTable) return;\n",
              "\n",
              "          const docLinkHtml = 'Like what you see? Visit the ' +\n",
              "            '<a target=\"_blank\" href=https://colab.research.google.com/notebooks/data_table.ipynb>data table notebook</a>'\n",
              "            + ' to learn more about interactive tables.';\n",
              "          element.innerHTML = '';\n",
              "          dataTable['output_type'] = 'display_data';\n",
              "          await google.colab.output.renderOutput(dataTable, element);\n",
              "          const docLink = document.createElement('div');\n",
              "          docLink.innerHTML = docLinkHtml;\n",
              "          element.appendChild(docLink);\n",
              "        }\n",
              "      </script>\n",
              "    </div>\n",
              "  </div>\n",
              "  "
            ]
          },
          "metadata": {},
          "execution_count": 3
        }
      ],
      "source": [
        "new_data = tweet.drop_duplicates('tweet_full_text',keep='first') #delete the duplicates by dropping them and store the result value to a new variable\n",
        "new_data.head()"
      ]
    },
    {
      "cell_type": "code",
      "execution_count": 4,
      "id": "0809a261",
      "metadata": {
        "colab": {
          "base_uri": "https://localhost:8080/"
        },
        "id": "0809a261",
        "outputId": "af52bd3b-938e-4d5d-e5e3-54e8bb835d99"
      },
      "outputs": [
        {
          "output_type": "execute_result",
          "data": {
            "text/plain": [
              "0    @imjennnenna @fkeyamo @officialABAT He was lik...\n",
              "1    RT @MrAfobaje: The Agenda that a certain part ...\n",
              "2    RT @JeffreyGuterman: @fkeyamo @officialABAT He...\n",
              "3    @abikedabiri @officialABAT @apc_lagos @APCUKin...\n",
              "4    RT @oparameka: @officialABAT Oga when will you...\n",
              "Name: tweet_full_text, dtype: object"
            ]
          },
          "metadata": {},
          "execution_count": 4
        }
      ],
      "source": [
        "new_data.to_csv(r'my_new_sample.csv', index = False)\n",
        "new_sample = pd.read_csv('my_new_sample.csv')\n",
        "new_sample.head()\n",
        "tweets = new_sample['tweet_full_text']\n",
        "tweets.head()"
      ]
    },
    {
      "cell_type": "code",
      "execution_count": 5,
      "id": "3cef2511",
      "metadata": {
        "colab": {
          "base_uri": "https://localhost:8080/"
        },
        "id": "3cef2511",
        "outputId": "3b8ebcb3-9fea-49c0-fdf9-fa4f3e6c345b"
      },
      "outputs": [
        {
          "output_type": "stream",
          "name": "stderr",
          "text": [
            "<ipython-input-5-0aa6cd3f07c9>:3: SettingWithCopyWarning: \n",
            "A value is trying to be set on a copy of a slice from a DataFrame\n",
            "\n",
            "See the caveats in the documentation: https://pandas.pydata.org/pandas-docs/stable/user_guide/indexing.html#returning-a-view-versus-a-copy\n",
            "  tweets[i] = html.unescape(x)\n"
          ]
        },
        {
          "output_type": "execute_result",
          "data": {
            "text/plain": [
              "0    @imjennnenna @fkeyamo @officialABAT He was lik...\n",
              "1    RT @MrAfobaje: The Agenda that a certain part ...\n",
              "2    RT @JeffreyGuterman: @fkeyamo @officialABAT He...\n",
              "3    @abikedabiri @officialABAT @apc_lagos @APCUKin...\n",
              "4    RT @oparameka: @officialABAT Oga when will you...\n",
              "Name: tweet_full_text, dtype: object"
            ]
          },
          "metadata": {},
          "execution_count": 5
        }
      ],
      "source": [
        "for i in range (len(tweets)):\n",
        "    x = tweets[i].replace(\"\\n\",\" \") #cleaning newline “\\n” from the tweets\n",
        "tweets[i] = html.unescape(x)\n",
        "tweets.head()"
      ]
    },
    {
      "cell_type": "code",
      "execution_count": 6,
      "id": "88b936d5",
      "metadata": {
        "colab": {
          "base_uri": "https://localhost:8080/"
        },
        "id": "88b936d5",
        "outputId": "f7f1f8b1-2081-4d83-e094-d3a82ad74d1b"
      },
      "outputs": [
        {
          "output_type": "stream",
          "name": "stderr",
          "text": [
            "<ipython-input-6-fe1ce977eacf>:2: SettingWithCopyWarning: \n",
            "A value is trying to be set on a copy of a slice from a DataFrame\n",
            "\n",
            "See the caveats in the documentation: https://pandas.pydata.org/pandas-docs/stable/user_guide/indexing.html#returning-a-view-versus-a-copy\n",
            "  tweets[i] = re.sub(r\"(@[A-Za-z0–9_]+)|[^\\w\\s]|#|http\\S+\", \"\", tweets[i])\n"
          ]
        }
      ],
      "source": [
        "for i in range (len(tweets)):\n",
        "    tweets[i] = re.sub(r\"(@[A-Za-z0–9_]+)|[^\\w\\s]|#|http\\S+\", \"\", tweets[i])"
      ]
    },
    {
      "cell_type": "code",
      "execution_count": 7,
      "id": "207f9aaa",
      "metadata": {
        "id": "207f9aaa"
      },
      "outputs": [],
      "source": [
        "df=pd.DataFrame(tweets)"
      ]
    },
    {
      "cell_type": "code",
      "execution_count": 8,
      "id": "81c99d28",
      "metadata": {
        "id": "81c99d28"
      },
      "outputs": [],
      "source": [
        "df=df[~df.tweet_full_text.str.contains('RT')]"
      ]
    },
    {
      "cell_type": "code",
      "execution_count": 9,
      "id": "10c9eb84",
      "metadata": {
        "colab": {
          "base_uri": "https://localhost:8080/",
          "height": 206
        },
        "id": "10c9eb84",
        "outputId": "710c8417-91e4-4119-b5ea-6457d2f90f68"
      },
      "outputs": [
        {
          "output_type": "execute_result",
          "data": {
            "text/plain": [
              "                                      tweet_full_text\n",
              "0      He was like comrade let me lubricate dis pi...\n",
              "3        According to the International center for...\n",
              "5       Okay and anambra has been unlucky with bad...\n",
              "6                                   youre doing well \n",
              "10    Dollar is almost 900 But all they see is age..."
            ],
            "text/html": [
              "\n",
              "  <div id=\"df-9c3f68cf-0e30-4088-9963-78ce146aaa70\">\n",
              "    <div class=\"colab-df-container\">\n",
              "      <div>\n",
              "<style scoped>\n",
              "    .dataframe tbody tr th:only-of-type {\n",
              "        vertical-align: middle;\n",
              "    }\n",
              "\n",
              "    .dataframe tbody tr th {\n",
              "        vertical-align: top;\n",
              "    }\n",
              "\n",
              "    .dataframe thead th {\n",
              "        text-align: right;\n",
              "    }\n",
              "</style>\n",
              "<table border=\"1\" class=\"dataframe\">\n",
              "  <thead>\n",
              "    <tr style=\"text-align: right;\">\n",
              "      <th></th>\n",
              "      <th>tweet_full_text</th>\n",
              "    </tr>\n",
              "  </thead>\n",
              "  <tbody>\n",
              "    <tr>\n",
              "      <th>0</th>\n",
              "      <td>He was like comrade let me lubricate dis pi...</td>\n",
              "    </tr>\n",
              "    <tr>\n",
              "      <th>3</th>\n",
              "      <td>According to the International center for...</td>\n",
              "    </tr>\n",
              "    <tr>\n",
              "      <th>5</th>\n",
              "      <td>Okay and anambra has been unlucky with bad...</td>\n",
              "    </tr>\n",
              "    <tr>\n",
              "      <th>6</th>\n",
              "      <td>youre doing well</td>\n",
              "    </tr>\n",
              "    <tr>\n",
              "      <th>10</th>\n",
              "      <td>Dollar is almost 900 But all they see is age...</td>\n",
              "    </tr>\n",
              "  </tbody>\n",
              "</table>\n",
              "</div>\n",
              "      <button class=\"colab-df-convert\" onclick=\"convertToInteractive('df-9c3f68cf-0e30-4088-9963-78ce146aaa70')\"\n",
              "              title=\"Convert this dataframe to an interactive table.\"\n",
              "              style=\"display:none;\">\n",
              "        \n",
              "  <svg xmlns=\"http://www.w3.org/2000/svg\" height=\"24px\"viewBox=\"0 0 24 24\"\n",
              "       width=\"24px\">\n",
              "    <path d=\"M0 0h24v24H0V0z\" fill=\"none\"/>\n",
              "    <path d=\"M18.56 5.44l.94 2.06.94-2.06 2.06-.94-2.06-.94-.94-2.06-.94 2.06-2.06.94zm-11 1L8.5 8.5l.94-2.06 2.06-.94-2.06-.94L8.5 2.5l-.94 2.06-2.06.94zm10 10l.94 2.06.94-2.06 2.06-.94-2.06-.94-.94-2.06-.94 2.06-2.06.94z\"/><path d=\"M17.41 7.96l-1.37-1.37c-.4-.4-.92-.59-1.43-.59-.52 0-1.04.2-1.43.59L10.3 9.45l-7.72 7.72c-.78.78-.78 2.05 0 2.83L4 21.41c.39.39.9.59 1.41.59.51 0 1.02-.2 1.41-.59l7.78-7.78 2.81-2.81c.8-.78.8-2.07 0-2.86zM5.41 20L4 18.59l7.72-7.72 1.47 1.35L5.41 20z\"/>\n",
              "  </svg>\n",
              "      </button>\n",
              "      \n",
              "  <style>\n",
              "    .colab-df-container {\n",
              "      display:flex;\n",
              "      flex-wrap:wrap;\n",
              "      gap: 12px;\n",
              "    }\n",
              "\n",
              "    .colab-df-convert {\n",
              "      background-color: #E8F0FE;\n",
              "      border: none;\n",
              "      border-radius: 50%;\n",
              "      cursor: pointer;\n",
              "      display: none;\n",
              "      fill: #1967D2;\n",
              "      height: 32px;\n",
              "      padding: 0 0 0 0;\n",
              "      width: 32px;\n",
              "    }\n",
              "\n",
              "    .colab-df-convert:hover {\n",
              "      background-color: #E2EBFA;\n",
              "      box-shadow: 0px 1px 2px rgba(60, 64, 67, 0.3), 0px 1px 3px 1px rgba(60, 64, 67, 0.15);\n",
              "      fill: #174EA6;\n",
              "    }\n",
              "\n",
              "    [theme=dark] .colab-df-convert {\n",
              "      background-color: #3B4455;\n",
              "      fill: #D2E3FC;\n",
              "    }\n",
              "\n",
              "    [theme=dark] .colab-df-convert:hover {\n",
              "      background-color: #434B5C;\n",
              "      box-shadow: 0px 1px 3px 1px rgba(0, 0, 0, 0.15);\n",
              "      filter: drop-shadow(0px 1px 2px rgba(0, 0, 0, 0.3));\n",
              "      fill: #FFFFFF;\n",
              "    }\n",
              "  </style>\n",
              "\n",
              "      <script>\n",
              "        const buttonEl =\n",
              "          document.querySelector('#df-9c3f68cf-0e30-4088-9963-78ce146aaa70 button.colab-df-convert');\n",
              "        buttonEl.style.display =\n",
              "          google.colab.kernel.accessAllowed ? 'block' : 'none';\n",
              "\n",
              "        async function convertToInteractive(key) {\n",
              "          const element = document.querySelector('#df-9c3f68cf-0e30-4088-9963-78ce146aaa70');\n",
              "          const dataTable =\n",
              "            await google.colab.kernel.invokeFunction('convertToInteractive',\n",
              "                                                     [key], {});\n",
              "          if (!dataTable) return;\n",
              "\n",
              "          const docLinkHtml = 'Like what you see? Visit the ' +\n",
              "            '<a target=\"_blank\" href=https://colab.research.google.com/notebooks/data_table.ipynb>data table notebook</a>'\n",
              "            + ' to learn more about interactive tables.';\n",
              "          element.innerHTML = '';\n",
              "          dataTable['output_type'] = 'display_data';\n",
              "          await google.colab.output.renderOutput(dataTable, element);\n",
              "          const docLink = document.createElement('div');\n",
              "          docLink.innerHTML = docLinkHtml;\n",
              "          element.appendChild(docLink);\n",
              "        }\n",
              "      </script>\n",
              "    </div>\n",
              "  </div>\n",
              "  "
            ]
          },
          "metadata": {},
          "execution_count": 9
        }
      ],
      "source": [
        "df.head()"
      ]
    },
    {
      "cell_type": "code",
      "execution_count": 10,
      "id": "4e3f1c83",
      "metadata": {
        "colab": {
          "base_uri": "https://localhost:8080/",
          "height": 423
        },
        "id": "4e3f1c83",
        "outputId": "536d79ae-d54e-483b-d393-05e6efdb940d"
      },
      "outputs": [
        {
          "output_type": "execute_result",
          "data": {
            "text/plain": [
              "                                        tweet_full_text  Subjectivity  \\\n",
              "0        He was like comrade let me lubricate dis pi...      0.000000   \n",
              "3          According to the International center for...      0.180000   \n",
              "5         Okay and anambra has been unlucky with bad...      0.583333   \n",
              "6                                     youre doing well       0.000000   \n",
              "10      Dollar is almost 900 But all they see is age...      1.000000   \n",
              "...                                                 ...           ...   \n",
              "1212            May his soul rest in perfect peace Amin      1.000000   \n",
              "1213  Peter Obi needs to start throwing jabs too So ...      0.394444   \n",
              "1214  27    1   See whos talking Someone that just d...      0.311111   \n",
              "1215        They are attending debate  is doing poli...      0.241667   \n",
              "1216                                              Swag       0.000000   \n",
              "\n",
              "      Polarity  \n",
              "0     0.000000  \n",
              "3    -0.110000  \n",
              "5    -0.100000  \n",
              "6     0.000000  \n",
              "10   -0.500000  \n",
              "...        ...  \n",
              "1212  1.000000  \n",
              "1213  0.172222  \n",
              "1214  0.016667  \n",
              "1215  0.050000  \n",
              "1216  0.000000  \n",
              "\n",
              "[952 rows x 3 columns]"
            ],
            "text/html": [
              "\n",
              "  <div id=\"df-c65fc9f8-47b4-4c47-b95f-e4719a49a47d\">\n",
              "    <div class=\"colab-df-container\">\n",
              "      <div>\n",
              "<style scoped>\n",
              "    .dataframe tbody tr th:only-of-type {\n",
              "        vertical-align: middle;\n",
              "    }\n",
              "\n",
              "    .dataframe tbody tr th {\n",
              "        vertical-align: top;\n",
              "    }\n",
              "\n",
              "    .dataframe thead th {\n",
              "        text-align: right;\n",
              "    }\n",
              "</style>\n",
              "<table border=\"1\" class=\"dataframe\">\n",
              "  <thead>\n",
              "    <tr style=\"text-align: right;\">\n",
              "      <th></th>\n",
              "      <th>tweet_full_text</th>\n",
              "      <th>Subjectivity</th>\n",
              "      <th>Polarity</th>\n",
              "    </tr>\n",
              "  </thead>\n",
              "  <tbody>\n",
              "    <tr>\n",
              "      <th>0</th>\n",
              "      <td>He was like comrade let me lubricate dis pi...</td>\n",
              "      <td>0.000000</td>\n",
              "      <td>0.000000</td>\n",
              "    </tr>\n",
              "    <tr>\n",
              "      <th>3</th>\n",
              "      <td>According to the International center for...</td>\n",
              "      <td>0.180000</td>\n",
              "      <td>-0.110000</td>\n",
              "    </tr>\n",
              "    <tr>\n",
              "      <th>5</th>\n",
              "      <td>Okay and anambra has been unlucky with bad...</td>\n",
              "      <td>0.583333</td>\n",
              "      <td>-0.100000</td>\n",
              "    </tr>\n",
              "    <tr>\n",
              "      <th>6</th>\n",
              "      <td>youre doing well</td>\n",
              "      <td>0.000000</td>\n",
              "      <td>0.000000</td>\n",
              "    </tr>\n",
              "    <tr>\n",
              "      <th>10</th>\n",
              "      <td>Dollar is almost 900 But all they see is age...</td>\n",
              "      <td>1.000000</td>\n",
              "      <td>-0.500000</td>\n",
              "    </tr>\n",
              "    <tr>\n",
              "      <th>...</th>\n",
              "      <td>...</td>\n",
              "      <td>...</td>\n",
              "      <td>...</td>\n",
              "    </tr>\n",
              "    <tr>\n",
              "      <th>1212</th>\n",
              "      <td>May his soul rest in perfect peace Amin</td>\n",
              "      <td>1.000000</td>\n",
              "      <td>1.000000</td>\n",
              "    </tr>\n",
              "    <tr>\n",
              "      <th>1213</th>\n",
              "      <td>Peter Obi needs to start throwing jabs too So ...</td>\n",
              "      <td>0.394444</td>\n",
              "      <td>0.172222</td>\n",
              "    </tr>\n",
              "    <tr>\n",
              "      <th>1214</th>\n",
              "      <td>27    1   See whos talking Someone that just d...</td>\n",
              "      <td>0.311111</td>\n",
              "      <td>0.016667</td>\n",
              "    </tr>\n",
              "    <tr>\n",
              "      <th>1215</th>\n",
              "      <td>They are attending debate  is doing poli...</td>\n",
              "      <td>0.241667</td>\n",
              "      <td>0.050000</td>\n",
              "    </tr>\n",
              "    <tr>\n",
              "      <th>1216</th>\n",
              "      <td>Swag</td>\n",
              "      <td>0.000000</td>\n",
              "      <td>0.000000</td>\n",
              "    </tr>\n",
              "  </tbody>\n",
              "</table>\n",
              "<p>952 rows × 3 columns</p>\n",
              "</div>\n",
              "      <button class=\"colab-df-convert\" onclick=\"convertToInteractive('df-c65fc9f8-47b4-4c47-b95f-e4719a49a47d')\"\n",
              "              title=\"Convert this dataframe to an interactive table.\"\n",
              "              style=\"display:none;\">\n",
              "        \n",
              "  <svg xmlns=\"http://www.w3.org/2000/svg\" height=\"24px\"viewBox=\"0 0 24 24\"\n",
              "       width=\"24px\">\n",
              "    <path d=\"M0 0h24v24H0V0z\" fill=\"none\"/>\n",
              "    <path d=\"M18.56 5.44l.94 2.06.94-2.06 2.06-.94-2.06-.94-.94-2.06-.94 2.06-2.06.94zm-11 1L8.5 8.5l.94-2.06 2.06-.94-2.06-.94L8.5 2.5l-.94 2.06-2.06.94zm10 10l.94 2.06.94-2.06 2.06-.94-2.06-.94-.94-2.06-.94 2.06-2.06.94z\"/><path d=\"M17.41 7.96l-1.37-1.37c-.4-.4-.92-.59-1.43-.59-.52 0-1.04.2-1.43.59L10.3 9.45l-7.72 7.72c-.78.78-.78 2.05 0 2.83L4 21.41c.39.39.9.59 1.41.59.51 0 1.02-.2 1.41-.59l7.78-7.78 2.81-2.81c.8-.78.8-2.07 0-2.86zM5.41 20L4 18.59l7.72-7.72 1.47 1.35L5.41 20z\"/>\n",
              "  </svg>\n",
              "      </button>\n",
              "      \n",
              "  <style>\n",
              "    .colab-df-container {\n",
              "      display:flex;\n",
              "      flex-wrap:wrap;\n",
              "      gap: 12px;\n",
              "    }\n",
              "\n",
              "    .colab-df-convert {\n",
              "      background-color: #E8F0FE;\n",
              "      border: none;\n",
              "      border-radius: 50%;\n",
              "      cursor: pointer;\n",
              "      display: none;\n",
              "      fill: #1967D2;\n",
              "      height: 32px;\n",
              "      padding: 0 0 0 0;\n",
              "      width: 32px;\n",
              "    }\n",
              "\n",
              "    .colab-df-convert:hover {\n",
              "      background-color: #E2EBFA;\n",
              "      box-shadow: 0px 1px 2px rgba(60, 64, 67, 0.3), 0px 1px 3px 1px rgba(60, 64, 67, 0.15);\n",
              "      fill: #174EA6;\n",
              "    }\n",
              "\n",
              "    [theme=dark] .colab-df-convert {\n",
              "      background-color: #3B4455;\n",
              "      fill: #D2E3FC;\n",
              "    }\n",
              "\n",
              "    [theme=dark] .colab-df-convert:hover {\n",
              "      background-color: #434B5C;\n",
              "      box-shadow: 0px 1px 3px 1px rgba(0, 0, 0, 0.15);\n",
              "      filter: drop-shadow(0px 1px 2px rgba(0, 0, 0, 0.3));\n",
              "      fill: #FFFFFF;\n",
              "    }\n",
              "  </style>\n",
              "\n",
              "      <script>\n",
              "        const buttonEl =\n",
              "          document.querySelector('#df-c65fc9f8-47b4-4c47-b95f-e4719a49a47d button.colab-df-convert');\n",
              "        buttonEl.style.display =\n",
              "          google.colab.kernel.accessAllowed ? 'block' : 'none';\n",
              "\n",
              "        async function convertToInteractive(key) {\n",
              "          const element = document.querySelector('#df-c65fc9f8-47b4-4c47-b95f-e4719a49a47d');\n",
              "          const dataTable =\n",
              "            await google.colab.kernel.invokeFunction('convertToInteractive',\n",
              "                                                     [key], {});\n",
              "          if (!dataTable) return;\n",
              "\n",
              "          const docLinkHtml = 'Like what you see? Visit the ' +\n",
              "            '<a target=\"_blank\" href=https://colab.research.google.com/notebooks/data_table.ipynb>data table notebook</a>'\n",
              "            + ' to learn more about interactive tables.';\n",
              "          element.innerHTML = '';\n",
              "          dataTable['output_type'] = 'display_data';\n",
              "          await google.colab.output.renderOutput(dataTable, element);\n",
              "          const docLink = document.createElement('div');\n",
              "          docLink.innerHTML = docLinkHtml;\n",
              "          element.appendChild(docLink);\n",
              "        }\n",
              "      </script>\n",
              "    </div>\n",
              "  </div>\n",
              "  "
            ]
          },
          "metadata": {},
          "execution_count": 10
        }
      ],
      "source": [
        "from textblob import TextBlob\n",
        "## create function to subjectivity\n",
        "def getSubjectivity(text):\n",
        "    return TextBlob(text).sentiment.subjectivity\n",
        "## create function to get polarity\n",
        "def getPolarity(text):\n",
        "    return TextBlob(text).sentiment.polarity\n",
        "## create two new column\n",
        "df['Subjectivity']=df['tweet_full_text'].apply(getSubjectivity)\n",
        "df['Polarity']=df['tweet_full_text'].apply(getPolarity)\n",
        "## show new Dataframe\n",
        "df"
      ]
    },
    {
      "cell_type": "code",
      "execution_count": 11,
      "id": "8c0805ac",
      "metadata": {
        "colab": {
          "base_uri": "https://localhost:8080/"
        },
        "id": "8c0805ac",
        "outputId": "9ea490ba-b0c6-404d-c991-781059f6f1e7"
      },
      "outputs": [
        {
          "output_type": "stream",
          "name": "stdout",
          "text": [
            "                                        tweet_full_text  Subjectivity  \\\n",
            "0        He was like comrade let me lubricate dis pi...      0.000000   \n",
            "3          According to the International center for...      0.180000   \n",
            "5         Okay and anambra has been unlucky with bad...      0.583333   \n",
            "6                                     youre doing well       0.000000   \n",
            "10      Dollar is almost 900 But all they see is age...      1.000000   \n",
            "...                                                 ...           ...   \n",
            "1212            May his soul rest in perfect peace Amin      1.000000   \n",
            "1213  Peter Obi needs to start throwing jabs too So ...      0.394444   \n",
            "1214  27    1   See whos talking Someone that just d...      0.311111   \n",
            "1215        They are attending debate  is doing poli...      0.241667   \n",
            "1216                                              Swag       0.000000   \n",
            "\n",
            "      Polarity  Analysis  \n",
            "0     0.000000   Neutral  \n",
            "3    -0.110000  Negative  \n",
            "5    -0.100000  Negative  \n",
            "6     0.000000   Neutral  \n",
            "10   -0.500000  Negative  \n",
            "...        ...       ...  \n",
            "1212  1.000000  Positive  \n",
            "1213  0.172222  Positive  \n",
            "1214  0.016667  Positive  \n",
            "1215  0.050000  Positive  \n",
            "1216  0.000000   Neutral  \n",
            "\n",
            "[952 rows x 4 columns]\n"
          ]
        }
      ],
      "source": [
        "## creating function to compute positive, negative and neutral analysis\n",
        "def getAnalysis(score):\n",
        "    if score<0:\n",
        "        return 'Negative'\n",
        "    elif score==0:\n",
        "        return 'Neutral'\n",
        "    else:\n",
        "        return 'Positive'\n",
        "df['Analysis'] = df['Polarity'].apply(getAnalysis)\n",
        "print(df)"
      ]
    },
    {
      "cell_type": "markdown",
      "id": "41a47bc8",
      "metadata": {
        "id": "41a47bc8"
      },
      "source": [
        "<b> We then plot the sentiments<b>"
      ]
    },
    {
      "cell_type": "code",
      "execution_count": 12,
      "id": "c4632683",
      "metadata": {
        "colab": {
          "base_uri": "https://localhost:8080/",
          "height": 295
        },
        "id": "c4632683",
        "outputId": "4078a6ea-f704-49ec-9826-89a8100abc5a"
      },
      "outputs": [
        {
          "output_type": "display_data",
          "data": {
            "text/plain": [
              "<Figure size 432x288 with 1 Axes>"
            ],
            "image/png": "[encoded data removed]"
          },
          "metadata": {
            "needs_background": "light"
          }
        }
      ],
      "source": [
        "from matplotlib import pyplot as plt\n",
        "## plot polarity and subjectivity\n",
        "for index,row in df.iterrows():\n",
        "    if row['Analysis']=='Positive':\n",
        "        plt.scatter(row['Polarity'],row['Subjectivity'],color='green')\n",
        "    elif row['Analysis']=='Negative':\n",
        "        plt.scatter(row['Polarity'],row['Subjectivity'],color='red')\n",
        "    else:\n",
        "        plt.scatter(row['Polarity'],row['Subjectivity'],color='blue')\n",
        "plt.title('Sentiment Analysis')\n",
        "plt.xlabel('Polarity')\n",
        "plt.ylabel('Subjectivity')\n",
        "plt.show()"
      ]
    },
    {
      "cell_type": "code",
      "execution_count": 13,
      "id": "e7d9bfd9",
      "metadata": {
        "colab": {
          "base_uri": "https://localhost:8080/",
          "height": 330
        },
        "id": "e7d9bfd9",
        "outputId": "ad560234-c24d-4d0f-dab4-3d707d58240a"
      },
      "outputs": [
        {
          "output_type": "display_data",
          "data": {
            "text/plain": [
              "<Figure size 432x288 with 1 Axes>"
            ],
            "image/png": "[encoded data removed]"
          },
          "metadata": {
            "needs_background": "light"
          }
        }
      ],
      "source": [
        "ptweets=df[df.Analysis=='Positive']\n",
        "ptweets=ptweets['tweet_full_text']\n",
        "round((ptweets.shape[0]/df.shape[0])*100,1)\n",
        "## get percentage of negative tweets\n",
        "ntweets=df[df.Analysis=='Negative']\n",
        "round((ntweets.shape[0]/df.shape[0])*100,1)\n",
        "## show value counts\n",
        "df['Analysis'].value_counts()\n",
        "## plot visulatisation of count\n",
        "plt.title('Sentiment Analysis')\n",
        "plt.xlabel('Sentiments') \n",
        "plt.ylabel('Counts')\n",
        "df['Analysis'].value_counts().plot(kind='bar')\n",
        "plt.show()"
      ]
    },
    {
      "cell_type": "code",
      "execution_count": 14,
      "id": "a29b8a59",
      "metadata": {
        "id": "a29b8a59"
      },
      "outputs": [],
      "source": [
        "df = df[df['Analysis'] != 'Neutral']"
      ]
    },
    {
      "cell_type": "code",
      "execution_count": 16,
      "id": "b041824e",
      "metadata": {
        "colab": {
          "base_uri": "https://localhost:8080/",
          "height": 330
        },
        "id": "b041824e",
        "outputId": "fa058eb8-84fa-4cb0-8863-3818f41e65a9"
      },
      "outputs": [
        {
          "output_type": "display_data",
          "data": {
            "text/plain": [
              "<Figure size 432x288 with 1 Axes>"
            ],
            "image/png": "[encoded data removed]"
          },
          "metadata": {
            "needs_background": "light"
          }
        }
      ],
      "source": [
        "ptweets=df[df.Analysis=='Positive']\n",
        "ptweets=ptweets['tweet_full_text']\n",
        "round((ptweets.shape[0]/df.shape[0])*100,1)\n",
        "## get percentage of negative tweets\n",
        "ntweets=df[df.Analysis=='Negative']\n",
        "round((ntweets.shape[0]/df.shape[0])*100,1)\n",
        "## show value counts\n",
        "df['Analysis'].value_counts()\n",
        "## plot visulatisation of count\n",
        "plt.title('Sentiment Analysis')\n",
        "plt.xlabel('Sentiments') \n",
        "plt.ylabel('Counts')\n",
        "df['Analysis'].value_counts().plot(kind='bar')\n",
        "plt.show()"
      ]
    },
    {
      "cell_type": "markdown",
      "id": "7c66387f",
      "metadata": {
        "id": "7c66387f"
      },
      "source": [
        "<b> The figure above shows that the positive sentiments are way higher(more than double) the negative sentiments<b>"
      ]
    },
    {
      "cell_type": "code",
      "execution_count": 17,
      "id": "74c0ac02",
      "metadata": {
        "colab": {
          "base_uri": "https://localhost:8080/"
        },
        "id": "74c0ac02",
        "outputId": "75fb96e1-986d-4180-846e-458ba2278bf3"
      },
      "outputs": [
        {
          "output_type": "stream",
          "name": "stderr",
          "text": [
            "<ipython-input-17-06661aec017c>:2: SettingWithCopyWarning: \n",
            "A value is trying to be set on a copy of a slice from a DataFrame.\n",
            "Try using .loc[row_indexer,col_indexer] = value instead\n",
            "\n",
            "See the caveats in the documentation: https://pandas.pydata.org/pandas-docs/stable/user_guide/indexing.html#returning-a-view-versus-a-copy\n",
            "  df['Analysis'] = df['Analysis'].map({'Positive': 1, 'Negative': 0})\n"
          ]
        }
      ],
      "source": [
        "# Using map function\n",
        "df['Analysis'] = df['Analysis'].map({'Positive': 1, 'Negative': 0})"
      ]
    },
    {
      "cell_type": "code",
      "execution_count": 18,
      "id": "85c1c6ca",
      "metadata": {
        "colab": {
          "base_uri": "https://localhost:8080/"
        },
        "id": "85c1c6ca",
        "outputId": "e0d8d587-bca1-4070-d3b1-8029f376eec1"
      },
      "outputs": [
        {
          "output_type": "stream",
          "name": "stderr",
          "text": [
            "[nltk_data] Downloading package stopwords to /root/nltk_data...\n",
            "[nltk_data]   Unzipping corpora/stopwords.zip.\n"
          ]
        },
        {
          "output_type": "execute_result",
          "data": {
            "text/plain": [
              "['i',\n",
              " 'me',\n",
              " 'my',\n",
              " 'myself',\n",
              " 'we',\n",
              " 'our',\n",
              " 'ours',\n",
              " 'ourselves',\n",
              " 'you',\n",
              " \"you're\",\n",
              " \"you've\",\n",
              " \"you'll\",\n",
              " \"you'd\",\n",
              " 'your',\n",
              " 'yours',\n",
              " 'yourself',\n",
              " 'yourselves',\n",
              " 'he',\n",
              " 'him',\n",
              " 'his',\n",
              " 'himself',\n",
              " 'she',\n",
              " \"she's\",\n",
              " 'her',\n",
              " 'hers',\n",
              " 'herself',\n",
              " 'it',\n",
              " \"it's\",\n",
              " 'its',\n",
              " 'itself',\n",
              " 'they',\n",
              " 'them',\n",
              " 'their',\n",
              " 'theirs',\n",
              " 'themselves',\n",
              " 'what',\n",
              " 'which',\n",
              " 'who',\n",
              " 'whom',\n",
              " 'this',\n",
              " 'that',\n",
              " \"that'll\",\n",
              " 'these',\n",
              " 'those',\n",
              " 'am',\n",
              " 'is',\n",
              " 'are',\n",
              " 'was',\n",
              " 'were',\n",
              " 'be',\n",
              " 'been',\n",
              " 'being',\n",
              " 'have',\n",
              " 'has',\n",
              " 'had',\n",
              " 'having',\n",
              " 'do',\n",
              " 'does',\n",
              " 'did',\n",
              " 'doing',\n",
              " 'a',\n",
              " 'an',\n",
              " 'the',\n",
              " 'and',\n",
              " 'but',\n",
              " 'if',\n",
              " 'or',\n",
              " 'because',\n",
              " 'as',\n",
              " 'until',\n",
              " 'while',\n",
              " 'of',\n",
              " 'at',\n",
              " 'by',\n",
              " 'for',\n",
              " 'with',\n",
              " 'about',\n",
              " 'against',\n",
              " 'between',\n",
              " 'into',\n",
              " 'through',\n",
              " 'during',\n",
              " 'before',\n",
              " 'after',\n",
              " 'above',\n",
              " 'below',\n",
              " 'to',\n",
              " 'from',\n",
              " 'up',\n",
              " 'down',\n",
              " 'in',\n",
              " 'out',\n",
              " 'on',\n",
              " 'off',\n",
              " 'over',\n",
              " 'under',\n",
              " 'again',\n",
              " 'further',\n",
              " 'then',\n",
              " 'once',\n",
              " 'here',\n",
              " 'there',\n",
              " 'when',\n",
              " 'where',\n",
              " 'why',\n",
              " 'how',\n",
              " 'all',\n",
              " 'any',\n",
              " 'both',\n",
              " 'each',\n",
              " 'few',\n",
              " 'more',\n",
              " 'most',\n",
              " 'other',\n",
              " 'some',\n",
              " 'such',\n",
              " 'no',\n",
              " 'nor',\n",
              " 'not',\n",
              " 'only',\n",
              " 'own',\n",
              " 'same',\n",
              " 'so',\n",
              " 'than',\n",
              " 'too',\n",
              " 'very',\n",
              " 's',\n",
              " 't',\n",
              " 'can',\n",
              " 'will',\n",
              " 'just',\n",
              " 'don',\n",
              " \"don't\",\n",
              " 'should',\n",
              " \"should've\",\n",
              " 'now',\n",
              " 'd',\n",
              " 'll',\n",
              " 'm',\n",
              " 'o',\n",
              " 're',\n",
              " 've',\n",
              " 'y',\n",
              " 'ain',\n",
              " 'aren',\n",
              " \"aren't\",\n",
              " 'couldn',\n",
              " \"couldn't\",\n",
              " 'didn',\n",
              " \"didn't\",\n",
              " 'doesn',\n",
              " \"doesn't\",\n",
              " 'hadn',\n",
              " \"hadn't\",\n",
              " 'hasn',\n",
              " \"hasn't\",\n",
              " 'haven',\n",
              " \"haven't\",\n",
              " 'isn',\n",
              " \"isn't\",\n",
              " 'ma',\n",
              " 'mightn',\n",
              " \"mightn't\",\n",
              " 'mustn',\n",
              " \"mustn't\",\n",
              " 'needn',\n",
              " \"needn't\",\n",
              " 'shan',\n",
              " \"shan't\",\n",
              " 'shouldn',\n",
              " \"shouldn't\",\n",
              " 'wasn',\n",
              " \"wasn't\",\n",
              " 'weren',\n",
              " \"weren't\",\n",
              " 'won',\n",
              " \"won't\",\n",
              " 'wouldn',\n",
              " \"wouldn't\"]"
            ]
          },
          "metadata": {},
          "execution_count": 18
        }
      ],
      "source": [
        "import nltk\n",
        "nltk.download('stopwords')\n",
        "from nltk.corpus import stopwords\n",
        "stopwords.words('english')"
      ]
    },
    {
      "cell_type": "code",
      "execution_count": 19,
      "id": "06da954b",
      "metadata": {
        "id": "06da954b"
      },
      "outputs": [],
      "source": [
        "from sklearn.feature_extraction.text import CountVectorizer\n",
        "sample_new = ['This is first method.', 'This method is the second method.', 'This new one is the third one.' ]"
      ]
    },
    {
      "cell_type": "code",
      "execution_count": 20,
      "id": "e91a72be",
      "metadata": {
        "id": "e91a72be"
      },
      "outputs": [],
      "source": [
        "vectorizer = CountVectorizer()\n",
        "X = vectorizer.fit_transform(sample_new)"
      ]
    },
    {
      "cell_type": "code",
      "execution_count": 21,
      "id": "482f88ff",
      "metadata": {
        "colab": {
          "base_uri": "https://localhost:8080/"
        },
        "id": "482f88ff",
        "outputId": "f6f9f854-2a30-4b11-c8a1-f9d873b52317"
      },
      "outputs": [
        {
          "output_type": "stream",
          "name": "stdout",
          "text": [
            "['first', 'is', 'method', 'new', 'one', 'second', 'the', 'third', 'this']\n"
          ]
        },
        {
          "output_type": "stream",
          "name": "stderr",
          "text": [
            "/usr/local/lib/python3.8/dist-packages/sklearn/utils/deprecation.py:87: FutureWarning: Function get_feature_names is deprecated; get_feature_names is deprecated in 1.0 and will be removed in 1.2. Please use get_feature_names_out instead.\n",
            "  warnings.warn(msg, category=FutureWarning)\n"
          ]
        }
      ],
      "source": [
        "#Lets see the extracted unique words\n",
        "print (vectorizer.get_feature_names())"
      ]
    },
    {
      "cell_type": "code",
      "execution_count": 22,
      "id": "5ef0842a",
      "metadata": {
        "colab": {
          "base_uri": "https://localhost:8080/"
        },
        "id": "5ef0842a",
        "outputId": "7effa7ea-5dc0-48b8-826e-91835b9d8708"
      },
      "outputs": [
        {
          "output_type": "execute_result",
          "data": {
            "text/plain": [
              "<3x9 sparse matrix of type '<class 'numpy.int64'>'\n",
              "\twith 15 stored elements in Compressed Sparse Row format>"
            ]
          },
          "metadata": {},
          "execution_count": 22
        }
      ],
      "source": [
        "X"
      ]
    },
    {
      "cell_type": "code",
      "execution_count": 23,
      "id": "8f9045dd",
      "metadata": {
        "colab": {
          "base_uri": "https://localhost:8080/"
        },
        "id": "8f9045dd",
        "outputId": "20adcd25-fe94-44d4-acfa-6400d7aab6f4"
      },
      "outputs": [
        {
          "output_type": "stream",
          "name": "stdout",
          "text": [
            "[[1 1 1 0 0 0 0 0 1]\n",
            " [0 1 2 0 0 1 1 0 1]\n",
            " [0 1 0 1 2 0 1 1 1]]\n"
          ]
        }
      ],
      "source": [
        "print(X.toarray())"
      ]
    },
    {
      "cell_type": "code",
      "execution_count": 24,
      "id": "8409dd93",
      "metadata": {
        "colab": {
          "base_uri": "https://localhost:8080/"
        },
        "id": "8409dd93",
        "outputId": "b3a9470b-0a0d-4494-da5b-1275613a93d8"
      },
      "outputs": [
        {
          "output_type": "stream",
          "name": "stdout",
          "text": [
            "[[1 1]\n",
            " [2 1]\n",
            " [1 3]]\n"
          ]
        }
      ],
      "source": [
        "second_sample = ['Hello World.', 'Hello Hello World', 'Hello World world world']\n",
        "XX = vectorizer.fit_transform(second_sample)\n",
        "print(XX.toarray())"
      ]
    },
    {
      "cell_type": "code",
      "execution_count": 25,
      "id": "424858c5",
      "metadata": {
        "id": "424858c5"
      },
      "outputs": [],
      "source": [
        "def text_cleaning(text):\n",
        "    remv_punc = [char for char in text.lower() if char not in string.punctuation]\n",
        "    remv_punc_join = ''.join(remv_punc)\n",
        "    remv_punc_clean = [word for word in remv_punc_join.split() if word.lower() not in stopwords.words('english')]\n",
        "    return remv_punc_clean"
      ]
    },
    {
      "cell_type": "code",
      "execution_count": 26,
      "id": "fd5d5ff2",
      "metadata": {
        "colab": {
          "base_uri": "https://localhost:8080/"
        },
        "id": "fd5d5ff2",
        "outputId": "62fa009f-95d7-4d9a-c730-e6800e267fe5"
      },
      "outputs": [
        {
          "output_type": "stream",
          "name": "stdout",
          "text": [
            "3       [according, international, center, investigati...\n",
            "5       [okay, anambra, unlucky, bad, leaders, obi, part]\n",
            "10      [dollar, almost, 900, see, agenda, wont, anybo...\n",
            "12                    [actually, wouldnt, surprise, true]\n",
            "13      [case, idea, lagos, transporters, commenced, 7...\n",
            "                              ...                        \n",
            "1209    [nigeriathe, uneducated, leading, educatedthe,...\n",
            "1212              [may, soul, rest, perfect, peace, amin]\n",
            "1213    [peter, obi, needs, start, throwing, jabs, man...\n",
            "1214    [27, 1, see, whos, talking, someone, dropped, ...\n",
            "1215    [attending, debate, political, gathering, eye,...\n",
            "Name: tweet_full_text, Length: 534, dtype: object\n"
          ]
        }
      ],
      "source": [
        "#Lets visualize the newly created function\n",
        "tweets_df_clean = df['tweet_full_text'].apply(text_cleaning)\n",
        "print(tweets_df_clean)"
      ]
    },
    {
      "cell_type": "code",
      "execution_count": 27,
      "id": "4ef560b2",
      "metadata": {
        "id": "4ef560b2"
      },
      "outputs": [],
      "source": [
        "vectorizer_analyzer = CountVectorizer(analyzer = text_cleaning)\n",
        "countvectorizer_tweets = CountVectorizer(analyzer= text_cleaning, dtype= 'uint8').fit_transform(df['tweet_full_text']).toarray()"
      ]
    },
    {
      "cell_type": "markdown",
      "id": "41081420",
      "metadata": {
        "id": "41081420"
      },
      "source": [
        "# MODEL BUILDING"
      ]
    },
    {
      "cell_type": "markdown",
      "id": "a32308f8",
      "metadata": {
        "id": "a32308f8"
      },
      "source": [
        "<b>Naive Bayes<b>"
      ]
    },
    {
      "cell_type": "code",
      "execution_count": 28,
      "id": "03a5950d",
      "metadata": {
        "id": "03a5950d"
      },
      "outputs": [],
      "source": [
        "from sklearn.model_selection import train_test_split\n",
        "# Split into training and testing data\n",
        "X_features = countvectorizer_tweets\n",
        "y_label = df['Analysis']"
      ]
    },
    {
      "cell_type": "code",
      "execution_count": 29,
      "id": "19ae957f",
      "metadata": {
        "id": "19ae957f"
      },
      "outputs": [],
      "source": [
        "from sklearn.model_selection import train_test_split\n",
        "X_train, X_test, y_train, y_test = train_test_split(X_features, y_label, test_size = 0.2, random_state = 1)"
      ]
    },
    {
      "cell_type": "code",
      "execution_count": 30,
      "id": "67da858f",
      "metadata": {
        "colab": {
          "base_uri": "https://localhost:8080/"
        },
        "id": "67da858f",
        "outputId": "c545632a-0790-4afb-b99d-3caccf4842bc"
      },
      "outputs": [
        {
          "output_type": "execute_result",
          "data": {
            "text/plain": [
              "MultinomialNB()"
            ]
          },
          "metadata": {},
          "execution_count": 30
        }
      ],
      "source": [
        "from sklearn.naive_bayes import MultinomialNB\n",
        "NaiveBclassifier = MultinomialNB()\n",
        "NaiveBclassifier.fit(X_train,y_train)"
      ]
    },
    {
      "cell_type": "code",
      "execution_count": 31,
      "id": "0a8a0acf",
      "metadata": {
        "id": "0a8a0acf"
      },
      "outputs": [],
      "source": [
        "#Analyzing the model performance\n",
        "from sklearn.metrics import classification_report, confusion_matrix"
      ]
    },
    {
      "cell_type": "code",
      "execution_count": 32,
      "id": "ea4e991a",
      "metadata": {
        "id": "ea4e991a"
      },
      "outputs": [],
      "source": [
        "# Predicting test cases\n",
        "y_pred_test = NaiveBclassifier.predict(X_test)"
      ]
    },
    {
      "cell_type": "code",
      "execution_count": 33,
      "id": "b204d4c1",
      "metadata": {
        "colab": {
          "base_uri": "https://localhost:8080/",
          "height": 283
        },
        "id": "b204d4c1",
        "outputId": "8cee2ec8-d396-42ec-e907-042ab0383057"
      },
      "outputs": [
        {
          "output_type": "execute_result",
          "data": {
            "text/plain": [
              "<matplotlib.axes._subplots.AxesSubplot at 0x7f2cd22ac550>"
            ]
          },
          "metadata": {},
          "execution_count": 33
        },
        {
          "output_type": "display_data",
          "data": {
            "text/plain": [
              "<Figure size 432x288 with 2 Axes>"
            ],
            "image/png": "[encoded data removed]"
          },
          "metadata": {
            "needs_background": "light"
          }
        }
      ],
      "source": [
        "import seaborn as sns\n",
        "# Confusion matrix\n",
        "cm = confusion_matrix(y_test, y_pred_test)\n",
        "sns.heatmap(cm, annot= True)"
      ]
    },
    {
      "cell_type": "code",
      "execution_count": 34,
      "id": "bbe93ab6",
      "metadata": {
        "colab": {
          "base_uri": "https://localhost:8080/"
        },
        "id": "bbe93ab6",
        "outputId": "087321b2-54c3-4f08-9d12-3bcf995730ec"
      },
      "outputs": [
        {
          "output_type": "stream",
          "name": "stdout",
          "text": [
            "Accuracy: 0.7102803738317757\n"
          ]
        }
      ],
      "source": [
        "#Import scikit-learn metrics module for accuracy calculation\n",
        "from sklearn import metrics\n",
        "\n",
        "# Model Accuracy, how often is the classifier correct?\n",
        "print(\"Accuracy:\",metrics.accuracy_score(y_test, y_pred_test))"
      ]
    },
    {
      "cell_type": "code",
      "execution_count": 35,
      "id": "db1325f5",
      "metadata": {
        "colab": {
          "base_uri": "https://localhost:8080/"
        },
        "id": "db1325f5",
        "outputId": "141a07de-a370-427e-ce39-9479553ed04b"
      },
      "outputs": [
        {
          "output_type": "stream",
          "name": "stdout",
          "text": [
            "              precision    recall  f1-score   support\n",
            "\n",
            "           0       0.68      0.60      0.64        45\n",
            "           1       0.73      0.79      0.76        62\n",
            "\n",
            "    accuracy                           0.71       107\n",
            "   macro avg       0.70      0.70      0.70       107\n",
            "weighted avg       0.71      0.71      0.71       107\n",
            "\n"
          ]
        }
      ],
      "source": [
        "from sklearn.metrics import classification_report\n",
        "print(classification_report(y_test, y_pred_test))"
      ]
    },
    {
      "cell_type": "markdown",
      "id": "97092067",
      "metadata": {
        "id": "97092067"
      },
      "source": [
        "<b> The results show that the Naive Bayes classififer has an accuracy of 71.0%<b>"
      ]
    },
    {
      "cell_type": "code",
      "execution_count": 36,
      "id": "65fd9ad2",
      "metadata": {
        "colab": {
          "base_uri": "https://localhost:8080/"
        },
        "id": "65fd9ad2",
        "outputId": "1dbf0460-f4a3-4538-89ea-410f1089cb8c"
      },
      "outputs": [
        {
          "output_type": "execute_result",
          "data": {
            "text/plain": [
              "LogisticRegression()"
            ]
          },
          "metadata": {},
          "execution_count": 36
        }
      ],
      "source": [
        "from sklearn.linear_model import LogisticRegression\n",
        "from sklearn import metrics\n",
        "logreg = LogisticRegression()\n",
        "logreg.fit(X_train, y_train)"
      ]
    },
    {
      "cell_type": "code",
      "execution_count": 37,
      "id": "19da028b",
      "metadata": {
        "colab": {
          "base_uri": "https://localhost:8080/"
        },
        "id": "19da028b",
        "outputId": "7034c98c-9956-4974-f7a5-162e75f28b4a"
      },
      "outputs": [
        {
          "output_type": "stream",
          "name": "stdout",
          "text": [
            "Accuracy of logistic regression classifier on test set: 0.69\n"
          ]
        }
      ],
      "source": [
        "y_pred = logreg.predict(X_test)\n",
        "print('Accuracy of logistic regression classifier on test set: {:.2f}'.format(logreg.score(X_test, y_test)))"
      ]
    },
    {
      "cell_type": "code",
      "execution_count": 38,
      "id": "405c8231",
      "metadata": {
        "colab": {
          "base_uri": "https://localhost:8080/",
          "height": 283
        },
        "id": "405c8231",
        "outputId": "20f7e93f-9ba5-4163-bc30-8e63e890bd5e"
      },
      "outputs": [
        {
          "output_type": "execute_result",
          "data": {
            "text/plain": [
              "<matplotlib.axes._subplots.AxesSubplot at 0x7f2cd2cef580>"
            ]
          },
          "metadata": {},
          "execution_count": 38
        },
        {
          "output_type": "display_data",
          "data": {
            "text/plain": [
              "<Figure size 432x288 with 2 Axes>"
            ],
            "image/png": "[encoded data removed]"
          },
          "metadata": {
            "needs_background": "light"
          }
        }
      ],
      "source": [
        "cm = confusion_matrix(y_test, y_pred)\n",
        "sns.heatmap(cm, annot= True)"
      ]
    },
    {
      "cell_type": "code",
      "execution_count": 39,
      "id": "26940ccb",
      "metadata": {
        "colab": {
          "base_uri": "https://localhost:8080/"
        },
        "id": "26940ccb",
        "outputId": "e57e435c-162b-4716-de79-46dbc3137409"
      },
      "outputs": [
        {
          "output_type": "stream",
          "name": "stdout",
          "text": [
            "              precision    recall  f1-score   support\n",
            "\n",
            "           0       0.83      0.33      0.48        45\n",
            "           1       0.66      0.95      0.78        62\n",
            "\n",
            "    accuracy                           0.69       107\n",
            "   macro avg       0.75      0.64      0.63       107\n",
            "weighted avg       0.73      0.69      0.65       107\n",
            "\n"
          ]
        }
      ],
      "source": [
        "from sklearn.metrics import classification_report\n",
        "print(classification_report(y_test, y_pred))"
      ]
    },
    {
      "cell_type": "markdown",
      "id": "9232bdbc",
      "metadata": {
        "id": "9232bdbc"
      },
      "source": [
        "<b> Support Vector Machine<b>"
      ]
    },
    {
      "cell_type": "code",
      "execution_count": 40,
      "id": "0361659e",
      "metadata": {
        "colab": {
          "base_uri": "https://localhost:8080/"
        },
        "id": "0361659e",
        "outputId": "fc6c58a9-7d76-47ce-8e1f-fcf6ce990d1a"
      },
      "outputs": [
        {
          "output_type": "execute_result",
          "data": {
            "text/plain": [
              "SVC(kernel='linear')"
            ]
          },
          "metadata": {},
          "execution_count": 40
        }
      ],
      "source": [
        "from sklearn.svm import SVC  \n",
        "clf = SVC(kernel='linear') \n",
        "  \n",
        "# fitting x samples and y classes \n",
        "clf.fit(X_train, y_train) "
      ]
    },
    {
      "cell_type": "code",
      "execution_count": 41,
      "id": "452e9a1c",
      "metadata": {
        "colab": {
          "base_uri": "https://localhost:8080/"
        },
        "id": "452e9a1c",
        "outputId": "4eeb9316-bdc2-4b66-8e29-9e5a4a8e0bd9"
      },
      "outputs": [
        {
          "output_type": "stream",
          "name": "stdout",
          "text": [
            "Accuracy of Support Vector Machine classifier on test set: 0.73\n"
          ]
        }
      ],
      "source": [
        "y_pred = clf .predict(X_test)\n",
        "print('Accuracy of Support Vector Machine classifier on test set: {:.2f}'.format(clf.score(X_test, y_test)))"
      ]
    },
    {
      "cell_type": "code",
      "execution_count": 42,
      "id": "e4fa5d56",
      "metadata": {
        "colab": {
          "base_uri": "https://localhost:8080/",
          "height": 283
        },
        "id": "e4fa5d56",
        "outputId": "f4812e26-cdc9-42c8-cfc3-b7a9e431d80d"
      },
      "outputs": [
        {
          "output_type": "execute_result",
          "data": {
            "text/plain": [
              "<matplotlib.axes._subplots.AxesSubplot at 0x7f2cd27a23a0>"
            ]
          },
          "metadata": {},
          "execution_count": 42
        },
        {
          "output_type": "display_data",
          "data": {
            "text/plain": [
              "<Figure size 432x288 with 2 Axes>"
            ],
            "image/png": "[encoded data removed]"
          },
          "metadata": {
            "needs_background": "light"
          }
        }
      ],
      "source": [
        "cm = confusion_matrix(y_test, y_pred)\n",
        "sns.heatmap(cm, annot= True)"
      ]
    },
    {
      "cell_type": "code",
      "execution_count": 43,
      "id": "ce6da874",
      "metadata": {
        "colab": {
          "base_uri": "https://localhost:8080/"
        },
        "id": "ce6da874",
        "outputId": "246b3504-feb3-459c-f7d2-64afd483ce3e"
      },
      "outputs": [
        {
          "output_type": "stream",
          "name": "stdout",
          "text": [
            "              precision    recall  f1-score   support\n",
            "\n",
            "           0       0.74      0.56      0.63        45\n",
            "           1       0.73      0.85      0.79        62\n",
            "\n",
            "    accuracy                           0.73       107\n",
            "   macro avg       0.73      0.71      0.71       107\n",
            "weighted avg       0.73      0.73      0.72       107\n",
            "\n"
          ]
        }
      ],
      "source": [
        "from sklearn.metrics import classification_report\n",
        "print(classification_report(y_test, y_pred))"
      ]
    },
    {
      "cell_type": "markdown",
      "id": "4557afe2",
      "metadata": {
        "id": "4557afe2"
      },
      "source": [
        "<b>K-Nearest Neighbor<b>"
      ]
    },
    {
      "cell_type": "code",
      "execution_count": 44,
      "id": "a0a96a4f",
      "metadata": {
        "id": "a0a96a4f"
      },
      "outputs": [],
      "source": [
        "from sklearn.neighbors import KNeighborsClassifier\n",
        "neighbors = np.arange(1, 9)\n",
        "train_accuracy = np.empty(len(neighbors))\n",
        "test_accuracy = np.empty(len(neighbors))\n",
        "  \n",
        "# Loop over K values\n",
        "for i, k in enumerate(neighbors):\n",
        "    knn = KNeighborsClassifier(n_neighbors=k)\n",
        "    knn.fit(X_train, y_train)"
      ]
    },
    {
      "cell_type": "code",
      "execution_count": 45,
      "id": "8efb6880",
      "metadata": {
        "colab": {
          "base_uri": "https://localhost:8080/"
        },
        "id": "8efb6880",
        "outputId": "dfe4ddb0-e24b-44c7-90a3-0a47b52f9b1c"
      },
      "outputs": [
        {
          "output_type": "stream",
          "name": "stdout",
          "text": [
            "Accuracy of K-Nearest Neighbor classifier on test set: 0.54\n"
          ]
        }
      ],
      "source": [
        "y_pred = knn .predict(X_test)\n",
        "print('Accuracy of K-Nearest Neighbor classifier on test set: {:.2f}'.format(knn.score(X_test, y_test)))"
      ]
    },
    {
      "cell_type": "markdown",
      "id": "f2ce4ae0",
      "metadata": {
        "id": "f2ce4ae0"
      },
      "source": [
        "<b>Latent Dirichlet Allocation<b>"
      ]
    },
    {
      "cell_type": "code",
      "execution_count": 46,
      "id": "14ca0bc0",
      "metadata": {
        "id": "14ca0bc0"
      },
      "outputs": [],
      "source": [
        "import gensim\n",
        "from gensim import corpora, models, similarities\n",
        "from gensim.parsing.preprocessing import STOPWORDS\n",
        "from nltk.corpus import stopwords"
      ]
    },
    {
      "cell_type": "markdown",
      "id": "a6a1ad95",
      "metadata": {
        "id": "a6a1ad95"
      },
      "source": [
        "<b>Examining  the full vocabulary of the tweets<b> "
      ]
    },
    {
      "cell_type": "code",
      "execution_count": 47,
      "id": "49d9d0ae",
      "metadata": {
        "colab": {
          "base_uri": "https://localhost:8080/"
        },
        "id": "49d9d0ae",
        "outputId": "c7d58298-7f76-41bc-cc7d-ccae9c7416a5"
      },
      "outputs": [
        {
          "output_type": "stream",
          "name": "stdout",
          "text": [
            "73125 words total, with a vocabulary size of 67\n",
            "Max tweet length is 329\n"
          ]
        }
      ],
      "source": [
        "all_words = [word for tokens in df['tweet_full_text'] for word in tokens]\n",
        "tweet_lengths = [len(tokens) for tokens in df['tweet_full_text']]\n",
        "vocab = sorted(list(set(all_words)))\n",
        "\n",
        "print('{} words total, with a vocabulary size of {}'.format(len(all_words), len(vocab)))\n",
        "print('Max tweet length is {}'.format(max(tweet_lengths)))"
      ]
    },
    {
      "cell_type": "markdown",
      "id": "b97029fb",
      "metadata": {
        "id": "b97029fb"
      },
      "source": [
        "<b>I can build a dictionary to make the word cloud once I know the word frequencies.<b>"
      ]
    },
    {
      "cell_type": "code",
      "execution_count": 48,
      "id": "ef5e6439",
      "metadata": {
        "colab": {
          "base_uri": "https://localhost:8080/"
        },
        "id": "ef5e6439",
        "outputId": "f1b7a3ec-ea6c-408e-a31d-45b0b59921c1"
      },
      "outputs": [
        {
          "output_type": "execute_result",
          "data": {
            "text/plain": [
              "[(' ', 14696),\n",
              " ('e', 6544),\n",
              " ('t', 4618),\n",
              " ('o', 4501),\n",
              " ('a', 4411),\n",
              " ('i', 4047),\n",
              " ('n', 3813),\n",
              " ('s', 3480),\n",
              " ('r', 3054),\n",
              " ('h', 2535),\n",
              " ('l', 2310),\n",
              " ('u', 1910),\n",
              " ('d', 1873),\n",
              " ('m', 1340),\n",
              " ('c', 1327),\n",
              " ('y', 1311),\n",
              " ('g', 1268),\n",
              " ('p', 1071),\n",
              " ('w', 1023),\n",
              " ('f', 1002),\n",
              " ('b', 931),\n",
              " ('v', 604),\n",
              " ('k', 508),\n",
              " ('A', 348),\n",
              " ('I', 314),\n",
              " ('T', 288),\n",
              " ('\\n', 281),\n",
              " ('N', 274),\n",
              " ('2', 253),\n",
              " ('0', 220)]"
            ]
          },
          "metadata": {},
          "execution_count": 48
        }
      ],
      "source": [
        "from nltk.probability import FreqDist\n",
        "\n",
        "#iterate through each tweet, then each token in each tweet, and store in one list\n",
        "flat_words = [item for sublist in df['tweet_full_text'] for item in sublist]\n",
        "\n",
        "word_freq = FreqDist(flat_words)\n",
        "\n",
        "word_freq.most_common(30)"
      ]
    },
    {
      "cell_type": "code",
      "execution_count": 49,
      "id": "a9c69dc9",
      "metadata": {
        "id": "a9c69dc9"
      },
      "outputs": [],
      "source": [
        "#retrieve word and count from FreqDist tuples\n",
        "\n",
        "most_common_count = [x[1] for x in word_freq.most_common(30)]\n",
        "most_common_word = [x[0] for x in word_freq.most_common(30)]\n",
        "\n",
        "#create dictionary mapping of word count\n",
        "top_30_dictionary = dict(zip(most_common_word, most_common_count))"
      ]
    },
    {
      "cell_type": "code",
      "execution_count": 50,
      "id": "77a19dcd",
      "metadata": {
        "colab": {
          "base_uri": "https://localhost:8080/",
          "height": 433
        },
        "id": "77a19dcd",
        "outputId": "36e5e7ce-8678-44f2-e896-3ddf0af6227d"
      },
      "outputs": [
        {
          "output_type": "display_data",
          "data": {
            "text/plain": [
              "<Figure size 864x576 with 1 Axes>"
            ],
            "image/png": "[encoded data removed]"
          },
          "metadata": {
            "needs_background": "light"
          }
        }
      ],
      "source": [
        "from wordcloud import WordCloud\n",
        "\n",
        "#Create Word Cloud of top 30 words\n",
        "wordcloud = WordCloud(colormap = 'Accent', background_color = 'black')\\\n",
        ".generate_from_frequencies(top_30_dictionary)\n",
        "\n",
        "#plot with matplotlib\n",
        "plt.figure(figsize=(12, 8))\n",
        "plt.imshow(wordcloud, interpolation='bilinear')\n",
        "plt.axis(\"off\")\n",
        "plt.tight_layout(pad=0)\n",
        "plt.savefig('top_30_cloud.png')\n",
        "\n",
        "plt.show()"
      ]
    },
    {
      "cell_type": "code",
      "execution_count": 51,
      "id": "1a4ce6f2",
      "metadata": {
        "id": "1a4ce6f2"
      },
      "outputs": [],
      "source": [
        "from sklearn.feature_extraction.text import TfidfVectorizer\n",
        "tweets=pd.DataFrame(tweets)\n",
        "docs = tweets['tweet_full_text']\n",
        "df=pd.DataFrame(docs)\n",
        "vectorizer = TfidfVectorizer()\n",
        "df = vectorizer.fit_transform(docs)"
      ]
    },
    {
      "cell_type": "code",
      "execution_count": 52,
      "id": "fc412b54",
      "metadata": {
        "colab": {
          "base_uri": "https://localhost:8080/"
        },
        "id": "fc412b54",
        "outputId": "6821065f-6fe1-4d5b-bb7f-29c952e2261c"
      },
      "outputs": [
        {
          "output_type": "stream",
          "name": "stdout",
          "text": [
            "(1217, 4060)\n"
          ]
        }
      ],
      "source": [
        "print(df.shape)"
      ]
    },
    {
      "cell_type": "code",
      "execution_count": 53,
      "id": "f50c71ae",
      "metadata": {
        "colab": {
          "base_uri": "https://localhost:8080/"
        },
        "id": "f50c71ae",
        "outputId": "007a1a28-e27f-432a-d55a-736c154dacbf"
      },
      "outputs": [
        {
          "output_type": "execute_result",
          "data": {
            "text/plain": [
              "{'according': 0,\n",
              " 'agberos': 1,\n",
              " 'also': 2,\n",
              " 'average': 3,\n",
              " 'billion': 4,\n",
              " 'center': 5,\n",
              " 'commercial': 6,\n",
              " 'day': 7,\n",
              " 'driver': 8,\n",
              " 'drivers': 9,\n",
              " 'every': 10,\n",
              " 'icir': 11,\n",
              " 'international': 12,\n",
              " 'investigative': 13,\n",
              " 'known': 14,\n",
              " 'least': 15,\n",
              " 'means': 16,\n",
              " 'million': 17,\n",
              " 'month': 18,\n",
              " 'n225': 19,\n",
              " 'n3000': 20,\n",
              " 'n675': 21,\n",
              " 'pay': 22,\n",
              " 'pays': 23,\n",
              " 'reporting': 24,\n",
              " 'tickets': 25,\n",
              " 'touts': 26,\n",
              " 'vehicle': 27,\n",
              " 'anambra': 28,\n",
              " 'bad': 29,\n",
              " 'leaders': 30,\n",
              " 'obi': 31,\n",
              " 'okay': 32,\n",
              " 'part': 33,\n",
              " 'unlucky': 34,\n",
              " '900': 35,\n",
              " 'agenda': 36,\n",
              " 'almost': 37,\n",
              " 'angry': 38,\n",
              " 'anybody': 39,\n",
              " 'dollar': 40,\n",
              " 'pmb': 41,\n",
              " 'see': 42,\n",
              " 'wont': 43,\n",
              " 'actually': 44,\n",
              " 'surprise': 45,\n",
              " 'true': 46,\n",
              " 'wouldnt': 47,\n",
              " '7': 48,\n",
              " '75000': 49,\n",
              " 'area': 50,\n",
              " 'authority': 51,\n",
              " 'buses': 52,\n",
              " 'case': 53,\n",
              " 'clarity': 54,\n",
              " 'commenced': 55,\n",
              " 'danfos': 56,\n",
              " 'days': 57,\n",
              " 'estimates': 58,\n",
              " 'give': 59,\n",
              " 'idea': 60,\n",
              " 'lagos': 61,\n",
              " 'lamata': 62,\n",
              " 'let': 63,\n",
              " 'make': 64,\n",
              " 'metropolitan': 65,\n",
              " 'really': 66,\n",
              " 'strike': 67,\n",
              " 'transport': 68,\n",
              " 'transporters': 69,\n",
              " 'accredited': 70,\n",
              " 'agree': 71,\n",
              " 'allow': 72,\n",
              " 'didnt': 73,\n",
              " 'enter': 74,\n",
              " 'failed': 75,\n",
              " 'guy': 76,\n",
              " 'honoured': 77,\n",
              " 'inside': 78,\n",
              " 'kept': 79,\n",
              " 'last': 80,\n",
              " 'later': 81,\n",
              " 'lcci': 82,\n",
              " 'media': 83,\n",
              " 'paid': 84,\n",
              " 'press': 85,\n",
              " 'release': 86,\n",
              " 'saying': 87,\n",
              " 'sent': 88,\n",
              " 'since': 89,\n",
              " 'want': 90,\n",
              " 'wasnt': 91,\n",
              " 'write': 92,\n",
              " 'agreefollow': 93,\n",
              " 'always': 94,\n",
              " 'amp': 95,\n",
              " 'call': 96,\n",
              " 'campu': 97,\n",
              " 'cant': 98,\n",
              " 'contest': 99,\n",
              " 'control': 100,\n",
              " 'democracy': 101,\n",
              " 'demonstrating': 102,\n",
              " 'disciple': 103,\n",
              " 'emperorismlordship': 104,\n",
              " 'everyone': 105,\n",
              " 'expect': 106,\n",
              " 'fair': 107,\n",
              " 'idp': 108,\n",
              " 'politically': 109,\n",
              " 'politics': 110,\n",
              " 'shouldnt': 111,\n",
              " 'symbol': 112,\n",
              " 'u': 113,\n",
              " 'unready': 114,\n",
              " 'wetẹ': 115,\n",
              " 'wt': 116,\n",
              " 'clear': 117,\n",
              " 'doesnt': 118,\n",
              " 'e': 119,\n",
              " 'election': 120,\n",
              " 'establishment': 121,\n",
              " 'go': 122,\n",
              " 'people': 123,\n",
              " 'shock': 124,\n",
              " 'street': 125,\n",
              " 'succeed': 126,\n",
              " 'una': 127,\n",
              " 'win': 128,\n",
              " 'alive': 129,\n",
              " 'bat': 130,\n",
              " 'children': 131,\n",
              " 'collect': 132,\n",
              " 'die': 133,\n",
              " 'enjoy': 134,\n",
              " 'enough': 135,\n",
              " 'finish': 136,\n",
              " 'hunger': 137,\n",
              " 'like': 138,\n",
              " 'lose': 139,\n",
              " 'man': 140,\n",
              " 'money': 141,\n",
              " 'old': 142,\n",
              " 'olodo': 143,\n",
              " 'pray': 144,\n",
              " 'stay': 145,\n",
              " 'tomorrow': 146,\n",
              " 'youll': 147,\n",
              " 'coma': 148,\n",
              " 'come': 149,\n",
              " 'joke': 150,\n",
              " 'nigeria': 151,\n",
              " 'state': 152,\n",
              " '2015': 153,\n",
              " '8years': 154,\n",
              " 'abeg': 155,\n",
              " 'apc': 156,\n",
              " 'apologising': 157,\n",
              " 'campaigning': 158,\n",
              " 'done': 159,\n",
              " 'even': 160,\n",
              " 'failure': 161,\n",
              " 'god': 162,\n",
              " 'nigerians': 163,\n",
              " 'none': 164,\n",
              " 'one': 165,\n",
              " 'ooo': 166,\n",
              " 'rather': 167,\n",
              " 'said': 168,\n",
              " 'total': 169,\n",
              " 'wasted': 170,\n",
              " 'abroad': 171,\n",
              " 'aground': 172,\n",
              " 'another': 173,\n",
              " 'beds': 174,\n",
              " 'dont': 175,\n",
              " 'foreign': 176,\n",
              " 'hate': 177,\n",
              " 'hospital': 178,\n",
              " 'interests': 179,\n",
              " 'much': 180,\n",
              " 'patient': 181,\n",
              " 'receive': 182,\n",
              " 'running': 183,\n",
              " 'selfish': 184,\n",
              " 'aligning': 185,\n",
              " 'already': 186,\n",
              " 'atiku': 187,\n",
              " 'attention': 188,\n",
              " 'btw': 189,\n",
              " 'helps': 190,\n",
              " 'lot': 191,\n",
              " 'night': 192,\n",
              " 'northerners': 193,\n",
              " 'paying': 194,\n",
              " 'sleep': 195,\n",
              " 'strong': 196,\n",
              " 'whatever': 197,\n",
              " 'youve': 198,\n",
              " '2': 199,\n",
              " 'followers': 200,\n",
              " 'full': 201,\n",
              " 'lie': 202,\n",
              " 'sharing': 203,\n",
              " 'supporters': 204,\n",
              " 'white': 205,\n",
              " 'united': 206,\n",
              " 'business': 207,\n",
              " 'capitalists': 208,\n",
              " 'choice': 209,\n",
              " 'fascists': 210,\n",
              " 'ideology': 211,\n",
              " 'ifeanyiisalive': 212,\n",
              " 'life': 213,\n",
              " 'managed': 214,\n",
              " 'never': 215,\n",
              " 'nigeriahe': 216,\n",
              " 'plan': 217,\n",
              " 'tinubu': 218,\n",
              " 'tonyelumelu': 219,\n",
              " '2023elections': 220,\n",
              " 'aborted': 221,\n",
              " 'delta': 222,\n",
              " 'donation': 223,\n",
              " 'flood': 224,\n",
              " 'gbaramatuvoice': 225,\n",
              " 'lies': 226,\n",
              " 'n150m': 227,\n",
              " 'nigerian': 228,\n",
              " 'omoageges': 229,\n",
              " 'phantom': 230,\n",
              " 'read': 231,\n",
              " 'tinubus': 232,\n",
              " 'version': 233,\n",
              " 'victims': 234,\n",
              " 'visit': 235,\n",
              " 'called': 236,\n",
              " 'demented': 237,\n",
              " 'fraily': 238,\n",
              " 'iiddiiot': 239,\n",
              " 'men': 240,\n",
              " 'san': 241,\n",
              " 'sick': 242,\n",
              " 'swag': 243,\n",
              " 'think': 244,\n",
              " 'werey': 245,\n",
              " 'allah': 246,\n",
              " 'ancestoru': 247,\n",
              " 'diaspora': 248,\n",
              " 'disgraced': 249,\n",
              " 'evil': 250,\n",
              " 'hailing': 251,\n",
              " 'insha': 252,\n",
              " 'manager': 253,\n",
              " 'members': 254,\n",
              " 'oarty': 255,\n",
              " 'officially': 256,\n",
              " 'polls': 257,\n",
              " 'ur': 258,\n",
              " 'useless': 259,\n",
              " 'ever': 260,\n",
              " 'first': 261,\n",
              " 'get': 262,\n",
              " 'next': 263,\n",
              " 'place': 264,\n",
              " 'regret': 265,\n",
              " 'rooting': 266,\n",
              " 'unless': 267,\n",
              " 'visa': 268,\n",
              " 'winning': 269,\n",
              " 'behavior': 270,\n",
              " 'happen': 271,\n",
              " 'kind': 272,\n",
              " 'shall': 273,\n",
              " 'spread': 274,\n",
              " 'wants': 275,\n",
              " 'send': 276,\n",
              " 'still': 277,\n",
              " 'yet': 278,\n",
              " 'adebanjo': 279,\n",
              " 'afenifere': 280,\n",
              " 'electoral': 281,\n",
              " 'keep': 282,\n",
              " 'missing': 283,\n",
              " 'north': 284,\n",
              " 'pa': 285,\n",
              " 'required': 286,\n",
              " 'solid': 287,\n",
              " 'structure': 288,\n",
              " 'supported': 289,\n",
              " 'tribal': 290,\n",
              " 'victory': 291,\n",
              " 'votes': 292,\n",
              " 'would': 293,\n",
              " 'yall': 294,\n",
              " 'citations': 295,\n",
              " 'havr': 296,\n",
              " 'increase': 297,\n",
              " 'know': 298,\n",
              " 'listening': 299,\n",
              " 'se': 300,\n",
              " 'things': 301,\n",
              " 'thinking': 302,\n",
              " 'work': 303,\n",
              " 'bishops': 304,\n",
              " 'difference': 305,\n",
              " 'fake': 306,\n",
              " 'glory': 307,\n",
              " 'mark': 308,\n",
              " 'notice': 309,\n",
              " 'real': 310,\n",
              " '1': 311,\n",
              " 'discussed': 312,\n",
              " 'effect': 313,\n",
              " 'effects': 314,\n",
              " 'good': 315,\n",
              " 'ndigbo': 316,\n",
              " 'obviously': 317,\n",
              " 'peters': 318,\n",
              " 'skipped': 319,\n",
              " 'spell': 320,\n",
              " 'shamelessness': 321,\n",
              " 'certainly': 322,\n",
              " 'newsline': 323,\n",
              " '3': 324,\n",
              " 'aint': 325,\n",
              " 'amazed': 326,\n",
              " 'bi': 327,\n",
              " 'cheap': 328,\n",
              " 'except': 329,\n",
              " 'expecting': 330,\n",
              " 'ga': 331,\n",
              " 'im': 332,\n",
              " 'oh': 333,\n",
              " 'reply': 334,\n",
              " 'sense': 335,\n",
              " 'sure': 336,\n",
              " 'tweet': 337,\n",
              " 'şe': 338,\n",
              " 'amebo': 339,\n",
              " 'happy': 340,\n",
              " 'thank': 341,\n",
              " '2023': 342,\n",
              " 'baggages': 343,\n",
              " 'boys': 344,\n",
              " 'frankenstein': 345,\n",
              " 'hell': 346,\n",
              " 'issues': 347,\n",
              " 'micro': 348,\n",
              " 'mini': 349,\n",
              " 'monsters': 350,\n",
              " 'move': 351,\n",
              " 'mutating': 352,\n",
              " 'owoda': 353,\n",
              " 'pit': 354,\n",
              " 'questionable': 355,\n",
              " 'stop': 356,\n",
              " 'weigh': 357,\n",
              " 'apcbat': 358,\n",
              " 'back': 359,\n",
              " 'candidate': 360,\n",
              " 'cats': 361,\n",
              " 'choose': 362,\n",
              " 'demographics': 363,\n",
              " 'learn': 364,\n",
              " 'scientific': 365,\n",
              " 'seat': 366,\n",
              " 'simply': 367,\n",
              " 'take': 368,\n",
              " 'thing': 369,\n",
              " 'understand': 370,\n",
              " 'whole': 371,\n",
              " 'young': 372,\n",
              " 'arise': 373,\n",
              " 'begins': 374,\n",
              " 'brother': 375,\n",
              " 'channels': 376,\n",
              " 'direct': 377,\n",
              " 'elections': 378,\n",
              " 'else': 379,\n",
              " 'ends': 380,\n",
              " 'everything': 381,\n",
              " 'folks': 382,\n",
              " 'narrative': 383,\n",
              " 'share': 384,\n",
              " 'similarly': 385,\n",
              " 'tvs': 386,\n",
              " 'urban': 387,\n",
              " 'view': 388,\n",
              " 'world': 389,\n",
              " '16yrs': 390,\n",
              " 'despite': 391,\n",
              " 'head': 392,\n",
              " 'indicated': 393,\n",
              " 'isnt': 394,\n",
              " 'many': 395,\n",
              " 'opposition': 396,\n",
              " 'telling': 397,\n",
              " '2031': 398,\n",
              " 'laughable': 399,\n",
              " 'laughing': 400,\n",
              " 'scene': 401,\n",
              " 'deserve': 402,\n",
              " 'hits': 403,\n",
              " 'met': 404,\n",
              " 'n186': 405,\n",
              " 'n2000': 406,\n",
              " 'n972': 407,\n",
              " 'naira': 408,\n",
              " 'per': 409,\n",
              " 'unbelievable': 410,\n",
              " 'attend': 411,\n",
              " 'bcos': 412,\n",
              " 'deliver': 413,\n",
              " 'experience': 414,\n",
              " 'invite': 415,\n",
              " 'lets': 416,\n",
              " 'making': 417,\n",
              " 'noise': 418,\n",
              " 'social': 419,\n",
              " 'beans': 420,\n",
              " 'better': 421,\n",
              " 'close': 422,\n",
              " 'completely': 423,\n",
              " 'helped': 424,\n",
              " 'rest': 425,\n",
              " 'rice': 426,\n",
              " 'shear': 427,\n",
              " 'country': 428,\n",
              " 'normal': 429,\n",
              " 'single': 430,\n",
              " 'vote': 431,\n",
              " 'aseh': 432,\n",
              " 'ask': 433,\n",
              " 'baba': 434,\n",
              " 'eledua': 435,\n",
              " 'father': 436,\n",
              " 'koni': 437,\n",
              " 'koro': 438,\n",
              " 'lenu': 439,\n",
              " 'omo': 440,\n",
              " 'ounjeh': 441,\n",
              " 'remarkable': 442,\n",
              " 'son': 443,\n",
              " 'time': 444,\n",
              " 'wa': 445,\n",
              " 'adelekes': 446,\n",
              " 'anglican': 447,\n",
              " 'archbishop': 448,\n",
              " 'condolences': 449,\n",
              " 'console': 450,\n",
              " 'families': 451,\n",
              " 'join': 452,\n",
              " 'late': 453,\n",
              " 'may': 454,\n",
              " 'offer': 455,\n",
              " 'province': 456,\n",
              " 'sadlosses': 457,\n",
              " 'asking': 458,\n",
              " 'card': 459,\n",
              " 'igbo': 460,\n",
              " 'northerner': 461,\n",
              " 'obidatti2023': 462,\n",
              " 'peace': 463,\n",
              " 'seen': 464,\n",
              " 'started': 465,\n",
              " 'yoruba': 466,\n",
              " 'around': 467,\n",
              " 'dat': 468,\n",
              " 'economy': 469,\n",
              " 'flowing': 470,\n",
              " 'future': 471,\n",
              " 'honey': 472,\n",
              " 'hope': 473,\n",
              " 'indeed': 474,\n",
              " 'land': 475,\n",
              " 'look': 476,\n",
              " 'milk': 477,\n",
              " 'n': 478,\n",
              " 'outside': 479,\n",
              " 'regime': 480,\n",
              " 'sir': 481,\n",
              " 'thousands': 482,\n",
              " 'turn': 483,\n",
              " 'youths': 484,\n",
              " 'beloved': 485,\n",
              " 'braggado': 486,\n",
              " 'citizens': 487,\n",
              " 'gain': 488,\n",
              " 'governance': 489,\n",
              " 'hungry': 490,\n",
              " 'looking': 491,\n",
              " 'masses': 492,\n",
              " 'nation': 493,\n",
              " 'political': 494,\n",
              " 'stand': 495,\n",
              " 'statement': 496,\n",
              " 'statements': 497,\n",
              " 'cessation': 498,\n",
              " 'engagement': 499,\n",
              " 'leading': 500,\n",
              " 'smile': 501,\n",
              " 'well': 502,\n",
              " 'farmer': 503,\n",
              " 'imported': 504,\n",
              " 'meals': 505,\n",
              " 'job': 506,\n",
              " 'age': 507,\n",
              " 'folds': 508,\n",
              " 'home': 509,\n",
              " 'hundred': 510,\n",
              " 'wish': 511,\n",
              " 'woman': 512,\n",
              " 'anyone': 513,\n",
              " 'ready': 514,\n",
              " 'brain': 515,\n",
              " 'contraption': 516,\n",
              " 'engineered': 517,\n",
              " 'food': 518,\n",
              " 'infrastructure': 519,\n",
              " 'led': 520,\n",
              " 'living': 521,\n",
              " 'owns': 522,\n",
              " 'puts': 523,\n",
              " 'stomach': 524,\n",
              " 'table': 525,\n",
              " 'truth': 526,\n",
              " 'whoever': 527,\n",
              " 'working': 528,\n",
              " 'youre': 529,\n",
              " 'crying': 530,\n",
              " 'death': 531,\n",
              " 'dem': 532,\n",
              " 'dey': 533,\n",
              " 'dt': 534,\n",
              " 'knowing': 535,\n",
              " 'na': 536,\n",
              " 'obituary': 537,\n",
              " 'post': 538,\n",
              " '5': 539,\n",
              " '5k': 540,\n",
              " 'asleep': 541,\n",
              " 'attends': 542,\n",
              " 'best': 543,\n",
              " 'comes': 544,\n",
              " 'pharmaceutical': 545,\n",
              " 'pretending': 546,\n",
              " 'program': 547,\n",
              " 'society': 548,\n",
              " 'sowore': 549,\n",
              " 'stl': 550,\n",
              " 'today': 551,\n",
              " 'comment': 552,\n",
              " 'makes': 553,\n",
              " 'makinde': 554,\n",
              " 'seem': 555,\n",
              " 'seyi': 556,\n",
              " 'supporting': 557,\n",
              " 'timing': 558,\n",
              " 'conclusion': 559,\n",
              " 'jump': 560,\n",
              " 'quick': 561,\n",
              " 'body': 562,\n",
              " 'christ': 563,\n",
              " 'church': 564,\n",
              " 'communion': 565,\n",
              " 'confession': 566,\n",
              " 'consumed': 567,\n",
              " 'demystify': 568,\n",
              " 'holy': 569,\n",
              " 'less': 570,\n",
              " 'osinwin': 571,\n",
              " 'poisoned': 572,\n",
              " 'rat': 573,\n",
              " 'relating': 574,\n",
              " '2019': 575,\n",
              " 'babajide': 576,\n",
              " 'bottom': 577,\n",
              " 'commitment': 578,\n",
              " 'honour': 579,\n",
              " 'importantly': 580,\n",
              " 'payback': 581,\n",
              " 'pledge': 582,\n",
              " 'sanwoolu': 583,\n",
              " 'top': 584,\n",
              " 'worked': 585,\n",
              " 'build': 586,\n",
              " 'changing': 587,\n",
              " 'fitted': 588,\n",
              " 'match': 589,\n",
              " 'promising': 590,\n",
              " 'remains': 591,\n",
              " 'renewed': 592,\n",
              " 'significant': 593,\n",
              " 'suit': 594,\n",
              " 'tooli': 595,\n",
              " 'trust': 596,\n",
              " 'uncle': 597,\n",
              " 'vital': 598,\n",
              " 'incoming': 599,\n",
              " 'kogi': 600,\n",
              " 'president': 601,\n",
              " 'vice': 602,\n",
              " 'welcome': 603,\n",
              " 'dead': 604,\n",
              " 'walking': 605,\n",
              " '4tinitiative': 606,\n",
              " 'carrier': 607,\n",
              " 'lol': 608,\n",
              " 'push': 609,\n",
              " 'stil': 610,\n",
              " 'way': 611,\n",
              " 'carry': 612,\n",
              " 'cos': 613,\n",
              " 'fully': 614,\n",
              " 'wotowoto': 615,\n",
              " '07036301734': 616,\n",
              " 'berger': 617,\n",
              " 'callwhatsapp': 618,\n",
              " 'epe': 619,\n",
              " 'estate': 620,\n",
              " 'help': 621,\n",
              " 'investing': 622,\n",
              " 'investment': 623,\n",
              " 'investors': 624,\n",
              " 'jennypsuperb': 625,\n",
              " 'julius': 626,\n",
              " 'left': 627,\n",
              " 'plc': 628,\n",
              " 'please': 629,\n",
              " 'plots': 630,\n",
              " 'realtor': 631,\n",
              " 'smart': 632,\n",
              " 'viable': 633,\n",
              " 'dad': 634,\n",
              " 'blabbing': 635,\n",
              " 'blocked': 636,\n",
              " 'campaign': 637,\n",
              " 'event': 638,\n",
              " 'headed': 639,\n",
              " 'made': 640,\n",
              " 'nigga': 641,\n",
              " 'teeth': 642,\n",
              " 'hes': 643,\n",
              " 'mediocre': 644,\n",
              " '2022': 645,\n",
              " '5050': 646,\n",
              " 'airport': 647,\n",
              " 'become': 648,\n",
              " 'osubi': 649,\n",
              " 'scorching': 650,\n",
              " 'shameful': 651,\n",
              " 'sun': 652,\n",
              " 'waiting': 653,\n",
              " 'yesterday': 654,\n",
              " '4ever': 655,\n",
              " 'address': 656,\n",
              " 'addressed': 657,\n",
              " 'ahead': 658,\n",
              " 'arranged': 659,\n",
              " 'bat2023': 660,\n",
              " 'bro': 661,\n",
              " 'events': 662,\n",
              " 'game': 663,\n",
              " 'grow': 664,\n",
              " 'honors': 665,\n",
              " 'influenced': 666,\n",
              " 'master': 667,\n",
              " 'mean': 668,\n",
              " 'miles': 669,\n",
              " 'pdp': 670,\n",
              " '087': 671,\n",
              " 'extreme': 672,\n",
              " 'gdp': 673,\n",
              " 'highest': 674,\n",
              " 'inflation': 675,\n",
              " 'judged': 676,\n",
              " 'kick': 677,\n",
              " 'nothing': 678,\n",
              " 'poverty': 679,\n",
              " 'remain': 680,\n",
              " 'theres': 681,\n",
              " 'underrating': 682,\n",
              " 'zero': 683,\n",
              " 'aware': 684,\n",
              " 'carrying': 685,\n",
              " 'commissioner': 686,\n",
              " 'inec': 687,\n",
              " 'member': 688,\n",
              " 'party': 689,\n",
              " 'shes': 690,\n",
              " 'support': 691,\n",
              " 'bitter': 692,\n",
              " 'abati': 693,\n",
              " 'appearing': 694,\n",
              " 'connotes': 695,\n",
              " 'hail': 696,\n",
              " 'heard': 697,\n",
              " 'logo': 698,\n",
              " 'looked': 699,\n",
              " 'mentality': 700,\n",
              " 'movement': 701,\n",
              " 'person': 702,\n",
              " 'remember': 703,\n",
              " 'responded': 704,\n",
              " 'talking': 705,\n",
              " 'used': 706,\n",
              " 'using': 707,\n",
              " 'boko': 708,\n",
              " 'chosen': 709,\n",
              " 'face': 710,\n",
              " 'founderceo': 711,\n",
              " 'haram': 712,\n",
              " 'likes': 713,\n",
              " 'obidientlyyusful': 714,\n",
              " 'retire': 715,\n",
              " 'terrorists': 716,\n",
              " 'votepeterobiforpresident2023': 717,\n",
              " 'votewisely': 718,\n",
              " 'abi': 719,\n",
              " 'bastard': 720,\n",
              " 'break': 721,\n",
              " 'fit': 722,\n",
              " 'legs': 723,\n",
              " 'ona': 724,\n",
              " 'show': 725,\n",
              " 'wan': 726,\n",
              " 'bless': 727,\n",
              " 'doubt': 728,\n",
              " 'kudos': 729,\n",
              " 'us': 730,\n",
              " '55256051': 731,\n",
              " 'ambode': 732,\n",
              " 'capital': 733,\n",
              " 'consulateswas': 734,\n",
              " 'developedlagos': 735,\n",
              " 'etctinubu': 736,\n",
              " 'fashola': 737,\n",
              " 'federal': 738,\n",
              " 'glorywake': 739,\n",
              " 'hijacked': 740,\n",
              " 'leaderslikes': 741,\n",
              " 'legacylagos': 742,\n",
              " 'lucky': 743,\n",
              " 'outperformed': 744,\n",
              " 'processeven': 745,\n",
              " 'raji': 746,\n",
              " 'rasakijakandemarwaotedola': 747,\n",
              " 'takin': 748,\n",
              " 'territoryhas': 749,\n",
              " 'mandates': 750,\n",
              " 'morning': 751,\n",
              " '4': 752,\n",
              " 'association': 753,\n",
              " 'cool': 754,\n",
              " 'ffo': 755,\n",
              " 'govern': 756,\n",
              " 'leave': 757,\n",
              " 'niwhen': 758,\n",
              " 'ranting': 759,\n",
              " 'seeing': 760,\n",
              " 'ya': 761,\n",
              " 'fight': 762,\n",
              " 'force': 763,\n",
              " 'french': 764,\n",
              " 'injected': 765,\n",
              " 'spend': 766,\n",
              " 'substances': 767,\n",
              " 'correct': 768,\n",
              " 'erased': 769,\n",
              " 'greatest': 770,\n",
              " 'happened': 771,\n",
              " 'listen': 772,\n",
              " 'mistake': 773,\n",
              " 'past': 774,\n",
              " 'tell': 775,\n",
              " 'grinding': 776,\n",
              " 'mill': 777,\n",
              " 'repackaged': 778,\n",
              " 'slave': 779,\n",
              " 'slavery': 780,\n",
              " 'slow': 781,\n",
              " 'mad': 782,\n",
              " 'talk': 783,\n",
              " 'tv': 784,\n",
              " 'eviln': 785,\n",
              " 'household': 786,\n",
              " 'madam': 787,\n",
              " 'collosal': 788,\n",
              " 'disgrace': 789,\n",
              " 'knows': 790,\n",
              " 'right': 791,\n",
              " 'blind': 792,\n",
              " 'particular': 793,\n",
              " 'partybro': 794,\n",
              " 'schoolact': 795,\n",
              " 'sorry': 796,\n",
              " 'turned': 797,\n",
              " 'whats': 798,\n",
              " 'wrong': 799,\n",
              " '1official': 800,\n",
              " 'celebrate': 801,\n",
              " 'challenges1': 802,\n",
              " 'conscience': 803,\n",
              " 'etc': 804,\n",
              " 'fear': 805,\n",
              " 'forget': 806,\n",
              " 'goodseducation': 807,\n",
              " 'high': 808,\n",
              " 'insecuritieshungerhigh': 809,\n",
              " 'n1000': 810,\n",
              " 'need': 811,\n",
              " 'pill': 812,\n",
              " 'prices': 813,\n",
              " 'targeting': 814,\n",
              " 'wicked': 815,\n",
              " 'abuse': 816,\n",
              " 'almajiri': 817,\n",
              " 'diseases': 818,\n",
              " 'drug': 819,\n",
              " 'educational': 820,\n",
              " 'emancipate': 821,\n",
              " 'illiteracy': 822,\n",
              " 'insecurity': 823,\n",
              " 'northern': 824,\n",
              " 'radical': 825,\n",
              " 'revolution': 826,\n",
              " 'save': 827,\n",
              " 'system': 828,\n",
              " 'tying': 829,\n",
              " 'woman13': 830,\n",
              " 'destiny': 831,\n",
              " 'wat': 832,\n",
              " 'assumetinubu': 833,\n",
              " 'became': 834,\n",
              " 'continually': 835,\n",
              " 'differnce': 836,\n",
              " 'dime': 837,\n",
              " 'dnt': 838,\n",
              " 'financial': 839,\n",
              " 'hijackin': 840,\n",
              " 'honourably': 841,\n",
              " 'igrobi': 842,\n",
              " 'increased': 843,\n",
              " 'loot': 844,\n",
              " 'matters': 845,\n",
              " 'nt': 846,\n",
              " 'parasite': 847,\n",
              " 'pensionwe': 848,\n",
              " 'preempt': 849,\n",
              " 'serious': 850,\n",
              " 'states': 851,\n",
              " 'toothe': 852,\n",
              " 'treasury': 853,\n",
              " 'witout': 854,\n",
              " 'disabled': 855,\n",
              " 'hand': 856,\n",
              " 'affliction': 857,\n",
              " 'akindeles': 858,\n",
              " 'asiwaju': 859,\n",
              " 'believe': 860,\n",
              " 'funkẹ': 861,\n",
              " 'insult': 862,\n",
              " 'name': 863,\n",
              " 'note': 864,\n",
              " 'render': 865,\n",
              " 'rise': 866,\n",
              " 'second': 867,\n",
              " 'someone': 868,\n",
              " 'begin': 869,\n",
              " 'cap': 870,\n",
              " 'peter': 871,\n",
              " 'retweet': 872,\n",
              " 'cargos': 873,\n",
              " 'shameless': 874,\n",
              " '1purist': 875,\n",
              " 'course': 876,\n",
              " 'ground': 877,\n",
              " '8': 878,\n",
              " 'absolute': 879,\n",
              " 'amazing': 880,\n",
              " 'cc': 881,\n",
              " 'confluence': 882,\n",
              " 'h': 883,\n",
              " 'kogites': 884,\n",
              " 'love': 885,\n",
              " 'hahaha': 886,\n",
              " 'reading': 887,\n",
              " 'stupid': 888,\n",
              " '7506624': 889,\n",
              " 'anything': 890,\n",
              " 'appear': 891,\n",
              " 'articulate': 892,\n",
              " 'benefitting': 893,\n",
              " 'borrowed': 894,\n",
              " 'defend': 895,\n",
              " 'detriment': 896,\n",
              " 'judge': 897,\n",
              " 'larger': 898,\n",
              " 'offsprings': 899,\n",
              " 'posterity': 900,\n",
              " 'bear': 901,\n",
              " 'carma': 902,\n",
              " 'mind': 903,\n",
              " 'mockery': 904,\n",
              " 'quite': 905,\n",
              " 'sometimes': 906,\n",
              " 'speaking': 907,\n",
              " 'suppose': 908,\n",
              " 'leader': 909,\n",
              " 'yea': 910,\n",
              " '4bat': 911,\n",
              " 'advise': 912,\n",
              " 'ambassadorkorea': 913,\n",
              " 'po': 914,\n",
              " 'solicit': 915,\n",
              " 'live': 916,\n",
              " 'lives': 917,\n",
              " 'someday': 918,\n",
              " '8521288822': 919,\n",
              " 'assisti': 920,\n",
              " 'bank': 921,\n",
              " 'begging': 922,\n",
              " 'kindhearted': 923,\n",
              " 'mother': 924,\n",
              " 'nana': 925,\n",
              " 'option': 926,\n",
              " 'pls': 927,\n",
              " 'reasonable': 928,\n",
              " 'something': 929,\n",
              " 'struggling': 930,\n",
              " 'wema': 931,\n",
              " 'zubairu': 932,\n",
              " 'attacking': 933,\n",
              " 'bullies': 934,\n",
              " 'caution': 935,\n",
              " 'crisis': 936,\n",
              " 'must': 937,\n",
              " 'online': 938,\n",
              " 'play': 939,\n",
              " 'plunge': 940,\n",
              " 'posit': 941,\n",
              " 'retaliate': 942,\n",
              " 'act': 943,\n",
              " 'associates': 944,\n",
              " 'clueless': 945,\n",
              " 'demand': 946,\n",
              " 'favour': 947,\n",
              " 'geometrically': 948,\n",
              " 'government': 949,\n",
              " 'local': 950,\n",
              " 'price': 951,\n",
              " 'supply': 952,\n",
              " 'unintelligent': 953,\n",
              " 'starting': 954,\n",
              " 'acceptance': 955,\n",
              " 'b4': 956,\n",
              " 'corruption': 957,\n",
              " 'happend': 958,\n",
              " 'hv': 959,\n",
              " 'interest': 960,\n",
              " 'lord': 961,\n",
              " 'main': 962,\n",
              " 'mr': 963,\n",
              " 'mugu': 964,\n",
              " 'neva': 965,\n",
              " 'peoples': 966,\n",
              " 'rule': 967,\n",
              " '7years': 968,\n",
              " 'ago': 969,\n",
              " 'chill': 970,\n",
              " 'either': 971,\n",
              " 'form': 972,\n",
              " 'loss': 973,\n",
              " 'lp': 974,\n",
              " 'moneyobidient': 975,\n",
              " 'muscle': 976,\n",
              " 'officebut': 977,\n",
              " 'parties': 978,\n",
              " 'run': 979,\n",
              " 'small': 980,\n",
              " '11uk': 981,\n",
              " 'amount': 982,\n",
              " 'beg': 983,\n",
              " 'donebut': 984,\n",
              " 'eating': 985,\n",
              " 'feed': 986,\n",
              " 'husbandplease': 987,\n",
              " 'ive': 988,\n",
              " 'mychildrenthis': 989,\n",
              " 'slept': 990,\n",
              " 'widow': 991,\n",
              " 'worst': 992,\n",
              " '10800548': 993,\n",
              " '12': 994,\n",
              " '202': 995,\n",
              " 'argument': 996,\n",
              " 'child': 997,\n",
              " 'commot': 998,\n",
              " 'fact': 999,\n",
              " ...}"
            ]
          },
          "metadata": {},
          "execution_count": 53
        }
      ],
      "source": [
        "from gensim.corpora import Dictionary\n",
        "\n",
        "#create dictionary\n",
        "text_dict = Dictionary(tweets_df_clean)\n",
        "\n",
        "#view integer mappings\n",
        "text_dict.token2id"
      ]
    },
    {
      "cell_type": "code",
      "execution_count": 54,
      "id": "2f80c108",
      "metadata": {
        "id": "2f80c108"
      },
      "outputs": [],
      "source": [
        "tweets_bow = [text_dict.doc2bow(tweet) for tweet in tweets_df_clean]"
      ]
    },
    {
      "cell_type": "code",
      "execution_count": 55,
      "id": "b93434a8",
      "metadata": {
        "colab": {
          "base_uri": "https://localhost:8080/"
        },
        "id": "b93434a8",
        "outputId": "07f6a65e-bee8-4da4-8508-69607b2cd00b"
      },
      "outputs": [
        {
          "output_type": "execute_result",
          "data": {
            "text/plain": [
              "[(0,\n",
              "  '0.012*\"nigeria\" + 0.009*\"people\" + 0.007*\"1\" + 0.007*\"cant\" + 0.006*\"god\" + 0.005*\"obi\" + 0.005*\"like\" + 0.005*\"know\" + 0.005*\"see\" + 0.005*\"president\"'),\n",
              " (1,\n",
              "  '0.013*\"man\" + 0.010*\"1\" + 0.010*\"3\" + 0.006*\"sure\" + 0.006*\"state\" + 0.005*\"come\" + 0.005*\"im\" + 0.005*\"one\" + 0.005*\"god\" + 0.005*\"u\"'),\n",
              " (2,\n",
              "  '0.012*\"u\" + 0.008*\"people\" + 0.006*\"us\" + 0.006*\"man\" + 0.006*\"see\" + 0.006*\"2031\" + 0.006*\"know\" + 0.006*\"1\" + 0.005*\"na\" + 0.005*\"amp\"'),\n",
              " (3,\n",
              "  '0.010*\"apc\" + 0.009*\"tinubu\" + 0.009*\"nigeria\" + 0.009*\"president\" + 0.007*\"man\" + 0.007*\"1\" + 0.006*\"lagos\" + 0.006*\"nigerians\" + 0.006*\"think\" + 0.005*\"make\"'),\n",
              " (4,\n",
              "  '0.009*\"vote\" + 0.008*\"amp\" + 0.008*\"leading\" + 0.008*\"nigerians\" + 0.007*\"people\" + 0.006*\"1\" + 0.006*\"tinubu\" + 0.005*\"youre\" + 0.005*\"obi\" + 0.005*\"never\"')]"
            ]
          },
          "metadata": {},
          "execution_count": 55
        }
      ],
      "source": [
        "from gensim.models.ldamodel import LdaModel\n",
        "\n",
        "k = 5\n",
        "tweets_lda = LdaModel(tweets_bow,\n",
        "                      num_topics = k,\n",
        "                      id2word = text_dict,\n",
        "                      random_state = 1,\n",
        "                      passes=10)\n",
        "\n",
        "tweets_lda.show_topics()"
      ]
    },
    {
      "cell_type": "markdown",
      "id": "ee22baa4",
      "metadata": {
        "id": "ee22baa4"
      },
      "source": [
        "<b>Visualizing a topic model<b>"
      ]
    },
    {
      "cell_type": "markdown",
      "id": "0ae5a108",
      "metadata": {
        "id": "0ae5a108"
      },
      "source": [
        "<b> The most obvious topic depicted is the Nigerian Presidential elections<b>"
      ]
    },
    {
      "cell_type": "markdown",
      "id": "ae023ca0",
      "metadata": {
        "id": "ae023ca0"
      },
      "source": [
        "<B>CONCLUSION <B>"
      ]
    },
    {
      "cell_type": "markdown",
      "id": "348678fa",
      "metadata": {
        "id": "348678fa"
      },
      "source": [
        "<b>For the sentiment analysis, the best classification model between Naïve Bayes for sentiment analysis/classification, Support Vector Machine for tweet classification,Logistic Regression sentiment classification, and K-Nearest Neighbor for tweet classification was the Support Vector Machine for tweet classification because it had the highest accuracy of 71%<b>"
      ]
    },
    {
      "cell_type": "code",
      "execution_count": 55,
      "id": "1a43693a",
      "metadata": {
        "id": "1a43693a"
      },
      "outputs": [],
      "source": []
    }
  ],
  "metadata": {
    "kernelspec": {
      "display_name": "Python 3 (ipykernel)",
      "language": "python",
      "name": "python3"
    },
    "language_info": {
      "codemirror_mode": {
        "name": "ipython",
        "version": 3
      },
      "file_extension": ".py",
      "mimetype": "text/x-python",
      "name": "python",
      "nbconvert_exporter": "python",
      "pygments_lexer": "ipython3",
      "version": "3.9.12"
    },
    "colab": {
      "provenance": []
    }
  },
  "nbformat": 4,
  "nbformat_minor": 5
}