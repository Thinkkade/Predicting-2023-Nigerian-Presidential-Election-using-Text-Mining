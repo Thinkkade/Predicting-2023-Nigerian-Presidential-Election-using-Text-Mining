{
  "cells": [
    {
      "cell_type": "markdown",
      "id": "72d30f4c",
      "metadata": {
        "id": "72d30f4c"
      },
      "source": [
        "<b>3.Twitter Sentiment Analysis<b>"
      ]
    },
    {
      "cell_type": "code",
      "execution_count": 1,
      "id": "febf18bb",
      "metadata": {
        "id": "febf18bb"
      },
      "outputs": [],
      "source": [
        "import re\n",
        "import string\n",
        "import numpy as np\n",
        "import pandas as pd\n",
        "from nltk.corpus import stopwords\n",
        "from nltk.stem import PorterStemmer\n",
        "from nltk.tokenize import word_tokenize\n",
        "from nltk.tokenize import TweetTokenizer\n",
        "import html"
      ]
    },
    {
      "cell_type": "code",
      "execution_count": 2,
      "id": "9e83b402",
      "metadata": {
        "id": "9e83b402"
      },
      "outputs": [],
      "source": [
        "tweet=pd.read_csv('peterObi_tweets.csv')"
      ]
    },
    {
      "cell_type": "code",
      "execution_count": 3,
      "id": "1b94ba5d",
      "metadata": {
        "colab": {
          "base_uri": "https://localhost:8080/",
          "height": 508
        },
        "id": "1b94ba5d",
        "outputId": "b611080e-aee6-4bd6-d618-53e51adb0e64"
      },
      "outputs": [
        {
          "output_type": "execute_result",
          "data": {
            "text/plain": [
              "            tweet_created_at             tweet_id         tweet_id_str  \\\n",
              "0  2022-11-03 06:40:10+00:00  1588058435270189056  1588058435270189056   \n",
              "2  2022-11-03 06:40:04+00:00  1588058412520292352  1588058412520292352   \n",
              "4  2022-11-03 06:40:02+00:00  1588058403515015168  1588058403515015168   \n",
              "5  2022-11-03 06:40:02+00:00  1588058401833107456  1588058401833107456   \n",
              "6  2022-11-03 06:39:56+00:00  1588058375601930245  1588058375601930245   \n",
              "\n",
              "                                     tweet_full_text  tweet_truncated  \\\n",
              "0  RT @PeterObi: I had the honour of calling on H...            False   \n",
              "2  RT @markessien: Four Billboards for @PeterObi ...            False   \n",
              "4  RT @markessien: Making handbills for the @Pete...            False   \n",
              "5  RT @NgLabour: Today, 3rd of November, @NgLabou...            False   \n",
              "6  RT @thebardogbamola: 'Everybody is a thief' is...            False   \n",
              "\n",
              "  tweet_display_text_range                                     tweet_entities  \\\n",
              "0                 [0, 140]  {'hashtags': [], 'symbols': [], 'user_mentions...   \n",
              "2                 [0, 136]  {'hashtags': [], 'symbols': [], 'user_mentions...   \n",
              "4                 [0, 140]  {'hashtags': [], 'symbols': [], 'user_mentions...   \n",
              "5                 [0, 140]  {'hashtags': [], 'symbols': [], 'user_mentions...   \n",
              "6                 [0, 140]  {'hashtags': [], 'symbols': [], 'user_mentions...   \n",
              "\n",
              "                  tweet_entities_mentions tweet_entities_hashtags  \\\n",
              "0                               @PeterObi                     NaN   \n",
              "2  @markessien, @PeterObi, @ChineduOkeke_                     NaN   \n",
              "4                  @markessien, @PeterObi                     NaN   \n",
              "5         @NgLabour, @NgLabour, @PeterObi                     NaN   \n",
              "6        @thebardogbamola, @OfficialAPCNg                     NaN   \n",
              "\n",
              "  tweet_entities_urls  ...  user_default_profile_image user_following  \\\n",
              "0                 NaN  ...                       False          False   \n",
              "2                 NaN  ...                       False          False   \n",
              "4                 NaN  ...                       False          False   \n",
              "5                 NaN  ...                       False          False   \n",
              "6                 NaN  ...                       False          False   \n",
              "\n",
              "  user_follow_request_sent user_notifications  user_translator_type  \\\n",
              "0                    False              False                  none   \n",
              "2                    False              False                  none   \n",
              "4                    False              False                  none   \n",
              "5                    False              False                  none   \n",
              "6                    False              False                  none   \n",
              "\n",
              "   user_withheld_in_countries  tweet_quoted_status_id  \\\n",
              "0                          []                     NaN   \n",
              "2                          []                     NaN   \n",
              "4                          []                     NaN   \n",
              "5                          []                     NaN   \n",
              "6                          []                     NaN   \n",
              "\n",
              "   tweet_quoted_status_id_str tweet_quoted_status  \\\n",
              "0                         NaN                 NaN   \n",
              "2                         NaN                 NaN   \n",
              "4                         NaN                 NaN   \n",
              "5                         NaN                 NaN   \n",
              "6                         NaN                 NaN   \n",
              "\n",
              "                      tweet_source_url  \n",
              "0  http://twitter.com/download/android  \n",
              "2  http://twitter.com/download/android  \n",
              "4   http://twitter.com/download/iphone  \n",
              "5  http://twitter.com/download/android  \n",
              "6  http://twitter.com/download/android  \n",
              "\n",
              "[5 rows x 80 columns]"
            ],
            "text/html": [
              "\n",
              "  <div id=\"df-f1deb766-050e-488f-9d17-1abe82a3eb15\">\n",
              "    <div class=\"colab-df-container\">\n",
              "      <div>\n",
              "<style scoped>\n",
              "    .dataframe tbody tr th:only-of-type {\n",
              "        vertical-align: middle;\n",
              "    }\n",
              "\n",
              "    .dataframe tbody tr th {\n",
              "        vertical-align: top;\n",
              "    }\n",
              "\n",
              "    .dataframe thead th {\n",
              "        text-align: right;\n",
              "    }\n",
              "</style>\n",
              "<table border=\"1\" class=\"dataframe\">\n",
              "  <thead>\n",
              "    <tr style=\"text-align: right;\">\n",
              "      <th></th>\n",
              "      <th>tweet_created_at</th>\n",
              "      <th>tweet_id</th>\n",
              "      <th>tweet_id_str</th>\n",
              "      <th>tweet_full_text</th>\n",
              "      <th>tweet_truncated</th>\n",
              "      <th>tweet_display_text_range</th>\n",
              "      <th>tweet_entities</th>\n",
              "      <th>tweet_entities_mentions</th>\n",
              "      <th>tweet_entities_hashtags</th>\n",
              "      <th>tweet_entities_urls</th>\n",
              "      <th>...</th>\n",
              "      <th>user_default_profile_image</th>\n",
              "      <th>user_following</th>\n",
              "      <th>user_follow_request_sent</th>\n",
              "      <th>user_notifications</th>\n",
              "      <th>user_translator_type</th>\n",
              "      <th>user_withheld_in_countries</th>\n",
              "      <th>tweet_quoted_status_id</th>\n",
              "      <th>tweet_quoted_status_id_str</th>\n",
              "      <th>tweet_quoted_status</th>\n",
              "      <th>tweet_source_url</th>\n",
              "    </tr>\n",
              "  </thead>\n",
              "  <tbody>\n",
              "    <tr>\n",
              "      <th>0</th>\n",
              "      <td>2022-11-03 06:40:10+00:00</td>\n",
              "      <td>1588058435270189056</td>\n",
              "      <td>1588058435270189056</td>\n",
              "      <td>RT @PeterObi: I had the honour of calling on H...</td>\n",
              "      <td>False</td>\n",
              "      <td>[0, 140]</td>\n",
              "      <td>{'hashtags': [], 'symbols': [], 'user_mentions...</td>\n",
              "      <td>@PeterObi</td>\n",
              "      <td>NaN</td>\n",
              "      <td>NaN</td>\n",
              "      <td>...</td>\n",
              "      <td>False</td>\n",
              "      <td>False</td>\n",
              "      <td>False</td>\n",
              "      <td>False</td>\n",
              "      <td>none</td>\n",
              "      <td>[]</td>\n",
              "      <td>NaN</td>\n",
              "      <td>NaN</td>\n",
              "      <td>NaN</td>\n",
              "      <td>http://twitter.com/download/android</td>\n",
              "    </tr>\n",
              "    <tr>\n",
              "      <th>2</th>\n",
              "      <td>2022-11-03 06:40:04+00:00</td>\n",
              "      <td>1588058412520292352</td>\n",
              "      <td>1588058412520292352</td>\n",
              "      <td>RT @markessien: Four Billboards for @PeterObi ...</td>\n",
              "      <td>False</td>\n",
              "      <td>[0, 136]</td>\n",
              "      <td>{'hashtags': [], 'symbols': [], 'user_mentions...</td>\n",
              "      <td>@markessien, @PeterObi, @ChineduOkeke_</td>\n",
              "      <td>NaN</td>\n",
              "      <td>NaN</td>\n",
              "      <td>...</td>\n",
              "      <td>False</td>\n",
              "      <td>False</td>\n",
              "      <td>False</td>\n",
              "      <td>False</td>\n",
              "      <td>none</td>\n",
              "      <td>[]</td>\n",
              "      <td>NaN</td>\n",
              "      <td>NaN</td>\n",
              "      <td>NaN</td>\n",
              "      <td>http://twitter.com/download/android</td>\n",
              "    </tr>\n",
              "    <tr>\n",
              "      <th>4</th>\n",
              "      <td>2022-11-03 06:40:02+00:00</td>\n",
              "      <td>1588058403515015168</td>\n",
              "      <td>1588058403515015168</td>\n",
              "      <td>RT @markessien: Making handbills for the @Pete...</td>\n",
              "      <td>False</td>\n",
              "      <td>[0, 140]</td>\n",
              "      <td>{'hashtags': [], 'symbols': [], 'user_mentions...</td>\n",
              "      <td>@markessien, @PeterObi</td>\n",
              "      <td>NaN</td>\n",
              "      <td>NaN</td>\n",
              "      <td>...</td>\n",
              "      <td>False</td>\n",
              "      <td>False</td>\n",
              "      <td>False</td>\n",
              "      <td>False</td>\n",
              "      <td>none</td>\n",
              "      <td>[]</td>\n",
              "      <td>NaN</td>\n",
              "      <td>NaN</td>\n",
              "      <td>NaN</td>\n",
              "      <td>http://twitter.com/download/iphone</td>\n",
              "    </tr>\n",
              "    <tr>\n",
              "      <th>5</th>\n",
              "      <td>2022-11-03 06:40:02+00:00</td>\n",
              "      <td>1588058401833107456</td>\n",
              "      <td>1588058401833107456</td>\n",
              "      <td>RT @NgLabour: Today, 3rd of November, @NgLabou...</td>\n",
              "      <td>False</td>\n",
              "      <td>[0, 140]</td>\n",
              "      <td>{'hashtags': [], 'symbols': [], 'user_mentions...</td>\n",
              "      <td>@NgLabour, @NgLabour, @PeterObi</td>\n",
              "      <td>NaN</td>\n",
              "      <td>NaN</td>\n",
              "      <td>...</td>\n",
              "      <td>False</td>\n",
              "      <td>False</td>\n",
              "      <td>False</td>\n",
              "      <td>False</td>\n",
              "      <td>none</td>\n",
              "      <td>[]</td>\n",
              "      <td>NaN</td>\n",
              "      <td>NaN</td>\n",
              "      <td>NaN</td>\n",
              "      <td>http://twitter.com/download/android</td>\n",
              "    </tr>\n",
              "    <tr>\n",
              "      <th>6</th>\n",
              "      <td>2022-11-03 06:39:56+00:00</td>\n",
              "      <td>1588058375601930245</td>\n",
              "      <td>1588058375601930245</td>\n",
              "      <td>RT @thebardogbamola: 'Everybody is a thief' is...</td>\n",
              "      <td>False</td>\n",
              "      <td>[0, 140]</td>\n",
              "      <td>{'hashtags': [], 'symbols': [], 'user_mentions...</td>\n",
              "      <td>@thebardogbamola, @OfficialAPCNg</td>\n",
              "      <td>NaN</td>\n",
              "      <td>NaN</td>\n",
              "      <td>...</td>\n",
              "      <td>False</td>\n",
              "      <td>False</td>\n",
              "      <td>False</td>\n",
              "      <td>False</td>\n",
              "      <td>none</td>\n",
              "      <td>[]</td>\n",
              "      <td>NaN</td>\n",
              "      <td>NaN</td>\n",
              "      <td>NaN</td>\n",
              "      <td>http://twitter.com/download/android</td>\n",
              "    </tr>\n",
              "  </tbody>\n",
              "</table>\n",
              "<p>5 rows × 80 columns</p>\n",
              "</div>\n",
              "      <button class=\"colab-df-convert\" onclick=\"convertToInteractive('df-f1deb766-050e-488f-9d17-1abe82a3eb15')\"\n",
              "              title=\"Convert this dataframe to an interactive table.\"\n",
              "              style=\"display:none;\">\n",
              "        \n",
              "  <svg xmlns=\"http://www.w3.org/2000/svg\" height=\"24px\"viewBox=\"0 0 24 24\"\n",
              "       width=\"24px\">\n",
              "    <path d=\"M0 0h24v24H0V0z\" fill=\"none\"/>\n",
              "    <path d=\"M18.56 5.44l.94 2.06.94-2.06 2.06-.94-2.06-.94-.94-2.06-.94 2.06-2.06.94zm-11 1L8.5 8.5l.94-2.06 2.06-.94-2.06-.94L8.5 2.5l-.94 2.06-2.06.94zm10 10l.94 2.06.94-2.06 2.06-.94-2.06-.94-.94-2.06-.94 2.06-2.06.94z\"/><path d=\"M17.41 7.96l-1.37-1.37c-.4-.4-.92-.59-1.43-.59-.52 0-1.04.2-1.43.59L10.3 9.45l-7.72 7.72c-.78.78-.78 2.05 0 2.83L4 21.41c.39.39.9.59 1.41.59.51 0 1.02-.2 1.41-.59l7.78-7.78 2.81-2.81c.8-.78.8-2.07 0-2.86zM5.41 20L4 18.59l7.72-7.72 1.47 1.35L5.41 20z\"/>\n",
              "  </svg>\n",
              "      </button>\n",
              "      \n",
              "  <style>\n",
              "    .colab-df-container {\n",
              "      display:flex;\n",
              "      flex-wrap:wrap;\n",
              "      gap: 12px;\n",
              "    }\n",
              "\n",
              "    .colab-df-convert {\n",
              "      background-color: #E8F0FE;\n",
              "      border: none;\n",
              "      border-radius: 50%;\n",
              "      cursor: pointer;\n",
              "      display: none;\n",
              "      fill: #1967D2;\n",
              "      height: 32px;\n",
              "      padding: 0 0 0 0;\n",
              "      width: 32px;\n",
              "    }\n",
              "\n",
              "    .colab-df-convert:hover {\n",
              "      background-color: #E2EBFA;\n",
              "      box-shadow: 0px 1px 2px rgba(60, 64, 67, 0.3), 0px 1px 3px 1px rgba(60, 64, 67, 0.15);\n",
              "      fill: #174EA6;\n",
              "    }\n",
              "\n",
              "    [theme=dark] .colab-df-convert {\n",
              "      background-color: #3B4455;\n",
              "      fill: #D2E3FC;\n",
              "    }\n",
              "\n",
              "    [theme=dark] .colab-df-convert:hover {\n",
              "      background-color: #434B5C;\n",
              "      box-shadow: 0px 1px 3px 1px rgba(0, 0, 0, 0.15);\n",
              "      filter: drop-shadow(0px 1px 2px rgba(0, 0, 0, 0.3));\n",
              "      fill: #FFFFFF;\n",
              "    }\n",
              "  </style>\n",
              "\n",
              "      <script>\n",
              "        const buttonEl =\n",
              "          document.querySelector('#df-f1deb766-050e-488f-9d17-1abe82a3eb15 button.colab-df-convert');\n",
              "        buttonEl.style.display =\n",
              "          google.colab.kernel.accessAllowed ? 'block' : 'none';\n",
              "\n",
              "        async function convertToInteractive(key) {\n",
              "          const element = document.querySelector('#df-f1deb766-050e-488f-9d17-1abe82a3eb15');\n",
              "          const dataTable =\n",
              "            await google.colab.kernel.invokeFunction('convertToInteractive',\n",
              "                                                     [key], {});\n",
              "          if (!dataTable) return;\n",
              "\n",
              "          const docLinkHtml = 'Like what you see? Visit the ' +\n",
              "            '<a target=\"_blank\" href=https://colab.research.google.com/notebooks/data_table.ipynb>data table notebook</a>'\n",
              "            + ' to learn more about interactive tables.';\n",
              "          element.innerHTML = '';\n",
              "          dataTable['output_type'] = 'display_data';\n",
              "          await google.colab.output.renderOutput(dataTable, element);\n",
              "          const docLink = document.createElement('div');\n",
              "          docLink.innerHTML = docLinkHtml;\n",
              "          element.appendChild(docLink);\n",
              "        }\n",
              "      </script>\n",
              "    </div>\n",
              "  </div>\n",
              "  "
            ]
          },
          "metadata": {},
          "execution_count": 3
        }
      ],
      "source": [
        "new_data = tweet.drop_duplicates('tweet_full_text',keep='first') #delete the duplicates by dropping them and store the result value to a new variable\n",
        "new_data.head()"
      ]
    },
    {
      "cell_type": "code",
      "execution_count": 4,
      "id": "0809a261",
      "metadata": {
        "colab": {
          "base_uri": "https://localhost:8080/"
        },
        "id": "0809a261",
        "outputId": "e38da81f-7267-4fd6-ba3a-44678bc098ce"
      },
      "outputs": [
        {
          "output_type": "execute_result",
          "data": {
            "text/plain": [
              "0    RT @PeterObi: I had the honour of calling on H...\n",
              "1    RT @markessien: Four Billboards for @PeterObi ...\n",
              "2    RT @markessien: Making handbills for the @Pete...\n",
              "3    RT @NgLabour: Today, 3rd of November, @NgLabou...\n",
              "4    RT @thebardogbamola: 'Everybody is a thief' is...\n",
              "Name: tweet_full_text, dtype: object"
            ]
          },
          "metadata": {},
          "execution_count": 4
        }
      ],
      "source": [
        "new_data.to_csv(r'my_new_sample.csv', index = False)\n",
        "new_sample = pd.read_csv('my_new_sample.csv')\n",
        "new_sample.head()\n",
        "tweets = new_sample['tweet_full_text']\n",
        "tweets.head()"
      ]
    },
    {
      "cell_type": "code",
      "execution_count": 5,
      "id": "3cef2511",
      "metadata": {
        "colab": {
          "base_uri": "https://localhost:8080/"
        },
        "id": "3cef2511",
        "outputId": "39c658a4-dff5-4335-b692-58bb16074101"
      },
      "outputs": [
        {
          "output_type": "stream",
          "name": "stderr",
          "text": [
            "<ipython-input-5-0aa6cd3f07c9>:3: SettingWithCopyWarning: \n",
            "A value is trying to be set on a copy of a slice from a DataFrame\n",
            "\n",
            "See the caveats in the documentation: https://pandas.pydata.org/pandas-docs/stable/user_guide/indexing.html#returning-a-view-versus-a-copy\n",
            "  tweets[i] = html.unescape(x)\n"
          ]
        },
        {
          "output_type": "execute_result",
          "data": {
            "text/plain": [
              "0    RT @PeterObi: I had the honour of calling on H...\n",
              "1    RT @markessien: Four Billboards for @PeterObi ...\n",
              "2    RT @markessien: Making handbills for the @Pete...\n",
              "3    RT @NgLabour: Today, 3rd of November, @NgLabou...\n",
              "4    RT @thebardogbamola: 'Everybody is a thief' is...\n",
              "Name: tweet_full_text, dtype: object"
            ]
          },
          "metadata": {},
          "execution_count": 5
        }
      ],
      "source": [
        "for i in range (len(tweets)):\n",
        "    x = tweets[i].replace(\"\\n\",\" \") #cleaning newline “\\n” from the tweets\n",
        "tweets[i] = html.unescape(x)\n",
        "tweets.head()"
      ]
    },
    {
      "cell_type": "code",
      "execution_count": 6,
      "id": "88b936d5",
      "metadata": {
        "colab": {
          "base_uri": "https://localhost:8080/"
        },
        "id": "88b936d5",
        "outputId": "427bb328-cfb5-43ec-f025-880ccbf73c47"
      },
      "outputs": [
        {
          "output_type": "stream",
          "name": "stderr",
          "text": [
            "<ipython-input-6-fe1ce977eacf>:2: SettingWithCopyWarning: \n",
            "A value is trying to be set on a copy of a slice from a DataFrame\n",
            "\n",
            "See the caveats in the documentation: https://pandas.pydata.org/pandas-docs/stable/user_guide/indexing.html#returning-a-view-versus-a-copy\n",
            "  tweets[i] = re.sub(r\"(@[A-Za-z0–9_]+)|[^\\w\\s]|#|http\\S+\", \"\", tweets[i])\n"
          ]
        }
      ],
      "source": [
        "for i in range (len(tweets)):\n",
        "    tweets[i] = re.sub(r\"(@[A-Za-z0–9_]+)|[^\\w\\s]|#|http\\S+\", \"\", tweets[i])"
      ]
    },
    {
      "cell_type": "code",
      "execution_count": 7,
      "id": "207f9aaa",
      "metadata": {
        "id": "207f9aaa"
      },
      "outputs": [],
      "source": [
        "df=pd.DataFrame(tweets)"
      ]
    },
    {
      "cell_type": "code",
      "execution_count": 8,
      "id": "81c99d28",
      "metadata": {
        "id": "81c99d28"
      },
      "outputs": [],
      "source": [
        "df=df[~df.tweet_full_text.str.contains('RT')]"
      ]
    },
    {
      "cell_type": "code",
      "execution_count": 9,
      "id": "10c9eb84",
      "metadata": {
        "colab": {
          "base_uri": "https://localhost:8080/",
          "height": 206
        },
        "id": "10c9eb84",
        "outputId": "095ad584-654c-40de-c6e9-30ac1c4005f0"
      },
      "outputs": [
        {
          "output_type": "execute_result",
          "data": {
            "text/plain": [
              "                                      tweet_full_text\n",
              "13  Ive never really had much interest in politics...\n",
              "16     Theres a draft manifesto its everywhere The...\n",
              "20     True this is what they keep saying All of t...\n",
              "21       A man the gods are willing to associate with\n",
              "24  3   \\n\\nWe dont do Jagabans\\n\\nBut Ojukwu led ..."
            ],
            "text/html": [
              "\n",
              "  <div id=\"df-09e7ec19-4bab-41ec-95ea-2b21080cea0a\">\n",
              "    <div class=\"colab-df-container\">\n",
              "      <div>\n",
              "<style scoped>\n",
              "    .dataframe tbody tr th:only-of-type {\n",
              "        vertical-align: middle;\n",
              "    }\n",
              "\n",
              "    .dataframe tbody tr th {\n",
              "        vertical-align: top;\n",
              "    }\n",
              "\n",
              "    .dataframe thead th {\n",
              "        text-align: right;\n",
              "    }\n",
              "</style>\n",
              "<table border=\"1\" class=\"dataframe\">\n",
              "  <thead>\n",
              "    <tr style=\"text-align: right;\">\n",
              "      <th></th>\n",
              "      <th>tweet_full_text</th>\n",
              "    </tr>\n",
              "  </thead>\n",
              "  <tbody>\n",
              "    <tr>\n",
              "      <th>13</th>\n",
              "      <td>Ive never really had much interest in politics...</td>\n",
              "    </tr>\n",
              "    <tr>\n",
              "      <th>16</th>\n",
              "      <td>Theres a draft manifesto its everywhere The...</td>\n",
              "    </tr>\n",
              "    <tr>\n",
              "      <th>20</th>\n",
              "      <td>True this is what they keep saying All of t...</td>\n",
              "    </tr>\n",
              "    <tr>\n",
              "      <th>21</th>\n",
              "      <td>A man the gods are willing to associate with</td>\n",
              "    </tr>\n",
              "    <tr>\n",
              "      <th>24</th>\n",
              "      <td>3   \\n\\nWe dont do Jagabans\\n\\nBut Ojukwu led ...</td>\n",
              "    </tr>\n",
              "  </tbody>\n",
              "</table>\n",
              "</div>\n",
              "      <button class=\"colab-df-convert\" onclick=\"convertToInteractive('df-09e7ec19-4bab-41ec-95ea-2b21080cea0a')\"\n",
              "              title=\"Convert this dataframe to an interactive table.\"\n",
              "              style=\"display:none;\">\n",
              "        \n",
              "  <svg xmlns=\"http://www.w3.org/2000/svg\" height=\"24px\"viewBox=\"0 0 24 24\"\n",
              "       width=\"24px\">\n",
              "    <path d=\"M0 0h24v24H0V0z\" fill=\"none\"/>\n",
              "    <path d=\"M18.56 5.44l.94 2.06.94-2.06 2.06-.94-2.06-.94-.94-2.06-.94 2.06-2.06.94zm-11 1L8.5 8.5l.94-2.06 2.06-.94-2.06-.94L8.5 2.5l-.94 2.06-2.06.94zm10 10l.94 2.06.94-2.06 2.06-.94-2.06-.94-.94-2.06-.94 2.06-2.06.94z\"/><path d=\"M17.41 7.96l-1.37-1.37c-.4-.4-.92-.59-1.43-.59-.52 0-1.04.2-1.43.59L10.3 9.45l-7.72 7.72c-.78.78-.78 2.05 0 2.83L4 21.41c.39.39.9.59 1.41.59.51 0 1.02-.2 1.41-.59l7.78-7.78 2.81-2.81c.8-.78.8-2.07 0-2.86zM5.41 20L4 18.59l7.72-7.72 1.47 1.35L5.41 20z\"/>\n",
              "  </svg>\n",
              "      </button>\n",
              "      \n",
              "  <style>\n",
              "    .colab-df-container {\n",
              "      display:flex;\n",
              "      flex-wrap:wrap;\n",
              "      gap: 12px;\n",
              "    }\n",
              "\n",
              "    .colab-df-convert {\n",
              "      background-color: #E8F0FE;\n",
              "      border: none;\n",
              "      border-radius: 50%;\n",
              "      cursor: pointer;\n",
              "      display: none;\n",
              "      fill: #1967D2;\n",
              "      height: 32px;\n",
              "      padding: 0 0 0 0;\n",
              "      width: 32px;\n",
              "    }\n",
              "\n",
              "    .colab-df-convert:hover {\n",
              "      background-color: #E2EBFA;\n",
              "      box-shadow: 0px 1px 2px rgba(60, 64, 67, 0.3), 0px 1px 3px 1px rgba(60, 64, 67, 0.15);\n",
              "      fill: #174EA6;\n",
              "    }\n",
              "\n",
              "    [theme=dark] .colab-df-convert {\n",
              "      background-color: #3B4455;\n",
              "      fill: #D2E3FC;\n",
              "    }\n",
              "\n",
              "    [theme=dark] .colab-df-convert:hover {\n",
              "      background-color: #434B5C;\n",
              "      box-shadow: 0px 1px 3px 1px rgba(0, 0, 0, 0.15);\n",
              "      filter: drop-shadow(0px 1px 2px rgba(0, 0, 0, 0.3));\n",
              "      fill: #FFFFFF;\n",
              "    }\n",
              "  </style>\n",
              "\n",
              "      <script>\n",
              "        const buttonEl =\n",
              "          document.querySelector('#df-09e7ec19-4bab-41ec-95ea-2b21080cea0a button.colab-df-convert');\n",
              "        buttonEl.style.display =\n",
              "          google.colab.kernel.accessAllowed ? 'block' : 'none';\n",
              "\n",
              "        async function convertToInteractive(key) {\n",
              "          const element = document.querySelector('#df-09e7ec19-4bab-41ec-95ea-2b21080cea0a');\n",
              "          const dataTable =\n",
              "            await google.colab.kernel.invokeFunction('convertToInteractive',\n",
              "                                                     [key], {});\n",
              "          if (!dataTable) return;\n",
              "\n",
              "          const docLinkHtml = 'Like what you see? Visit the ' +\n",
              "            '<a target=\"_blank\" href=https://colab.research.google.com/notebooks/data_table.ipynb>data table notebook</a>'\n",
              "            + ' to learn more about interactive tables.';\n",
              "          element.innerHTML = '';\n",
              "          dataTable['output_type'] = 'display_data';\n",
              "          await google.colab.output.renderOutput(dataTable, element);\n",
              "          const docLink = document.createElement('div');\n",
              "          docLink.innerHTML = docLinkHtml;\n",
              "          element.appendChild(docLink);\n",
              "        }\n",
              "      </script>\n",
              "    </div>\n",
              "  </div>\n",
              "  "
            ]
          },
          "metadata": {},
          "execution_count": 9
        }
      ],
      "source": [
        "df.head()"
      ]
    },
    {
      "cell_type": "code",
      "execution_count": 10,
      "id": "4e3f1c83",
      "metadata": {
        "colab": {
          "base_uri": "https://localhost:8080/",
          "height": 423
        },
        "id": "4e3f1c83",
        "outputId": "1534b084-02db-4e6a-e11a-443ac8c43345"
      },
      "outputs": [
        {
          "output_type": "execute_result",
          "data": {
            "text/plain": [
              "                                       tweet_full_text  Subjectivity  Polarity\n",
              "13   Ive never really had much interest in politics...      0.500000  0.430000\n",
              "16      Theres a draft manifesto its everywhere The...      0.634722  0.119444\n",
              "20      True this is what they keep saying All of t...      0.387500  0.175000\n",
              "21        A man the gods are willing to associate with      0.750000  0.250000\n",
              "24   3   \\n\\nWe dont do Jagabans\\n\\nBut Ojukwu led ...      0.700000 -0.150000\n",
              "..                                                 ...           ...       ...\n",
              "616                  You were in my hood Well done sir      0.000000  0.000000\n",
              "618   16   How Dem nor go believe amthis government...      0.000000  0.000000\n",
              "619              4Aha Whats the zoom meeting ID please      0.000000  0.000000\n",
              "621   1  Imagine yours too being unknown in the who...      0.666667  0.033333\n",
              "623  Before  leaves it might likely fall to 1 USD t...      0.725000 -0.375000\n",
              "\n",
              "[370 rows x 3 columns]"
            ],
            "text/html": [
              "\n",
              "  <div id=\"df-cfd55b7b-3d34-4f92-a46e-fcae1ff564ff\">\n",
              "    <div class=\"colab-df-container\">\n",
              "      <div>\n",
              "<style scoped>\n",
              "    .dataframe tbody tr th:only-of-type {\n",
              "        vertical-align: middle;\n",
              "    }\n",
              "\n",
              "    .dataframe tbody tr th {\n",
              "        vertical-align: top;\n",
              "    }\n",
              "\n",
              "    .dataframe thead th {\n",
              "        text-align: right;\n",
              "    }\n",
              "</style>\n",
              "<table border=\"1\" class=\"dataframe\">\n",
              "  <thead>\n",
              "    <tr style=\"text-align: right;\">\n",
              "      <th></th>\n",
              "      <th>tweet_full_text</th>\n",
              "      <th>Subjectivity</th>\n",
              "      <th>Polarity</th>\n",
              "    </tr>\n",
              "  </thead>\n",
              "  <tbody>\n",
              "    <tr>\n",
              "      <th>13</th>\n",
              "      <td>Ive never really had much interest in politics...</td>\n",
              "      <td>0.500000</td>\n",
              "      <td>0.430000</td>\n",
              "    </tr>\n",
              "    <tr>\n",
              "      <th>16</th>\n",
              "      <td>Theres a draft manifesto its everywhere The...</td>\n",
              "      <td>0.634722</td>\n",
              "      <td>0.119444</td>\n",
              "    </tr>\n",
              "    <tr>\n",
              "      <th>20</th>\n",
              "      <td>True this is what they keep saying All of t...</td>\n",
              "      <td>0.387500</td>\n",
              "      <td>0.175000</td>\n",
              "    </tr>\n",
              "    <tr>\n",
              "      <th>21</th>\n",
              "      <td>A man the gods are willing to associate with</td>\n",
              "      <td>0.750000</td>\n",
              "      <td>0.250000</td>\n",
              "    </tr>\n",
              "    <tr>\n",
              "      <th>24</th>\n",
              "      <td>3   \\n\\nWe dont do Jagabans\\n\\nBut Ojukwu led ...</td>\n",
              "      <td>0.700000</td>\n",
              "      <td>-0.150000</td>\n",
              "    </tr>\n",
              "    <tr>\n",
              "      <th>...</th>\n",
              "      <td>...</td>\n",
              "      <td>...</td>\n",
              "      <td>...</td>\n",
              "    </tr>\n",
              "    <tr>\n",
              "      <th>616</th>\n",
              "      <td>You were in my hood Well done sir</td>\n",
              "      <td>0.000000</td>\n",
              "      <td>0.000000</td>\n",
              "    </tr>\n",
              "    <tr>\n",
              "      <th>618</th>\n",
              "      <td>16   How Dem nor go believe amthis government...</td>\n",
              "      <td>0.000000</td>\n",
              "      <td>0.000000</td>\n",
              "    </tr>\n",
              "    <tr>\n",
              "      <th>619</th>\n",
              "      <td>4Aha Whats the zoom meeting ID please</td>\n",
              "      <td>0.000000</td>\n",
              "      <td>0.000000</td>\n",
              "    </tr>\n",
              "    <tr>\n",
              "      <th>621</th>\n",
              "      <td>1  Imagine yours too being unknown in the who...</td>\n",
              "      <td>0.666667</td>\n",
              "      <td>0.033333</td>\n",
              "    </tr>\n",
              "    <tr>\n",
              "      <th>623</th>\n",
              "      <td>Before  leaves it might likely fall to 1 USD t...</td>\n",
              "      <td>0.725000</td>\n",
              "      <td>-0.375000</td>\n",
              "    </tr>\n",
              "  </tbody>\n",
              "</table>\n",
              "<p>370 rows × 3 columns</p>\n",
              "</div>\n",
              "      <button class=\"colab-df-convert\" onclick=\"convertToInteractive('df-cfd55b7b-3d34-4f92-a46e-fcae1ff564ff')\"\n",
              "              title=\"Convert this dataframe to an interactive table.\"\n",
              "              style=\"display:none;\">\n",
              "        \n",
              "  <svg xmlns=\"http://www.w3.org/2000/svg\" height=\"24px\"viewBox=\"0 0 24 24\"\n",
              "       width=\"24px\">\n",
              "    <path d=\"M0 0h24v24H0V0z\" fill=\"none\"/>\n",
              "    <path d=\"M18.56 5.44l.94 2.06.94-2.06 2.06-.94-2.06-.94-.94-2.06-.94 2.06-2.06.94zm-11 1L8.5 8.5l.94-2.06 2.06-.94-2.06-.94L8.5 2.5l-.94 2.06-2.06.94zm10 10l.94 2.06.94-2.06 2.06-.94-2.06-.94-.94-2.06-.94 2.06-2.06.94z\"/><path d=\"M17.41 7.96l-1.37-1.37c-.4-.4-.92-.59-1.43-.59-.52 0-1.04.2-1.43.59L10.3 9.45l-7.72 7.72c-.78.78-.78 2.05 0 2.83L4 21.41c.39.39.9.59 1.41.59.51 0 1.02-.2 1.41-.59l7.78-7.78 2.81-2.81c.8-.78.8-2.07 0-2.86zM5.41 20L4 18.59l7.72-7.72 1.47 1.35L5.41 20z\"/>\n",
              "  </svg>\n",
              "      </button>\n",
              "      \n",
              "  <style>\n",
              "    .colab-df-container {\n",
              "      display:flex;\n",
              "      flex-wrap:wrap;\n",
              "      gap: 12px;\n",
              "    }\n",
              "\n",
              "    .colab-df-convert {\n",
              "      background-color: #E8F0FE;\n",
              "      border: none;\n",
              "      border-radius: 50%;\n",
              "      cursor: pointer;\n",
              "      display: none;\n",
              "      fill: #1967D2;\n",
              "      height: 32px;\n",
              "      padding: 0 0 0 0;\n",
              "      width: 32px;\n",
              "    }\n",
              "\n",
              "    .colab-df-convert:hover {\n",
              "      background-color: #E2EBFA;\n",
              "      box-shadow: 0px 1px 2px rgba(60, 64, 67, 0.3), 0px 1px 3px 1px rgba(60, 64, 67, 0.15);\n",
              "      fill: #174EA6;\n",
              "    }\n",
              "\n",
              "    [theme=dark] .colab-df-convert {\n",
              "      background-color: #3B4455;\n",
              "      fill: #D2E3FC;\n",
              "    }\n",
              "\n",
              "    [theme=dark] .colab-df-convert:hover {\n",
              "      background-color: #434B5C;\n",
              "      box-shadow: 0px 1px 3px 1px rgba(0, 0, 0, 0.15);\n",
              "      filter: drop-shadow(0px 1px 2px rgba(0, 0, 0, 0.3));\n",
              "      fill: #FFFFFF;\n",
              "    }\n",
              "  </style>\n",
              "\n",
              "      <script>\n",
              "        const buttonEl =\n",
              "          document.querySelector('#df-cfd55b7b-3d34-4f92-a46e-fcae1ff564ff button.colab-df-convert');\n",
              "        buttonEl.style.display =\n",
              "          google.colab.kernel.accessAllowed ? 'block' : 'none';\n",
              "\n",
              "        async function convertToInteractive(key) {\n",
              "          const element = document.querySelector('#df-cfd55b7b-3d34-4f92-a46e-fcae1ff564ff');\n",
              "          const dataTable =\n",
              "            await google.colab.kernel.invokeFunction('convertToInteractive',\n",
              "                                                     [key], {});\n",
              "          if (!dataTable) return;\n",
              "\n",
              "          const docLinkHtml = 'Like what you see? Visit the ' +\n",
              "            '<a target=\"_blank\" href=https://colab.research.google.com/notebooks/data_table.ipynb>data table notebook</a>'\n",
              "            + ' to learn more about interactive tables.';\n",
              "          element.innerHTML = '';\n",
              "          dataTable['output_type'] = 'display_data';\n",
              "          await google.colab.output.renderOutput(dataTable, element);\n",
              "          const docLink = document.createElement('div');\n",
              "          docLink.innerHTML = docLinkHtml;\n",
              "          element.appendChild(docLink);\n",
              "        }\n",
              "      </script>\n",
              "    </div>\n",
              "  </div>\n",
              "  "
            ]
          },
          "metadata": {},
          "execution_count": 10
        }
      ],
      "source": [
        "from textblob import TextBlob\n",
        "## create function to subjectivity\n",
        "def getSubjectivity(text):\n",
        "    return TextBlob(text).sentiment.subjectivity\n",
        "## create function to get polarity\n",
        "def getPolarity(text):\n",
        "    return TextBlob(text).sentiment.polarity\n",
        "## create two new column\n",
        "df['Subjectivity']=df['tweet_full_text'].apply(getSubjectivity)\n",
        "df['Polarity']=df['tweet_full_text'].apply(getPolarity)\n",
        "## show new Dataframe\n",
        "df"
      ]
    },
    {
      "cell_type": "code",
      "execution_count": 11,
      "id": "8c0805ac",
      "metadata": {
        "colab": {
          "base_uri": "https://localhost:8080/"
        },
        "id": "8c0805ac",
        "outputId": "9d4a272b-5d95-4b8d-cf08-73df8758f97f"
      },
      "outputs": [
        {
          "output_type": "stream",
          "name": "stdout",
          "text": [
            "                                       tweet_full_text  Subjectivity  \\\n",
            "13   Ive never really had much interest in politics...      0.500000   \n",
            "16      Theres a draft manifesto its everywhere The...      0.634722   \n",
            "20      True this is what they keep saying All of t...      0.387500   \n",
            "21        A man the gods are willing to associate with      0.750000   \n",
            "24   3   \\n\\nWe dont do Jagabans\\n\\nBut Ojukwu led ...      0.700000   \n",
            "..                                                 ...           ...   \n",
            "616                  You were in my hood Well done sir      0.000000   \n",
            "618   16   How Dem nor go believe amthis government...      0.000000   \n",
            "619              4Aha Whats the zoom meeting ID please      0.000000   \n",
            "621   1  Imagine yours too being unknown in the who...      0.666667   \n",
            "623  Before  leaves it might likely fall to 1 USD t...      0.725000   \n",
            "\n",
            "     Polarity  Analysis  \n",
            "13   0.430000  Positive  \n",
            "16   0.119444  Positive  \n",
            "20   0.175000  Positive  \n",
            "21   0.250000  Positive  \n",
            "24  -0.150000  Negative  \n",
            "..        ...       ...  \n",
            "616  0.000000   Neutral  \n",
            "618  0.000000   Neutral  \n",
            "619  0.000000   Neutral  \n",
            "621  0.033333  Positive  \n",
            "623 -0.375000  Negative  \n",
            "\n",
            "[370 rows x 4 columns]\n"
          ]
        }
      ],
      "source": [
        "## creating function to compute positive, negative and neutral analysis\n",
        "def getAnalysis(score):\n",
        "    if score<0:\n",
        "        return 'Negative'\n",
        "    elif score==0:\n",
        "        return 'Neutral'\n",
        "    else:\n",
        "        return 'Positive'\n",
        "df['Analysis'] = df['Polarity'].apply(getAnalysis)\n",
        "print(df)"
      ]
    },
    {
      "cell_type": "markdown",
      "id": "41a47bc8",
      "metadata": {
        "id": "41a47bc8"
      },
      "source": [
        "<b> We then plot the sentiments<b>"
      ]
    },
    {
      "cell_type": "code",
      "execution_count": 12,
      "id": "c4632683",
      "metadata": {
        "colab": {
          "base_uri": "https://localhost:8080/",
          "height": 295
        },
        "id": "c4632683",
        "outputId": "421c26e3-2538-4590-cff9-c6f269f32817"
      },
      "outputs": [
        {
          "output_type": "display_data",
          "data": {
            "text/plain": [
              "<Figure size 432x288 with 1 Axes>"
            ],
            "image/png": "[encoded data removed]"
          },
          "metadata": {
            "needs_background": "light"
          }
        }
      ],
      "source": [
        "from matplotlib import pyplot as plt\n",
        "## plot polarity and subjectivity\n",
        "for index,row in df.iterrows():\n",
        "    if row['Analysis']=='Positive':\n",
        "        plt.scatter(row['Polarity'],row['Subjectivity'],color='green')\n",
        "    elif row['Analysis']=='Negative':\n",
        "        plt.scatter(row['Polarity'],row['Subjectivity'],color='red')\n",
        "    else:\n",
        "        plt.scatter(row['Polarity'],row['Subjectivity'],color='blue')\n",
        "plt.title('Sentiment Analysis')\n",
        "plt.xlabel('Polarity')\n",
        "plt.ylabel('Subjectivity')\n",
        "plt.show()"
      ]
    },
    {
      "cell_type": "code",
      "execution_count": 13,
      "id": "e7d9bfd9",
      "metadata": {
        "colab": {
          "base_uri": "https://localhost:8080/",
          "height": 330
        },
        "id": "e7d9bfd9",
        "outputId": "2a523e4a-57da-401d-b0ff-ca413a195ad3"
      },
      "outputs": [
        {
          "output_type": "display_data",
          "data": {
            "text/plain": [
              "<Figure size 432x288 with 1 Axes>"
            ],
            "image/png": "[encoded data removed]"
          },
          "metadata": {
            "needs_background": "light"
          }
        }
      ],
      "source": [
        "ptweets=df[df.Analysis=='Positive']\n",
        "ptweets=ptweets['tweet_full_text']\n",
        "round((ptweets.shape[0]/df.shape[0])*100,1)\n",
        "## get percentage of negative tweets\n",
        "ntweets=df[df.Analysis=='Negative']\n",
        "round((ntweets.shape[0]/df.shape[0])*100,1)\n",
        "## show value counts\n",
        "df['Analysis'].value_counts()\n",
        "## plot visulatisation of count\n",
        "plt.title('Sentiment Analysis')\n",
        "plt.xlabel('Sentiments') \n",
        "plt.ylabel('Counts')\n",
        "df['Analysis'].value_counts().plot(kind='bar')\n",
        "plt.show()"
      ]
    },
    {
      "cell_type": "code",
      "execution_count": 14,
      "id": "a29b8a59",
      "metadata": {
        "id": "a29b8a59"
      },
      "outputs": [],
      "source": [
        "df = df[df['Analysis'] != 'Neutral']"
      ]
    },
    {
      "cell_type": "code",
      "execution_count": 15,
      "id": "b041824e",
      "metadata": {
        "colab": {
          "base_uri": "https://localhost:8080/",
          "height": 330
        },
        "id": "b041824e",
        "outputId": "3a6cafbe-0a23-4077-b621-edeba326d7d9"
      },
      "outputs": [
        {
          "output_type": "display_data",
          "data": {
            "text/plain": [
              "<Figure size 432x288 with 1 Axes>"
            ],
            "image/png": "[encoded data removed]"
          },
          "metadata": {
            "needs_background": "light"
          }
        }
      ],
      "source": [
        "ptweets=df[df.Analysis=='Positive']\n",
        "ptweets=ptweets['tweet_full_text']\n",
        "round((ptweets.shape[0]/df.shape[0])*100,1)\n",
        "## get percentage of negative tweets\n",
        "ntweets=df[df.Analysis=='Negative']\n",
        "round((ntweets.shape[0]/df.shape[0])*100,1)\n",
        "## show value counts\n",
        "df['Analysis'].value_counts()\n",
        "## plot visulatisation of count\n",
        "plt.title('Sentiment Analysis')\n",
        "plt.xlabel('Sentiments') \n",
        "plt.ylabel('Counts')\n",
        "df['Analysis'].value_counts().plot(kind='bar')\n",
        "plt.show()"
      ]
    },
    {
      "cell_type": "markdown",
      "id": "7c66387f",
      "metadata": {
        "id": "7c66387f"
      },
      "source": [
        "<b> The figure above shows that the positive sentiments are way higher(more than double) the negative sentiments<b>"
      ]
    },
    {
      "cell_type": "code",
      "execution_count": 16,
      "id": "74c0ac02",
      "metadata": {
        "colab": {
          "base_uri": "https://localhost:8080/"
        },
        "id": "74c0ac02",
        "outputId": "d2aac22d-c5cf-4f25-f869-aa24b0269d8c"
      },
      "outputs": [
        {
          "output_type": "stream",
          "name": "stderr",
          "text": [
            "<ipython-input-16-06661aec017c>:2: SettingWithCopyWarning: \n",
            "A value is trying to be set on a copy of a slice from a DataFrame.\n",
            "Try using .loc[row_indexer,col_indexer] = value instead\n",
            "\n",
            "See the caveats in the documentation: https://pandas.pydata.org/pandas-docs/stable/user_guide/indexing.html#returning-a-view-versus-a-copy\n",
            "  df['Analysis'] = df['Analysis'].map({'Positive': 1, 'Negative': 0})\n"
          ]
        }
      ],
      "source": [
        "# Using map function\n",
        "df['Analysis'] = df['Analysis'].map({'Positive': 1, 'Negative': 0})"
      ]
    },
    {
      "cell_type": "code",
      "execution_count": 17,
      "id": "85c1c6ca",
      "metadata": {
        "colab": {
          "base_uri": "https://localhost:8080/"
        },
        "id": "85c1c6ca",
        "outputId": "121ee5c7-2e81-4993-a29e-4fd7b53e3963"
      },
      "outputs": [
        {
          "output_type": "stream",
          "name": "stderr",
          "text": [
            "[nltk_data] Downloading package stopwords to /root/nltk_data...\n",
            "[nltk_data]   Unzipping corpora/stopwords.zip.\n"
          ]
        },
        {
          "output_type": "execute_result",
          "data": {
            "text/plain": [
              "['i',\n",
              " 'me',\n",
              " 'my',\n",
              " 'myself',\n",
              " 'we',\n",
              " 'our',\n",
              " 'ours',\n",
              " 'ourselves',\n",
              " 'you',\n",
              " \"you're\",\n",
              " \"you've\",\n",
              " \"you'll\",\n",
              " \"you'd\",\n",
              " 'your',\n",
              " 'yours',\n",
              " 'yourself',\n",
              " 'yourselves',\n",
              " 'he',\n",
              " 'him',\n",
              " 'his',\n",
              " 'himself',\n",
              " 'she',\n",
              " \"she's\",\n",
              " 'her',\n",
              " 'hers',\n",
              " 'herself',\n",
              " 'it',\n",
              " \"it's\",\n",
              " 'its',\n",
              " 'itself',\n",
              " 'they',\n",
              " 'them',\n",
              " 'their',\n",
              " 'theirs',\n",
              " 'themselves',\n",
              " 'what',\n",
              " 'which',\n",
              " 'who',\n",
              " 'whom',\n",
              " 'this',\n",
              " 'that',\n",
              " \"that'll\",\n",
              " 'these',\n",
              " 'those',\n",
              " 'am',\n",
              " 'is',\n",
              " 'are',\n",
              " 'was',\n",
              " 'were',\n",
              " 'be',\n",
              " 'been',\n",
              " 'being',\n",
              " 'have',\n",
              " 'has',\n",
              " 'had',\n",
              " 'having',\n",
              " 'do',\n",
              " 'does',\n",
              " 'did',\n",
              " 'doing',\n",
              " 'a',\n",
              " 'an',\n",
              " 'the',\n",
              " 'and',\n",
              " 'but',\n",
              " 'if',\n",
              " 'or',\n",
              " 'because',\n",
              " 'as',\n",
              " 'until',\n",
              " 'while',\n",
              " 'of',\n",
              " 'at',\n",
              " 'by',\n",
              " 'for',\n",
              " 'with',\n",
              " 'about',\n",
              " 'against',\n",
              " 'between',\n",
              " 'into',\n",
              " 'through',\n",
              " 'during',\n",
              " 'before',\n",
              " 'after',\n",
              " 'above',\n",
              " 'below',\n",
              " 'to',\n",
              " 'from',\n",
              " 'up',\n",
              " 'down',\n",
              " 'in',\n",
              " 'out',\n",
              " 'on',\n",
              " 'off',\n",
              " 'over',\n",
              " 'under',\n",
              " 'again',\n",
              " 'further',\n",
              " 'then',\n",
              " 'once',\n",
              " 'here',\n",
              " 'there',\n",
              " 'when',\n",
              " 'where',\n",
              " 'why',\n",
              " 'how',\n",
              " 'all',\n",
              " 'any',\n",
              " 'both',\n",
              " 'each',\n",
              " 'few',\n",
              " 'more',\n",
              " 'most',\n",
              " 'other',\n",
              " 'some',\n",
              " 'such',\n",
              " 'no',\n",
              " 'nor',\n",
              " 'not',\n",
              " 'only',\n",
              " 'own',\n",
              " 'same',\n",
              " 'so',\n",
              " 'than',\n",
              " 'too',\n",
              " 'very',\n",
              " 's',\n",
              " 't',\n",
              " 'can',\n",
              " 'will',\n",
              " 'just',\n",
              " 'don',\n",
              " \"don't\",\n",
              " 'should',\n",
              " \"should've\",\n",
              " 'now',\n",
              " 'd',\n",
              " 'll',\n",
              " 'm',\n",
              " 'o',\n",
              " 're',\n",
              " 've',\n",
              " 'y',\n",
              " 'ain',\n",
              " 'aren',\n",
              " \"aren't\",\n",
              " 'couldn',\n",
              " \"couldn't\",\n",
              " 'didn',\n",
              " \"didn't\",\n",
              " 'doesn',\n",
              " \"doesn't\",\n",
              " 'hadn',\n",
              " \"hadn't\",\n",
              " 'hasn',\n",
              " \"hasn't\",\n",
              " 'haven',\n",
              " \"haven't\",\n",
              " 'isn',\n",
              " \"isn't\",\n",
              " 'ma',\n",
              " 'mightn',\n",
              " \"mightn't\",\n",
              " 'mustn',\n",
              " \"mustn't\",\n",
              " 'needn',\n",
              " \"needn't\",\n",
              " 'shan',\n",
              " \"shan't\",\n",
              " 'shouldn',\n",
              " \"shouldn't\",\n",
              " 'wasn',\n",
              " \"wasn't\",\n",
              " 'weren',\n",
              " \"weren't\",\n",
              " 'won',\n",
              " \"won't\",\n",
              " 'wouldn',\n",
              " \"wouldn't\"]"
            ]
          },
          "metadata": {},
          "execution_count": 17
        }
      ],
      "source": [
        "import nltk\n",
        "nltk.download('stopwords')\n",
        "from nltk.corpus import stopwords\n",
        "stopwords.words('english')"
      ]
    },
    {
      "cell_type": "code",
      "execution_count": 19,
      "id": "06da954b",
      "metadata": {
        "id": "06da954b"
      },
      "outputs": [],
      "source": [
        "from sklearn.feature_extraction.text import CountVectorizer\n",
        "sample_new = ['This is first method.', 'This method is the second method.', 'This new one is the third one.' ]"
      ]
    },
    {
      "cell_type": "code",
      "execution_count": 20,
      "id": "e91a72be",
      "metadata": {
        "id": "e91a72be"
      },
      "outputs": [],
      "source": [
        "vectorizer = CountVectorizer()\n",
        "X = vectorizer.fit_transform(sample_new)"
      ]
    },
    {
      "cell_type": "code",
      "execution_count": 21,
      "id": "482f88ff",
      "metadata": {
        "colab": {
          "base_uri": "https://localhost:8080/"
        },
        "id": "482f88ff",
        "outputId": "c3e066b0-9152-428a-ad9d-28b3e64cf3cc"
      },
      "outputs": [
        {
          "output_type": "stream",
          "name": "stdout",
          "text": [
            "['first', 'is', 'method', 'new', 'one', 'second', 'the', 'third', 'this']\n"
          ]
        },
        {
          "output_type": "stream",
          "name": "stderr",
          "text": [
            "/usr/local/lib/python3.8/dist-packages/sklearn/utils/deprecation.py:87: FutureWarning: Function get_feature_names is deprecated; get_feature_names is deprecated in 1.0 and will be removed in 1.2. Please use get_feature_names_out instead.\n",
            "  warnings.warn(msg, category=FutureWarning)\n"
          ]
        }
      ],
      "source": [
        "#Lets see the extracted unique words\n",
        "print (vectorizer.get_feature_names())"
      ]
    },
    {
      "cell_type": "code",
      "execution_count": 22,
      "id": "5ef0842a",
      "metadata": {
        "colab": {
          "base_uri": "https://localhost:8080/"
        },
        "id": "5ef0842a",
        "outputId": "6c30ff0b-aa27-4e8a-c047-ce54b8a55c4c"
      },
      "outputs": [
        {
          "output_type": "execute_result",
          "data": {
            "text/plain": [
              "<3x9 sparse matrix of type '<class 'numpy.int64'>'\n",
              "\twith 15 stored elements in Compressed Sparse Row format>"
            ]
          },
          "metadata": {},
          "execution_count": 22
        }
      ],
      "source": [
        "X"
      ]
    },
    {
      "cell_type": "code",
      "execution_count": 23,
      "id": "8f9045dd",
      "metadata": {
        "colab": {
          "base_uri": "https://localhost:8080/"
        },
        "id": "8f9045dd",
        "outputId": "318df64a-724f-43c4-f75a-82881b0e7ed9"
      },
      "outputs": [
        {
          "output_type": "stream",
          "name": "stdout",
          "text": [
            "[[1 1 1 0 0 0 0 0 1]\n",
            " [0 1 2 0 0 1 1 0 1]\n",
            " [0 1 0 1 2 0 1 1 1]]\n"
          ]
        }
      ],
      "source": [
        "print(X.toarray())"
      ]
    },
    {
      "cell_type": "code",
      "execution_count": 24,
      "id": "8409dd93",
      "metadata": {
        "colab": {
          "base_uri": "https://localhost:8080/"
        },
        "id": "8409dd93",
        "outputId": "a00bc1d6-c127-447f-815d-f6e53bd08e2d"
      },
      "outputs": [
        {
          "output_type": "stream",
          "name": "stdout",
          "text": [
            "[[1 1]\n",
            " [2 1]\n",
            " [1 3]]\n"
          ]
        }
      ],
      "source": [
        "second_sample = ['Hello World.', 'Hello Hello World', 'Hello World world world']\n",
        "XX = vectorizer.fit_transform(second_sample)\n",
        "print(XX.toarray())"
      ]
    },
    {
      "cell_type": "code",
      "execution_count": 25,
      "id": "424858c5",
      "metadata": {
        "id": "424858c5"
      },
      "outputs": [],
      "source": [
        "def text_cleaning(text):\n",
        "    remv_punc = [char for char in text.lower() if char not in string.punctuation]\n",
        "    remv_punc_join = ''.join(remv_punc)\n",
        "    remv_punc_clean = [word for word in remv_punc_join.split() if word.lower() not in stopwords.words('english')]\n",
        "    return remv_punc_clean"
      ]
    },
    {
      "cell_type": "code",
      "execution_count": 26,
      "id": "fd5d5ff2",
      "metadata": {
        "colab": {
          "base_uri": "https://localhost:8080/"
        },
        "id": "fd5d5ff2",
        "outputId": "8b2d6117-27a7-4f66-d63c-bdf95df94648"
      },
      "outputs": [
        {
          "output_type": "stream",
          "name": "stdout",
          "text": [
            "13     [ive, never, really, much, interest, politics,...\n",
            "16     [theres, draft, manifesto, everywhere, team, w...\n",
            "20     [true, keep, saying, na, na, thief, dem, b, go...\n",
            "21                       [man, gods, willing, associate]\n",
            "24     [3, dont, jagabans, ojukwu, led, u, meaningles...\n",
            "                             ...                        \n",
            "609    [19gbagaun, thought, smart, enough, understand...\n",
            "613    [388, wtf, wrong, carry, family, problems, com...\n",
            "614    [3, mean, igbo, sellouts, nnamani, kali, et, a...\n",
            "621    [1, imagine, unknown, whole, core, south, abi,...\n",
            "623    [leaves, might, likely, fall, 1, usd, n1500, g...\n",
            "Name: tweet_full_text, Length: 224, dtype: object\n"
          ]
        }
      ],
      "source": [
        "#Lets visualize the newly created function\n",
        "tweets_df_clean = df['tweet_full_text'].apply(text_cleaning)\n",
        "print(tweets_df_clean)"
      ]
    },
    {
      "cell_type": "code",
      "execution_count": 27,
      "id": "4ef560b2",
      "metadata": {
        "id": "4ef560b2"
      },
      "outputs": [],
      "source": [
        "vectorizer_analyzer = CountVectorizer(analyzer = text_cleaning)\n",
        "countvectorizer_tweets = CountVectorizer(analyzer= text_cleaning, dtype= 'uint8').fit_transform(df['tweet_full_text']).toarray()"
      ]
    },
    {
      "cell_type": "markdown",
      "id": "41081420",
      "metadata": {
        "id": "41081420"
      },
      "source": [
        "# MODEL BUILDING"
      ]
    },
    {
      "cell_type": "markdown",
      "id": "a32308f8",
      "metadata": {
        "id": "a32308f8"
      },
      "source": [
        "<b>Naive Bayes<b>"
      ]
    },
    {
      "cell_type": "code",
      "execution_count": 28,
      "id": "03a5950d",
      "metadata": {
        "id": "03a5950d"
      },
      "outputs": [],
      "source": [
        "from sklearn.model_selection import train_test_split\n",
        "# Split into training and testing data\n",
        "X_features = countvectorizer_tweets\n",
        "y_label = df['Analysis']"
      ]
    },
    {
      "cell_type": "code",
      "execution_count": 29,
      "id": "19ae957f",
      "metadata": {
        "id": "19ae957f"
      },
      "outputs": [],
      "source": [
        "from sklearn.model_selection import train_test_split\n",
        "X_train, X_test, y_train, y_test = train_test_split(X_features, y_label, test_size = 0.2, random_state = 1)"
      ]
    },
    {
      "cell_type": "code",
      "execution_count": 30,
      "id": "67da858f",
      "metadata": {
        "colab": {
          "base_uri": "https://localhost:8080/"
        },
        "id": "67da858f",
        "outputId": "924ea4e7-0423-40be-9bc8-790166ac38ce"
      },
      "outputs": [
        {
          "output_type": "execute_result",
          "data": {
            "text/plain": [
              "MultinomialNB()"
            ]
          },
          "metadata": {},
          "execution_count": 30
        }
      ],
      "source": [
        "from sklearn.naive_bayes import MultinomialNB\n",
        "NaiveBclassifier = MultinomialNB()\n",
        "NaiveBclassifier.fit(X_train,y_train)"
      ]
    },
    {
      "cell_type": "code",
      "execution_count": 31,
      "id": "0a8a0acf",
      "metadata": {
        "id": "0a8a0acf"
      },
      "outputs": [],
      "source": [
        "#Analyzing the model performance\n",
        "from sklearn.metrics import classification_report, confusion_matrix"
      ]
    },
    {
      "cell_type": "code",
      "execution_count": 32,
      "id": "ea4e991a",
      "metadata": {
        "id": "ea4e991a"
      },
      "outputs": [],
      "source": [
        "# Predicting test cases\n",
        "y_pred_test = NaiveBclassifier.predict(X_test)"
      ]
    },
    {
      "cell_type": "code",
      "execution_count": 33,
      "id": "b204d4c1",
      "metadata": {
        "colab": {
          "base_uri": "https://localhost:8080/",
          "height": 287
        },
        "id": "b204d4c1",
        "outputId": "df9c4a3d-be18-4227-8e14-4e5af9006241"
      },
      "outputs": [
        {
          "output_type": "execute_result",
          "data": {
            "text/plain": [
              "<matplotlib.axes._subplots.AxesSubplot at 0x7f0ce5705d00>"
            ]
          },
          "metadata": {},
          "execution_count": 33
        },
        {
          "output_type": "display_data",
          "data": {
            "text/plain": [
              "<Figure size 432x288 with 2 Axes>"
            ],
            "image/png": "[encoded data removed]"
          },
          "metadata": {
            "needs_background": "light"
          }
        }
      ],
      "source": [
        "import seaborn as sns\n",
        "# Confusion matrix\n",
        "cm = confusion_matrix(y_test, y_pred_test)\n",
        "sns.heatmap(cm, annot= True)"
      ]
    },
    {
      "cell_type": "code",
      "execution_count": 34,
      "id": "bbe93ab6",
      "metadata": {
        "colab": {
          "base_uri": "https://localhost:8080/"
        },
        "id": "bbe93ab6",
        "outputId": "1389c741-68e4-4de7-8e3b-9af1b0bced52"
      },
      "outputs": [
        {
          "output_type": "stream",
          "name": "stdout",
          "text": [
            "Accuracy: 0.6888888888888889\n"
          ]
        }
      ],
      "source": [
        "#Import scikit-learn metrics module for accuracy calculation\n",
        "from sklearn import metrics\n",
        "\n",
        "# Model Accuracy, how often is the classifier correct?\n",
        "print(\"Accuracy:\",metrics.accuracy_score(y_test, y_pred_test))"
      ]
    },
    {
      "cell_type": "code",
      "execution_count": 35,
      "id": "db1325f5",
      "metadata": {
        "colab": {
          "base_uri": "https://localhost:8080/"
        },
        "id": "db1325f5",
        "outputId": "f5b241ee-cb23-41b9-ae1c-0e1d2d616c2f"
      },
      "outputs": [
        {
          "output_type": "stream",
          "name": "stdout",
          "text": [
            "              precision    recall  f1-score   support\n",
            "\n",
            "           0       0.50      0.43      0.46        14\n",
            "           1       0.76      0.81      0.78        31\n",
            "\n",
            "    accuracy                           0.69        45\n",
            "   macro avg       0.63      0.62      0.62        45\n",
            "weighted avg       0.68      0.69      0.68        45\n",
            "\n"
          ]
        }
      ],
      "source": [
        "from sklearn.metrics import classification_report\n",
        "print(classification_report(y_test, y_pred_test))"
      ]
    },
    {
      "cell_type": "markdown",
      "id": "97092067",
      "metadata": {
        "id": "97092067"
      },
      "source": [
        "<b> The results show that the Naive Bayes classififer has an accuracy of 68.89%<b>"
      ]
    },
    {
      "cell_type": "code",
      "execution_count": 36,
      "id": "65fd9ad2",
      "metadata": {
        "colab": {
          "base_uri": "https://localhost:8080/"
        },
        "id": "65fd9ad2",
        "outputId": "6a2fcec5-1290-4303-ff30-2a875be33783"
      },
      "outputs": [
        {
          "output_type": "execute_result",
          "data": {
            "text/plain": [
              "LogisticRegression()"
            ]
          },
          "metadata": {},
          "execution_count": 36
        }
      ],
      "source": [
        "from sklearn.linear_model import LogisticRegression\n",
        "from sklearn import metrics\n",
        "logreg = LogisticRegression()\n",
        "logreg.fit(X_train, y_train)"
      ]
    },
    {
      "cell_type": "code",
      "execution_count": 37,
      "id": "19da028b",
      "metadata": {
        "colab": {
          "base_uri": "https://localhost:8080/"
        },
        "id": "19da028b",
        "outputId": "2c8ac5e5-38e2-4a17-d7f7-fcd727d8bff8"
      },
      "outputs": [
        {
          "output_type": "stream",
          "name": "stdout",
          "text": [
            "Accuracy of logistic regression classifier on test set: 0.69\n"
          ]
        }
      ],
      "source": [
        "y_pred = logreg.predict(X_test)\n",
        "print('Accuracy of logistic regression classifier on test set: {:.2f}'.format(logreg.score(X_test, y_test)))"
      ]
    },
    {
      "cell_type": "code",
      "execution_count": 38,
      "id": "405c8231",
      "metadata": {
        "colab": {
          "base_uri": "https://localhost:8080/",
          "height": 283
        },
        "id": "405c8231",
        "outputId": "f0746264-d2cd-412e-a22b-8c4c1547a163"
      },
      "outputs": [
        {
          "output_type": "execute_result",
          "data": {
            "text/plain": [
              "<matplotlib.axes._subplots.AxesSubplot at 0x7f0ce5763e50>"
            ]
          },
          "metadata": {},
          "execution_count": 38
        },
        {
          "output_type": "display_data",
          "data": {
            "text/plain": [
              "<Figure size 432x288 with 2 Axes>"
            ],
            "image/png": "[encoded data removed]"
          },
          "metadata": {
            "needs_background": "light"
          }
        }
      ],
      "source": [
        "cm = confusion_matrix(y_test, y_pred)\n",
        "sns.heatmap(cm, annot= True)"
      ]
    },
    {
      "cell_type": "code",
      "execution_count": 39,
      "id": "26940ccb",
      "metadata": {
        "colab": {
          "base_uri": "https://localhost:8080/"
        },
        "id": "26940ccb",
        "outputId": "437a8a1f-07bb-4fca-f9a5-db739f0d5118"
      },
      "outputs": [
        {
          "output_type": "stream",
          "name": "stdout",
          "text": [
            "              precision    recall  f1-score   support\n",
            "\n",
            "           0       0.00      0.00      0.00        14\n",
            "           1       0.69      1.00      0.82        31\n",
            "\n",
            "    accuracy                           0.69        45\n",
            "   macro avg       0.34      0.50      0.41        45\n",
            "weighted avg       0.47      0.69      0.56        45\n",
            "\n"
          ]
        },
        {
          "output_type": "stream",
          "name": "stderr",
          "text": [
            "/usr/local/lib/python3.8/dist-packages/sklearn/metrics/_classification.py:1318: UndefinedMetricWarning: Precision and F-score are ill-defined and being set to 0.0 in labels with no predicted samples. Use `zero_division` parameter to control this behavior.\n",
            "  _warn_prf(average, modifier, msg_start, len(result))\n",
            "/usr/local/lib/python3.8/dist-packages/sklearn/metrics/_classification.py:1318: UndefinedMetricWarning: Precision and F-score are ill-defined and being set to 0.0 in labels with no predicted samples. Use `zero_division` parameter to control this behavior.\n",
            "  _warn_prf(average, modifier, msg_start, len(result))\n",
            "/usr/local/lib/python3.8/dist-packages/sklearn/metrics/_classification.py:1318: UndefinedMetricWarning: Precision and F-score are ill-defined and being set to 0.0 in labels with no predicted samples. Use `zero_division` parameter to control this behavior.\n",
            "  _warn_prf(average, modifier, msg_start, len(result))\n"
          ]
        }
      ],
      "source": [
        "from sklearn.metrics import classification_report\n",
        "print(classification_report(y_test, y_pred))"
      ]
    },
    {
      "cell_type": "markdown",
      "id": "9232bdbc",
      "metadata": {
        "id": "9232bdbc"
      },
      "source": [
        "<b> Support Vector Machine<b>"
      ]
    },
    {
      "cell_type": "code",
      "execution_count": 40,
      "id": "0361659e",
      "metadata": {
        "colab": {
          "base_uri": "https://localhost:8080/"
        },
        "id": "0361659e",
        "outputId": "9c05b49e-82ae-4565-ec2a-26cec2ee468c"
      },
      "outputs": [
        {
          "output_type": "execute_result",
          "data": {
            "text/plain": [
              "SVC(kernel='linear')"
            ]
          },
          "metadata": {},
          "execution_count": 40
        }
      ],
      "source": [
        "from sklearn.svm import SVC  \n",
        "clf = SVC(kernel='linear') \n",
        "  \n",
        "# fitting x samples and y classes \n",
        "clf.fit(X_train, y_train) "
      ]
    },
    {
      "cell_type": "code",
      "execution_count": 41,
      "id": "452e9a1c",
      "metadata": {
        "colab": {
          "base_uri": "https://localhost:8080/"
        },
        "id": "452e9a1c",
        "outputId": "8ae48b34-62e7-4f6f-ab67-099f17febb77"
      },
      "outputs": [
        {
          "output_type": "stream",
          "name": "stdout",
          "text": [
            "Accuracy of Support Vector Machine classifier on test set: 0.71\n"
          ]
        }
      ],
      "source": [
        "y_pred = clf .predict(X_test)\n",
        "print('Accuracy of Support Vector Machine classifier on test set: {:.2f}'.format(clf.score(X_test, y_test)))"
      ]
    },
    {
      "cell_type": "code",
      "execution_count": 42,
      "id": "e4fa5d56",
      "metadata": {
        "colab": {
          "base_uri": "https://localhost:8080/",
          "height": 287
        },
        "id": "e4fa5d56",
        "outputId": "f910ed00-84bd-4ded-dfcf-aaef1887c887"
      },
      "outputs": [
        {
          "output_type": "execute_result",
          "data": {
            "text/plain": [
              "<matplotlib.axes._subplots.AxesSubplot at 0x7f0ce566fa60>"
            ]
          },
          "metadata": {},
          "execution_count": 42
        },
        {
          "output_type": "display_data",
          "data": {
            "text/plain": [
              "<Figure size 432x288 with 2 Axes>"
            ],
            "image/png": "[encoded data removed]"
          },
          "metadata": {
            "needs_background": "light"
          }
        }
      ],
      "source": [
        "cm = confusion_matrix(y_test, y_pred)\n",
        "sns.heatmap(cm, annot= True)"
      ]
    },
    {
      "cell_type": "code",
      "execution_count": 43,
      "id": "ce6da874",
      "metadata": {
        "colab": {
          "base_uri": "https://localhost:8080/"
        },
        "id": "ce6da874",
        "outputId": "e7317491-2a10-4fd1-fa2c-c5b5cf855c59"
      },
      "outputs": [
        {
          "output_type": "stream",
          "name": "stdout",
          "text": [
            "              precision    recall  f1-score   support\n",
            "\n",
            "           0       0.67      0.14      0.24        14\n",
            "           1       0.71      0.97      0.82        31\n",
            "\n",
            "    accuracy                           0.71        45\n",
            "   macro avg       0.69      0.56      0.53        45\n",
            "weighted avg       0.70      0.71      0.64        45\n",
            "\n"
          ]
        }
      ],
      "source": [
        "from sklearn.metrics import classification_report\n",
        "print(classification_report(y_test, y_pred))"
      ]
    },
    {
      "cell_type": "markdown",
      "id": "4557afe2",
      "metadata": {
        "id": "4557afe2"
      },
      "source": [
        "<b>K-Nearest Neighbor<b>"
      ]
    },
    {
      "cell_type": "code",
      "execution_count": 56,
      "id": "a0a96a4f",
      "metadata": {
        "id": "a0a96a4f"
      },
      "outputs": [],
      "source": [
        "from sklearn.neighbors import KNeighborsClassifier\n",
        "neighbors = np.arange(1, 9)\n",
        "train_accuracy = np.empty(len(neighbors))\n",
        "test_accuracy = np.empty(len(neighbors))\n",
        "  \n",
        "# Loop over K values\n",
        "for i, k in enumerate(neighbors):\n",
        "    knn = KNeighborsClassifier(n_neighbors=k)\n",
        "    knn.fit(X_train, y_train)"
      ]
    },
    {
      "cell_type": "code",
      "execution_count": 45,
      "id": "8efb6880",
      "metadata": {
        "colab": {
          "base_uri": "https://localhost:8080/"
        },
        "id": "8efb6880",
        "outputId": "dc4d5d0e-6836-4f34-bc3c-d0b2bdbfead9"
      },
      "outputs": [
        {
          "output_type": "stream",
          "name": "stdout",
          "text": [
            "Accuracy of K-Nearest Neighbor classifier on test set: 0.69\n"
          ]
        }
      ],
      "source": [
        "y_pred = knn .predict(X_test)\n",
        "print('Accuracy of K-Nearest Neighbor classifier on test set: {:.2f}'.format(knn.score(X_test, y_test)))"
      ]
    },
    {
      "cell_type": "markdown",
      "id": "f2ce4ae0",
      "metadata": {
        "id": "f2ce4ae0"
      },
      "source": [
        "<b>Latent Dirichlet Allocation<b>"
      ]
    },
    {
      "cell_type": "code",
      "execution_count": 46,
      "id": "14ca0bc0",
      "metadata": {
        "id": "14ca0bc0"
      },
      "outputs": [],
      "source": [
        "import gensim\n",
        "from gensim import corpora, models, similarities\n",
        "from gensim.parsing.preprocessing import STOPWORDS\n",
        "from nltk.corpus import stopwords"
      ]
    },
    {
      "cell_type": "markdown",
      "id": "a6a1ad95",
      "metadata": {
        "id": "a6a1ad95"
      },
      "source": [
        "<b>Examining  the full vocabulary of the tweets<b> "
      ]
    },
    {
      "cell_type": "code",
      "execution_count": 47,
      "id": "49d9d0ae",
      "metadata": {
        "colab": {
          "base_uri": "https://localhost:8080/"
        },
        "id": "49d9d0ae",
        "outputId": "0bb97628-e703-4420-d62c-6a2d0a2e07d7"
      },
      "outputs": [
        {
          "output_type": "stream",
          "name": "stdout",
          "text": [
            "32552 words total, with a vocabulary size of 68\n",
            "Max tweet length is 324\n"
          ]
        }
      ],
      "source": [
        "all_words = [word for tokens in df['tweet_full_text'] for word in tokens]\n",
        "tweet_lengths = [len(tokens) for tokens in df['tweet_full_text']]\n",
        "vocab = sorted(list(set(all_words)))\n",
        "\n",
        "print('{} words total, with a vocabulary size of {}'.format(len(all_words), len(vocab)))\n",
        "print('Max tweet length is {}'.format(max(tweet_lengths)))"
      ]
    },
    {
      "cell_type": "markdown",
      "id": "b97029fb",
      "metadata": {
        "id": "b97029fb"
      },
      "source": [
        "<b>I can build a dictionary to make the word cloud once I know the word frequencies.<b>"
      ]
    },
    {
      "cell_type": "code",
      "execution_count": 48,
      "id": "ef5e6439",
      "metadata": {
        "colab": {
          "base_uri": "https://localhost:8080/"
        },
        "id": "ef5e6439",
        "outputId": "caf588bd-1bbf-4a8b-febc-00db4f968bd3"
      },
      "outputs": [
        {
          "output_type": "execute_result",
          "data": {
            "text/plain": [
              "[(' ', 6402),\n",
              " ('e', 2972),\n",
              " ('o', 2092),\n",
              " ('t', 2078),\n",
              " ('a', 1927),\n",
              " ('i', 1861),\n",
              " ('n', 1763),\n",
              " ('s', 1504),\n",
              " ('r', 1423),\n",
              " ('h', 1168),\n",
              " ('l', 1105),\n",
              " ('d', 891),\n",
              " ('u', 866),\n",
              " ('c', 624),\n",
              " ('m', 605),\n",
              " ('g', 567),\n",
              " ('y', 557),\n",
              " ('w', 486),\n",
              " ('p', 481),\n",
              " ('b', 454),\n",
              " ('f', 426),\n",
              " ('v', 249),\n",
              " ('k', 243),\n",
              " ('I', 138),\n",
              " ('\\n', 127),\n",
              " ('A', 108),\n",
              " ('N', 98),\n",
              " ('O', 94),\n",
              " ('T', 86),\n",
              " ('P', 80)]"
            ]
          },
          "metadata": {},
          "execution_count": 48
        }
      ],
      "source": [
        "from nltk.probability import FreqDist\n",
        "\n",
        "#iterate through each tweet, then each token in each tweet, and store in one list\n",
        "flat_words = [item for sublist in df['tweet_full_text'] for item in sublist]\n",
        "\n",
        "word_freq = FreqDist(flat_words)\n",
        "\n",
        "word_freq.most_common(30)"
      ]
    },
    {
      "cell_type": "code",
      "execution_count": 49,
      "id": "a9c69dc9",
      "metadata": {
        "id": "a9c69dc9"
      },
      "outputs": [],
      "source": [
        "#retrieve word and count from FreqDist tuples\n",
        "\n",
        "most_common_count = [x[1] for x in word_freq.most_common(30)]\n",
        "most_common_word = [x[0] for x in word_freq.most_common(30)]\n",
        "\n",
        "#create dictionary mapping of word count\n",
        "top_30_dictionary = dict(zip(most_common_word, most_common_count))"
      ]
    },
    {
      "cell_type": "code",
      "execution_count": 50,
      "id": "77a19dcd",
      "metadata": {
        "colab": {
          "base_uri": "https://localhost:8080/",
          "height": 433
        },
        "id": "77a19dcd",
        "outputId": "d5cdef67-fa0c-4569-e7d3-42a8887b7483"
      },
      "outputs": [
        {
          "output_type": "display_data",
          "data": {
            "text/plain": [
              "<Figure size 864x576 with 1 Axes>"
            ],
            "image/png": "[encoded data removed]"
          },
          "metadata": {
            "needs_background": "light"
          }
        }
      ],
      "source": [
        "from wordcloud import WordCloud\n",
        "\n",
        "#Create Word Cloud of top 30 words\n",
        "wordcloud = WordCloud(colormap = 'Accent', background_color = 'black')\\\n",
        ".generate_from_frequencies(top_30_dictionary)\n",
        "\n",
        "#plot with matplotlib\n",
        "plt.figure(figsize=(12, 8))\n",
        "plt.imshow(wordcloud, interpolation='bilinear')\n",
        "plt.axis(\"off\")\n",
        "plt.tight_layout(pad=0)\n",
        "plt.savefig('top_30_cloud.png')\n",
        "\n",
        "plt.show()"
      ]
    },
    {
      "cell_type": "code",
      "execution_count": 51,
      "id": "1a4ce6f2",
      "metadata": {
        "id": "1a4ce6f2"
      },
      "outputs": [],
      "source": [
        "from sklearn.feature_extraction.text import TfidfVectorizer\n",
        "tweets=pd.DataFrame(tweets)\n",
        "docs = tweets['tweet_full_text']\n",
        "df=pd.DataFrame(docs)\n",
        "vectorizer = TfidfVectorizer()\n",
        "df = vectorizer.fit_transform(docs)"
      ]
    },
    {
      "cell_type": "code",
      "execution_count": 61,
      "id": "fc412b54",
      "metadata": {
        "colab": {
          "base_uri": "https://localhost:8080/"
        },
        "id": "fc412b54",
        "outputId": "e68ee0cd-0fd7-47f9-af23-04797e61f81d"
      },
      "outputs": [
        {
          "output_type": "stream",
          "name": "stdout",
          "text": [
            "(624, 2717)\n"
          ]
        }
      ],
      "source": [
        "print(df.shape)"
      ]
    },
    {
      "cell_type": "code",
      "execution_count": 53,
      "id": "f50c71ae",
      "metadata": {
        "colab": {
          "base_uri": "https://localhost:8080/"
        },
        "id": "f50c71ae",
        "outputId": "ba39587e-b2e4-4dae-cc56-841a7c345f84"
      },
      "outputs": [
        {
          "output_type": "execute_result",
          "data": {
            "text/plain": [
              "{'good': 0,\n",
              " 'hilarious': 1,\n",
              " 'indeed': 2,\n",
              " 'interest': 3,\n",
              " 'ive': 4,\n",
              " 'much': 5,\n",
              " 'never': 6,\n",
              " 'politics': 7,\n",
              " 'really': 8,\n",
              " 'saw': 9,\n",
              " 'sleep': 10,\n",
              " 'surprising': 11,\n",
              " 'time': 12,\n",
              " 'calm': 13,\n",
              " 'challenges': 14,\n",
              " 'copy': 15,\n",
              " 'document': 16,\n",
              " 'draft': 17,\n",
              " 'everywhere': 18,\n",
              " 'final': 19,\n",
              " 'isnt': 20,\n",
              " 'manifesto': 21,\n",
              " 'nigerias': 22,\n",
              " 'quickly': 23,\n",
              " 'sir': 24,\n",
              " 'something': 25,\n",
              " 'summarize': 26,\n",
              " 'team': 27,\n",
              " 'theres': 28,\n",
              " 'working': 29,\n",
              " 'b': 30,\n",
              " 'dem': 31,\n",
              " 'god': 32,\n",
              " 'help': 33,\n",
              " 'keep': 34,\n",
              " 'na': 35,\n",
              " 'saying': 36,\n",
              " 'thief': 37,\n",
              " 'true': 38,\n",
              " 'us': 39,\n",
              " 'associate': 40,\n",
              " 'gods': 41,\n",
              " 'man': 42,\n",
              " 'willing': 43,\n",
              " '2': 44,\n",
              " '3': 45,\n",
              " 'amp': 46,\n",
              " 'ded': 47,\n",
              " 'dont': 48,\n",
              " 'home': 49,\n",
              " 'jagabans': 50,\n",
              " 'led': 51,\n",
              " 'making': 52,\n",
              " 'meaningless': 53,\n",
              " 'million': 54,\n",
              " 'monday': 55,\n",
              " 'ojukwu': 56,\n",
              " 'people': 57,\n",
              " 'prison': 58,\n",
              " 'region': 59,\n",
              " 'senseless': 60,\n",
              " 'sit': 61,\n",
              " 'stubborn': 62,\n",
              " 'truth': 63,\n",
              " 'u': 64,\n",
              " 'ur': 65,\n",
              " 'w': 66,\n",
              " 'whole': 67,\n",
              " 'chinese': 68,\n",
              " 'cos': 69,\n",
              " 'country': 70,\n",
              " 'dey': 71,\n",
              " 'e': 72,\n",
              " 'go': 73,\n",
              " 'ideas': 74,\n",
              " 'make': 75,\n",
              " 'nice': 76,\n",
              " 'oo': 77,\n",
              " 'sale': 78,\n",
              " 'wuna': 79,\n",
              " 'best': 80,\n",
              " 'hi': 81,\n",
              " 'luck': 82,\n",
              " 'welcome': 83,\n",
              " 'wish': 84,\n",
              " '50nation2020': 85,\n",
              " '69': 86,\n",
              " 'black': 87,\n",
              " 'calamity': 88,\n",
              " 'calling': 89,\n",
              " 'cease': 90,\n",
              " 'charcoal': 91,\n",
              " 'household': 92,\n",
              " 'kettle': 93,\n",
              " 'look': 94,\n",
              " 'may': 95,\n",
              " 'talking': 96,\n",
              " 'active': 97,\n",
              " 'declared': 98,\n",
              " 'obi': 99,\n",
              " 'peter': 100,\n",
              " 'presidency': 101,\n",
              " 'twitter': 102,\n",
              " 'away': 103,\n",
              " 'better': 104,\n",
              " 'handbills': 105,\n",
              " 'snippet': 106,\n",
              " 'stickers': 107,\n",
              " 'suggestion': 108,\n",
              " 'think': 109,\n",
              " 'thrown': 110,\n",
              " 'vehicles': 111,\n",
              " 'bigger': 112,\n",
              " 'enough': 113,\n",
              " 'logo': 114,\n",
              " 'lp': 115,\n",
              " 'quite': 116,\n",
              " 'small': 117,\n",
              " 'space': 118,\n",
              " 'theyre': 119,\n",
              " 'thunk': 120,\n",
              " 'asked': 121,\n",
              " 'boarded': 122,\n",
              " 'buhari': 123,\n",
              " 'coming': 124,\n",
              " 'complain': 125,\n",
              " 'course': 126,\n",
              " 'driver': 127,\n",
              " 'fair': 128,\n",
              " 'going': 129,\n",
              " 'gone': 130,\n",
              " 'grumbled': 131,\n",
              " 'guys': 132,\n",
              " 'hausa': 133,\n",
              " 'hes': 134,\n",
              " 'korope': 135,\n",
              " 'labour': 136,\n",
              " 'leader': 137,\n",
              " 'odeku': 138,\n",
              " 'party': 139,\n",
              " 'pple': 140,\n",
              " 'price': 141,\n",
              " 'said': 142,\n",
              " 'shouldnt': 143,\n",
              " 'vote': 144,\n",
              " 'voting': 145,\n",
              " 'ystrday': 146,\n",
              " 'children': 147,\n",
              " 'even': 148,\n",
              " 'family': 149,\n",
              " 'future': 150,\n",
              " 'living': 151,\n",
              " 'members': 152,\n",
              " 'penury': 153,\n",
              " 'though': 154,\n",
              " '4life': 155,\n",
              " 'age': 156,\n",
              " 'airpods': 157,\n",
              " 'buy': 158,\n",
              " 'earpiece': 159,\n",
              " 'girl': 160,\n",
              " 'got': 161,\n",
              " 'mate': 162,\n",
              " 'rest': 163,\n",
              " 'see': 164,\n",
              " 'slow': 165,\n",
              " 'still': 166,\n",
              " 'whats': 167,\n",
              " '22': 168,\n",
              " '81326098': 169,\n",
              " 'candidate': 170,\n",
              " 'dishing': 171,\n",
              " 'dubious': 172,\n",
              " 'election': 173,\n",
              " 'fictitious': 174,\n",
              " 'nigeria': 175,\n",
              " 'statistics': 176,\n",
              " 'supporting': 177,\n",
              " 'banning': 178,\n",
              " 'buck': 179,\n",
              " 'cheap': 180,\n",
              " 'hatred': 181,\n",
              " 'know': 182,\n",
              " 'musk': 183,\n",
              " 'nonsense': 184,\n",
              " 'one': 185,\n",
              " 'platform': 186,\n",
              " 'regret': 187,\n",
              " 'spew': 188,\n",
              " 'thank': 189,\n",
              " 'wont': 190,\n",
              " 'youll': 191,\n",
              " '1015': 192,\n",
              " 'bad': 193,\n",
              " 'believe': 194,\n",
              " 'decision': 195,\n",
              " 'fine': 196,\n",
              " 'gud': 197,\n",
              " 'igbos': 198,\n",
              " 'im': 199,\n",
              " 'nigerians': 200,\n",
              " 'ok': 201,\n",
              " 'president': 202,\n",
              " 'question': 203,\n",
              " 'struggling': 204,\n",
              " 'telling': 205,\n",
              " 'till': 206,\n",
              " 'understand': 207,\n",
              " 'youi': 208,\n",
              " 'aboki': 209,\n",
              " 'adeleke': 210,\n",
              " 'chioma': 211,\n",
              " 'citizen': 212,\n",
              " 'ekpa': 213,\n",
              " 'elumelu': 214,\n",
              " 'emotional': 215,\n",
              " 'excellency': 216,\n",
              " 'fx': 217,\n",
              " 'heaven': 218,\n",
              " 'jim': 219,\n",
              " 'let': 220,\n",
              " 'message': 221,\n",
              " 'new': 222,\n",
              " 'ovia': 223,\n",
              " 'senior': 224,\n",
              " 'seyi': 225,\n",
              " 'shettima': 226,\n",
              " 'simon': 227,\n",
              " 'tell': 228,\n",
              " 'tinubu': 229,\n",
              " 'tony': 230,\n",
              " 'adebanjo': 231,\n",
              " 'association': 232,\n",
              " 'installing': 233,\n",
              " 'kilimanjaro': 234,\n",
              " 'less': 235,\n",
              " 'misfortune': 236,\n",
              " 'mount': 237,\n",
              " 'pa': 238,\n",
              " 'polling': 239,\n",
              " 'regretting': 240,\n",
              " 'robbed': 241,\n",
              " 'two': 242,\n",
              " 'unit': 243,\n",
              " 'weeks': 244,\n",
              " 'aso': 245,\n",
              " 'bully': 246,\n",
              " 'cannot': 247,\n",
              " 'get': 248,\n",
              " 'ipob': 249,\n",
              " 'member': 250,\n",
              " 'rock': 251,\n",
              " 'terrorists': 252,\n",
              " 'contributor': 253,\n",
              " 'drivennaanu': 254,\n",
              " 'far': 255,\n",
              " 'intelligent': 256,\n",
              " 'major': 257,\n",
              " 'marketing': 258,\n",
              " 'problems': 259,\n",
              " 'solution': 260,\n",
              " 'sowore': 261,\n",
              " '1030': 262,\n",
              " '7': 263,\n",
              " 'ago': 264,\n",
              " 'answered': 265,\n",
              " 'changed': 266,\n",
              " 'close': 267,\n",
              " 'come': 268,\n",
              " 'comfortable': 269,\n",
              " 'difference': 270,\n",
              " 'handshak': 271,\n",
              " 'later': 272,\n",
              " 'like': 273,\n",
              " 'non': 274,\n",
              " 'rant': 275,\n",
              " 'tired': 276,\n",
              " 'years': 277,\n",
              " 'bring': 278,\n",
              " 'cause': 279,\n",
              " 'debate': 280,\n",
              " 'dust': 281,\n",
              " 'endorsement': 282,\n",
              " 'first': 283,\n",
              " 'informed': 284,\n",
              " 'raise': 285,\n",
              " 'sw': 286,\n",
              " '68': 287,\n",
              " 'anambra': 288,\n",
              " 'dropped': 289,\n",
              " 'education': 290,\n",
              " 'fees': 291,\n",
              " 'forget': 292,\n",
              " 'govt': 293,\n",
              " 'poor': 294,\n",
              " 'school': 295,\n",
              " 'state': 296,\n",
              " 'students': 297,\n",
              " 'tripled': 298,\n",
              " 'verify': 299,\n",
              " 'year': 300,\n",
              " 'amazing': 301,\n",
              " '24': 302,\n",
              " '26good': 303,\n",
              " '28': 304,\n",
              " '4ever': 305,\n",
              " '66730274': 306,\n",
              " '85': 307,\n",
              " 'beyond': 308,\n",
              " 'choice': 309,\n",
              " 'concerning': 310,\n",
              " 'convinced': 311,\n",
              " 'destroy': 312,\n",
              " 'discuss': 313,\n",
              " 'dismantled': 314,\n",
              " 'disprove': 315,\n",
              " 'esp': 316,\n",
              " 'evil': 317,\n",
              " 'lets': 318,\n",
              " 'matter': 319,\n",
              " 'must': 320,\n",
              " 'nig': 321,\n",
              " 'please': 322,\n",
              " 'position': 323,\n",
              " 'since': 324,\n",
              " 'subject': 325,\n",
              " 'take': 326,\n",
              " 'things': 327,\n",
              " 'unbalanced': 328,\n",
              " 'validate': 329,\n",
              " 'view': 330,\n",
              " 'word': 331,\n",
              " 'earn': 332,\n",
              " 'hear': 333,\n",
              " 'hypocrites': 334,\n",
              " 'need': 335,\n",
              " 'respect': 336,\n",
              " 'want': 337,\n",
              " '3months': 338,\n",
              " 'breakfast': 339,\n",
              " 'chop': 340,\n",
              " 'clear': 341,\n",
              " 'eye': 342,\n",
              " 'february': 343,\n",
              " 'lol': 344,\n",
              " 'many': 345,\n",
              " 'pas': 346,\n",
              " 'soon': 347,\n",
              " 'una': 348,\n",
              " 'wetin': 349,\n",
              " 'beloved': 350,\n",
              " 'braggado': 351,\n",
              " 'citizens': 352,\n",
              " 'gain': 353,\n",
              " 'governance': 354,\n",
              " 'hungry': 355,\n",
              " 'looking': 356,\n",
              " 'masses': 357,\n",
              " 'nation': 358,\n",
              " 'political': 359,\n",
              " 'stand': 360,\n",
              " 'statement': 361,\n",
              " 'statements': 362,\n",
              " 'daughter': 363,\n",
              " 'fulani': 364,\n",
              " 'kidnappers': 365,\n",
              " 'killed': 366,\n",
              " 'nothing': 367,\n",
              " '1': 368,\n",
              " 'aide': 369,\n",
              " 'candidates': 370,\n",
              " 'challenge': 371,\n",
              " 'co': 372,\n",
              " 'obis': 373,\n",
              " 'photo': 374,\n",
              " 'show': 375,\n",
              " 'bless': 376,\n",
              " 'thanks': 377,\n",
              " 'ah': 378,\n",
              " 'didnt': 379,\n",
              " 'great': 380,\n",
              " 'notice': 381,\n",
              " 'say': 382,\n",
              " 'coup': 383,\n",
              " 'foolish': 384,\n",
              " 'lead': 385,\n",
              " 'thinking': 386,\n",
              " 'conversation': 387,\n",
              " 'participate': 388,\n",
              " '100': 389,\n",
              " 'boldly': 390,\n",
              " 'campaign': 391,\n",
              " 'happy': 392,\n",
              " 'n': 393,\n",
              " 'ozubulu': 394,\n",
              " 'youth': 395,\n",
              " 'divide': 396,\n",
              " 'greed': 397,\n",
              " 'hmmm': 398,\n",
              " 'old': 399,\n",
              " 'nobody': 400,\n",
              " 'prominent': 401,\n",
              " '20172018': 402,\n",
              " 'abia': 403,\n",
              " 'benue': 404,\n",
              " 'dear': 405,\n",
              " 'department': 406,\n",
              " 'echeribe': 407,\n",
              " 'gcfr': 408,\n",
              " 'graduated': 409,\n",
              " 'incoming': 410,\n",
              " 'job': 411,\n",
              " 'lucky': 412,\n",
              " 'makurdi': 413,\n",
              " 'name': 414,\n",
              " 'obidient': 415,\n",
              " 'ogechi': 416,\n",
              " 'reside': 417,\n",
              " 'sociology': 418,\n",
              " 'university': 419,\n",
              " 'boy': 420,\n",
              " 'bros': 421,\n",
              " 'carelessness': 422,\n",
              " 'condolence': 423,\n",
              " 'dearest': 424,\n",
              " 'death': 425,\n",
              " 'died': 426,\n",
              " 'innocent': 427,\n",
              " 'loose': 428,\n",
              " 'lost': 429,\n",
              " 'love': 430,\n",
              " 'nanny': 431,\n",
              " 'pain': 432,\n",
              " 'save': 433,\n",
              " 'showing': 434,\n",
              " 'sin': 435,\n",
              " 'son': 436,\n",
              " 'vibrant': 437,\n",
              " 'way': 438,\n",
              " 'educated': 439,\n",
              " 'explanation': 440,\n",
              " 'illiteracy': 441,\n",
              " 'invalid': 442,\n",
              " 'regions': 443,\n",
              " 'rig': 444,\n",
              " 'soaked': 445,\n",
              " 'speak': 446,\n",
              " 'wake': 447,\n",
              " '5months': 448,\n",
              " 'cashing': 449,\n",
              " 'dedicated': 450,\n",
              " 'free': 451,\n",
              " 'hasnt': 452,\n",
              " 'imagine': 453,\n",
              " 'jack': 454,\n",
              " 'lies': 455,\n",
              " 'likes': 456,\n",
              " 'longer': 457,\n",
              " 'past': 458,\n",
              " 'rescuing': 459,\n",
              " 'retweets': 460,\n",
              " 'work': 461,\n",
              " 'allowed': 462,\n",
              " 'apc': 463,\n",
              " 'attend': 464,\n",
              " 'follow': 465,\n",
              " 'friends': 466,\n",
              " 'h': 467,\n",
              " 'kim': 468,\n",
              " 'korea': 469,\n",
              " 'labourparty': 470,\n",
              " 'meetings': 471,\n",
              " 'obidatti2023': 472,\n",
              " 'peterobi4president2023': 473,\n",
              " 'photoshoot': 474,\n",
              " 'republic': 475,\n",
              " 'strictly': 476,\n",
              " 'takingbacknigeria': 477,\n",
              " 'youngchea': 478,\n",
              " '477': 479,\n",
              " '84': 480,\n",
              " 'beehive': 481,\n",
              " 'bigot': 482,\n",
              " 'blackmail': 483,\n",
              " 'bursted': 484,\n",
              " 'call': 485,\n",
              " 'center': 486,\n",
              " 'guy': 487,\n",
              " 'local': 488,\n",
              " 'mouth': 489,\n",
              " 'resort': 490,\n",
              " 'special': 491,\n",
              " 'supporters': 492,\n",
              " 'tribal': 493,\n",
              " '2023youths': 494,\n",
              " 'atiku': 495,\n",
              " 'displaced': 496,\n",
              " 'hire': 497,\n",
              " 'hotel': 498,\n",
              " 'idp': 499,\n",
              " 'internationally': 500,\n",
              " 'linkup': 501,\n",
              " 'politicians': 502,\n",
              " 'real': 503,\n",
              " 'receptionist': 504,\n",
              " 'went': 505,\n",
              " 'apprehensive': 506,\n",
              " 'bane': 507,\n",
              " 'biafrexit': 508,\n",
              " 'everything': 509,\n",
              " 'fear': 510,\n",
              " 'hedonistic': 511,\n",
              " 'ignites': 512,\n",
              " 'impeccable': 513,\n",
              " 'incontrovertible': 514,\n",
              " 'insurmountable': 515,\n",
              " 'little': 516,\n",
              " 'parasitism': 517,\n",
              " 'referendum': 518,\n",
              " 'unknown': 519,\n",
              " 'competent': 520,\n",
              " 'person': 521,\n",
              " '367': 522,\n",
              " 'blinded': 523,\n",
              " 'capable': 524,\n",
              " 'cautious': 525,\n",
              " 'every': 526,\n",
              " 'hoping': 527,\n",
              " 'ill': 528,\n",
              " 'implicating': 529,\n",
              " 'scrutinize': 530,\n",
              " '2023': 531,\n",
              " 'committed': 532,\n",
              " 'development': 533,\n",
              " 'energies': 534,\n",
              " 'po': 535,\n",
              " 'progress': 536,\n",
              " 'seen': 537,\n",
              " 'sensetizing': 538,\n",
              " 'spending': 539,\n",
              " 'sure': 540,\n",
              " 'tomorrow': 541,\n",
              " 'totally': 542,\n",
              " 'visionary': 543,\n",
              " '4impact': 544,\n",
              " 'affect': 545,\n",
              " 'comprehension': 546,\n",
              " 'disease': 547,\n",
              " 'sorry': 548,\n",
              " '2019': 549,\n",
              " '75': 550,\n",
              " 'cry': 551,\n",
              " 'internet': 552,\n",
              " 'landslide': 553,\n",
              " 'march': 554,\n",
              " 'naija': 555,\n",
              " 'part': 556,\n",
              " 'procedures': 557,\n",
              " 'rigging': 558,\n",
              " 'analysis': 559,\n",
              " 'assume': 560,\n",
              " 'huhuhu': 561,\n",
              " 'lagos': 562,\n",
              " 'laugh': 563,\n",
              " 'parts': 564,\n",
              " 'pipu': 565,\n",
              " 'swahili': 566,\n",
              " 'travel': 567,\n",
              " 'wey': 568,\n",
              " 'continue': 569,\n",
              " 'whoever': 570,\n",
              " 'consultations': 571,\n",
              " 'lot': 572,\n",
              " 'reaching': 573,\n",
              " 'according': 574,\n",
              " 'bcos': 575,\n",
              " 'become': 576,\n",
              " 'bro': 577,\n",
              " 'damaged': 578,\n",
              " 'emotionally': 579,\n",
              " 'empathy': 580,\n",
              " 'failure': 581,\n",
              " 'fg': 582,\n",
              " 'haba': 583,\n",
              " 'hariras': 584,\n",
              " 'psychologically': 585,\n",
              " 'stop': 586,\n",
              " 'tangent': 587,\n",
              " 'worried': 588,\n",
              " 'youre': 589,\n",
              " 'change': 590,\n",
              " 'clothe': 591,\n",
              " 'try': 592,\n",
              " 'wear': 593,\n",
              " 'base': 594,\n",
              " 'bigotry': 595,\n",
              " 'cant': 596,\n",
              " 'choosing': 597,\n",
              " 'cut': 598,\n",
              " 'decide': 599,\n",
              " 'everyone': 600,\n",
              " 'igbo': 601,\n",
              " 'leaders': 602,\n",
              " 'lesson': 603,\n",
              " 'neighbourness': 604,\n",
              " 'selfish': 605,\n",
              " 'thought': 606,\n",
              " 'yoruba': 607,\n",
              " 'asking': 608,\n",
              " 'pls': 609,\n",
              " 'remember': 610,\n",
              " 'traveling': 611,\n",
              " 'worst': 612,\n",
              " 'align': 613,\n",
              " 'backwards': 614,\n",
              " 'bat': 615,\n",
              " 'decided': 616,\n",
              " 'folks': 617,\n",
              " 'narratives': 618,\n",
              " 'nijerians': 619,\n",
              " 'outdated': 620,\n",
              " 'reasonable': 621,\n",
              " 'sane': 622,\n",
              " 'suddenly': 623,\n",
              " 'angry': 624,\n",
              " 'mention': 625,\n",
              " 'votewisely': 626,\n",
              " 'wise': 627,\n",
              " 'agbado': 628,\n",
              " 'certification': 629,\n",
              " 'choose': 630,\n",
              " 'different': 631,\n",
              " 'fall': 632,\n",
              " 'following': 633,\n",
              " 'juju': 634,\n",
              " 'learn': 635,\n",
              " 'mmm': 636,\n",
              " 'nah': 637,\n",
              " 'presidential': 638,\n",
              " 'rational': 639,\n",
              " 'regularly': 640,\n",
              " 'someone': 641,\n",
              " 'surprised': 642,\n",
              " 'types': 643,\n",
              " 'yes': 644,\n",
              " 'anything': 645,\n",
              " 'around': 646,\n",
              " 'chimaroke': 647,\n",
              " 'east': 648,\n",
              " 'governors': 649,\n",
              " 'including': 650,\n",
              " 'nnamani': 651,\n",
              " 'northern': 652,\n",
              " 'popular': 653,\n",
              " 'regional': 654,\n",
              " 'south': 655,\n",
              " 'talk': 656,\n",
              " 'thats': 657,\n",
              " 'ever': 658,\n",
              " 'forgive': 659,\n",
              " 'bandits': 660,\n",
              " 'channel': 661,\n",
              " 'chief': 662,\n",
              " 'commander': 663,\n",
              " 'daniel': 664,\n",
              " 'declare': 665,\n",
              " 'energy': 666,\n",
              " 'ordinary': 667,\n",
              " 'powers': 668,\n",
              " 'war': 669,\n",
              " 'incredible': 670,\n",
              " 'prayer': 671,\n",
              " '0': 672,\n",
              " '98': 673,\n",
              " 'agrees': 674,\n",
              " 'campaigning': 675,\n",
              " 'candidature': 676,\n",
              " 'end': 677,\n",
              " 'margin': 678,\n",
              " 'profit': 679,\n",
              " 'sell': 680,\n",
              " 'delighted': 681,\n",
              " 'helicopter': 682,\n",
              " 'leaving': 683,\n",
              " 'live': 684,\n",
              " 'otukpo': 685,\n",
              " 'acts': 686,\n",
              " 'births': 687,\n",
              " 'brings': 688,\n",
              " 'careful': 689,\n",
              " 'confusion': 690,\n",
              " 'doesnt': 691,\n",
              " 'faith': 692,\n",
              " 'figure': 693,\n",
              " 'forward': 694,\n",
              " 'physical': 695,\n",
              " 'reality': 696,\n",
              " 'says': 697,\n",
              " 'speech': 698,\n",
              " 'speeches': 699,\n",
              " 'spiritual': 700,\n",
              " 'win': 701,\n",
              " 'words': 702,\n",
              " 'world': 703,\n",
              " 'accurate': 704,\n",
              " 'balanced': 705,\n",
              " 'brother': 706,\n",
              " 'flawed': 707,\n",
              " 'founded': 708,\n",
              " 'garnish': 709,\n",
              " 'ha': 710,\n",
              " 'hate': 711,\n",
              " 'knowledge': 712,\n",
              " 'onwith': 713,\n",
              " 'palatable': 714,\n",
              " 'poison': 715,\n",
              " 'sustained': 716,\n",
              " 'tantalizing': 717,\n",
              " 'thing': 718,\n",
              " 'allowing': 719,\n",
              " 'closer': 720,\n",
              " 'grave': 721,\n",
              " 'money': 722,\n",
              " 'pathetic': 723,\n",
              " 'used': 724,\n",
              " '1st': 725,\n",
              " 'came': 726,\n",
              " 'centers': 727,\n",
              " 'deny': 728,\n",
              " 'products': 729,\n",
              " 'waec': 730,\n",
              " 'erected': 731,\n",
              " 'action': 732,\n",
              " 'boko': 733,\n",
              " 'haram': 734,\n",
              " 'mind': 735,\n",
              " 'clueless': 736,\n",
              " 'contestant': 737,\n",
              " 'mere': 738,\n",
              " 'office': 739,\n",
              " 'language': 740,\n",
              " 'localize': 741,\n",
              " 'yorùbá': 742,\n",
              " 'affairs': 743,\n",
              " 'charge': 744,\n",
              " 'foreign': 745,\n",
              " 'ministry': 746,\n",
              " 'becomes': 747,\n",
              " 'cleanup': 748,\n",
              " 'huge': 749,\n",
              " 'level': 750,\n",
              " 'waiting': 751,\n",
              " 'ai': 752,\n",
              " 'always': 753,\n",
              " 'barrel': 754,\n",
              " 'bill': 755,\n",
              " 'clue': 756,\n",
              " 'empty': 757,\n",
              " 'gatesplease': 758,\n",
              " 'looks': 759,\n",
              " 'nanotech': 760,\n",
              " 'next': 761,\n",
              " 'picture': 762,\n",
              " 'terms': 763,\n",
              " 'back': 764,\n",
              " 'child': 765,\n",
              " 'obedient': 766,\n",
              " '4aha': 767,\n",
              " 'announce': 768,\n",
              " 'aware': 769,\n",
              " 'bought': 770,\n",
              " 'care': 771,\n",
              " 'glad': 772,\n",
              " 'kobos': 773,\n",
              " 'leave': 774,\n",
              " 'simply': 775,\n",
              " 'whosoever': 776,\n",
              " 'also': 777,\n",
              " 'compare': 778,\n",
              " 'governor': 779,\n",
              " 'impact': 780,\n",
              " 'lasu': 781,\n",
              " 'meet': 782,\n",
              " 'number': 783,\n",
              " 'wasnt': 784,\n",
              " 'important': 785,\n",
              " 'arewa': 786,\n",
              " 'commitment': 787,\n",
              " 'guide': 788,\n",
              " 'muna': 789,\n",
              " 'north': 790,\n",
              " 'sonka': 791,\n",
              " 'blood': 792,\n",
              " 'ewuchim': 793,\n",
              " 'hot': 794,\n",
              " 'omo': 795,\n",
              " '900': 796,\n",
              " 'feel': 797,\n",
              " 'naira': 798,\n",
              " 'ode': 799,\n",
              " 'worry': 800,\n",
              " 'feels': 801,\n",
              " 'kingdom': 802,\n",
              " 'middle': 803,\n",
              " 'ortesa': 804,\n",
              " 'ortese': 805,\n",
              " 'taking': 806,\n",
              " 'billboards': 807,\n",
              " 'four': 808,\n",
              " 'fucking': 809,\n",
              " 'takes': 810,\n",
              " 'well': 811,\n",
              " 'adjusting': 812,\n",
              " 'affair': 813,\n",
              " 'federal': 814,\n",
              " 'precise': 815,\n",
              " 'presiding': 816,\n",
              " 'start': 817,\n",
              " 'whether': 818,\n",
              " 'able': 819,\n",
              " 'assassinate': 820,\n",
              " 'attempt': 821,\n",
              " 'aurelius': 822,\n",
              " 'blindly': 823,\n",
              " 'bunch': 824,\n",
              " 'character': 825,\n",
              " 'corrupt': 826,\n",
              " 'effort': 827,\n",
              " 'known': 828,\n",
              " 'marcus': 829,\n",
              " 'ridicule': 830,\n",
              " 'spare': 831,\n",
              " 'unite': 832,\n",
              " 'consolation': 833,\n",
              " 'couldnt': 834,\n",
              " 'greatness': 835,\n",
              " 'however': 836,\n",
              " 'last': 837,\n",
              " 'laundering': 838,\n",
              " 'night': 839,\n",
              " 'read': 840,\n",
              " 'step': 841,\n",
              " '18': 842,\n",
              " 'concern': 843,\n",
              " 'elders': 844,\n",
              " 'forum': 845,\n",
              " 'house': 846,\n",
              " 'invited': 847,\n",
              " 'issues': 848,\n",
              " 'respond': 849,\n",
              " 'mugus': 850,\n",
              " 'ones': 851,\n",
              " 'wipe': 852,\n",
              " 'agbadorians': 853,\n",
              " 'aheadwe': 854,\n",
              " 'assistant': 855,\n",
              " 'battle': 856,\n",
              " 'c': 857,\n",
              " 'check': 858,\n",
              " 'christ': 859,\n",
              " 'doneu': 860,\n",
              " 'hold': 861,\n",
              " 'holding': 862,\n",
              " 'jesus': 863,\n",
              " 'obidents': 864,\n",
              " 'ourswe': 865,\n",
              " 'polls': 866,\n",
              " 'pvc': 867,\n",
              " 'recession': 868,\n",
              " 'surely': 869,\n",
              " 'tight': 870,\n",
              " 'yearu': 871,\n",
              " '111': 872,\n",
              " '4u': 873,\n",
              " 'allocation': 874,\n",
              " 'comparing': 875,\n",
              " 'evidence': 876,\n",
              " 'generated': 877,\n",
              " 'left': 878,\n",
              " 'met': 879,\n",
              " 'pictures': 880,\n",
              " 'revenue': 881,\n",
              " 'thomas': 882,\n",
              " 'wrong': 883,\n",
              " 'yet': 884,\n",
              " 'lamba': 885,\n",
              " 'market': 886,\n",
              " 'response': 887,\n",
              " 'simple': 888,\n",
              " 'straight': 889,\n",
              " 'anyone': 890,\n",
              " 'assembly': 891,\n",
              " 'collective': 892,\n",
              " 'contest': 893,\n",
              " 'dry': 894,\n",
              " 'earning': 895,\n",
              " 'forbidding': 896,\n",
              " 'former': 897,\n",
              " 'fraud': 898,\n",
              " 'law': 899,\n",
              " 'milking': 900,\n",
              " 'national': 901,\n",
              " 'pass': 902,\n",
              " 'pensions': 903,\n",
              " 'reps': 904,\n",
              " 'resources': 905,\n",
              " 'senate': 906,\n",
              " 'send': 907,\n",
              " 'cast': 908,\n",
              " 'enemies': 909,\n",
              " 'gonna': 910,\n",
              " 'lose': 911,\n",
              " 'made': 912,\n",
              " 'predictionhe': 913,\n",
              " 'primarily': 914,\n",
              " 'rub': 915,\n",
              " 'tauting': 916,\n",
              " 'truly': 917,\n",
              " 'votes': 918,\n",
              " 'woefully': 919,\n",
              " 'would': 920,\n",
              " 'campuses': 921,\n",
              " 'deceiving': 922,\n",
              " 'exist': 923,\n",
              " 'grass': 924,\n",
              " 'observant': 925,\n",
              " 'roots': 926,\n",
              " 'structure': 927,\n",
              " 'village': 928,\n",
              " 'youths': 929,\n",
              " 'head': 930,\n",
              " 'r': 931,\n",
              " 'shake': 932,\n",
              " 'delta': 933,\n",
              " 'failed': 934,\n",
              " 'pretend': 935,\n",
              " 'yesterday': 936,\n",
              " 'failures': 937,\n",
              " 'mean': 938,\n",
              " 'bank': 939,\n",
              " 'ceo': 940,\n",
              " 'experienced': 941,\n",
              " 'followership': 942,\n",
              " 'kashim': 943,\n",
              " 'manager': 944,\n",
              " 'openly': 945,\n",
              " 'sheepish': 946,\n",
              " 'zenith': 947,\n",
              " 'acknowledged': 948,\n",
              " 'alive': 949,\n",
              " 'ask': 950,\n",
              " 'condemn': 951,\n",
              " 'cowardice': 952,\n",
              " 'dead': 953,\n",
              " 'gumi': 954,\n",
              " 'impostor': 955,\n",
              " 'injustice': 956,\n",
              " 'kanu': 957,\n",
              " 'mazi': 958,\n",
              " 'nnamdi': 959,\n",
              " 'oe': 960,\n",
              " 'ruled': 961,\n",
              " 'sign': 962,\n",
              " 'weakness': 963,\n",
              " 'group': 964,\n",
              " 'vile': 965,\n",
              " 'moved': 966,\n",
              " '2015': 967,\n",
              " 'arẹwà': 968,\n",
              " 'card': 969,\n",
              " 'cost': 970,\n",
              " 'etc': 971,\n",
              " 'hereby': 972,\n",
              " 'jonathan': 973,\n",
              " 'mobilising': 974,\n",
              " 'pdp': 975,\n",
              " 'played': 976,\n",
              " 'spited': 977,\n",
              " 'tambuwal': 978,\n",
              " 'idea': 979,\n",
              " 'changer': 980,\n",
              " 'game': 981,\n",
              " 'locations': 982,\n",
              " 'maybe': 983,\n",
              " 'plenty': 984,\n",
              " 'points': 985,\n",
              " 'reading': 986,\n",
              " 'summary': 987,\n",
              " '9001': 988,\n",
              " 'bids': 989,\n",
              " 'clean': 990,\n",
              " 'defence': 991,\n",
              " 'dispiccable': 992,\n",
              " 'dollar': 993,\n",
              " 'fail': 994,\n",
              " 'frustate': 995,\n",
              " 'milk': 996,\n",
              " 'okey': 997,\n",
              " 'shameless': 998,\n",
              " 'backyard': 999,\n",
              " ...}"
            ]
          },
          "metadata": {},
          "execution_count": 53
        }
      ],
      "source": [
        "from gensim.corpora import Dictionary\n",
        "\n",
        "#create dictionary\n",
        "text_dict = Dictionary(tweets_df_clean)\n",
        "\n",
        "#view integer mappings\n",
        "text_dict.token2id"
      ]
    },
    {
      "cell_type": "code",
      "execution_count": 54,
      "id": "2f80c108",
      "metadata": {
        "id": "2f80c108"
      },
      "outputs": [],
      "source": [
        "tweets_bow = [text_dict.doc2bow(tweet) for tweet in tweets_df_clean]"
      ]
    },
    {
      "cell_type": "code",
      "execution_count": 55,
      "id": "b93434a8",
      "metadata": {
        "colab": {
          "base_uri": "https://localhost:8080/"
        },
        "id": "b93434a8",
        "outputId": "2caa810d-6fd5-4b85-b82d-449769787f07"
      },
      "outputs": [
        {
          "output_type": "execute_result",
          "data": {
            "text/plain": [
              "[(0,\n",
              "  '0.015*\"dey\" + 0.009*\"obi\" + 0.009*\"dont\" + 0.008*\"good\" + 0.008*\"like\" + 0.008*\"3\" + 0.008*\"u\" + 0.006*\"election\" + 0.006*\"one\" + 0.005*\"na\"'),\n",
              " (1,\n",
              "  '0.010*\"dont\" + 0.008*\"man\" + 0.007*\"amp\" + 0.007*\"us\" + 0.007*\"na\" + 0.006*\"know\" + 0.006*\"obi\" + 0.005*\"peter\" + 0.005*\"get\" + 0.005*\"people\"'),\n",
              " (2,\n",
              "  '0.010*\"dont\" + 0.008*\"north\" + 0.007*\"like\" + 0.006*\"obi\" + 0.005*\"people\" + 0.005*\"must\" + 0.005*\"president\" + 0.005*\"know\" + 0.005*\"3\" + 0.005*\"u\"'),\n",
              " (3,\n",
              "  '0.013*\"nigeria\" + 0.009*\"president\" + 0.007*\"1\" + 0.006*\"state\" + 0.006*\"us\" + 0.006*\"great\" + 0.005*\"really\" + 0.005*\"never\" + 0.005*\"vote\" + 0.005*\"3\"'),\n",
              " (4,\n",
              "  '0.013*\"obi\" + 0.012*\"peter\" + 0.009*\"u\" + 0.008*\"nigerians\" + 0.008*\"people\" + 0.007*\"1\" + 0.007*\"know\" + 0.005*\"amp\" + 0.005*\"vote\" + 0.005*\"nigeria\"')]"
            ]
          },
          "metadata": {},
          "execution_count": 55
        }
      ],
      "source": [
        "from gensim.models.ldamodel import LdaModel\n",
        "\n",
        "k = 5\n",
        "tweets_lda = LdaModel(tweets_bow,\n",
        "                      num_topics = k,\n",
        "                      id2word = text_dict,\n",
        "                      random_state = 1,\n",
        "                      passes=10)\n",
        "\n",
        "tweets_lda.show_topics()"
      ]
    },
    {
      "cell_type": "markdown",
      "id": "ee22baa4",
      "metadata": {
        "id": "ee22baa4"
      },
      "source": [
        "<b>Visualizing a topic model<b>"
      ]
    },
    {
      "cell_type": "markdown",
      "id": "0ae5a108",
      "metadata": {
        "id": "0ae5a108"
      },
      "source": [
        "<b> The most obvious topic depicted is the Nigerian Presidential elections<b>"
      ]
    },
    {
      "cell_type": "markdown",
      "id": "ae023ca0",
      "metadata": {
        "id": "ae023ca0"
      },
      "source": [
        "<B>CONCLUSION <B>"
      ]
    },
    {
      "cell_type": "markdown",
      "id": "348678fa",
      "metadata": {
        "id": "348678fa"
      },
      "source": [
        "<b>For the sentiment analysis, the best classification model between Naïve Bayes for sentiment analysis/classification, Support Vector Machine for tweet classification,Logistic Regression sentiment classification, and K-Nearest Neighbor for tweet classification was the Support Vector Machine for tweet classification because it had the highest accuracy of 71%<b>"
      ]
    },
    {
      "cell_type": "code",
      "execution_count": null,
      "id": "1a43693a",
      "metadata": {
        "id": "1a43693a"
      },
      "outputs": [],
      "source": []
    }
  ],
  "metadata": {
    "kernelspec": {
      "display_name": "Python 3 (ipykernel)",
      "language": "python",
      "name": "python3"
    },
    "language_info": {
      "codemirror_mode": {
        "name": "ipython",
        "version": 3
      },
      "file_extension": ".py",
      "mimetype": "text/x-python",
      "name": "python",
      "nbconvert_exporter": "python",
      "pygments_lexer": "ipython3",
      "version": "3.9.12"
    },
    "colab": {
      "provenance": []
    }
  },
  "nbformat": 4,
  "nbformat_minor": 5
}