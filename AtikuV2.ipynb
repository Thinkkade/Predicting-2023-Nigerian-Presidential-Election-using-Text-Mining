{
  "cells": [
    {
      "cell_type": "markdown",
      "id": "72d30f4c",
      "metadata": {
        "id": "72d30f4c"
      },
      "source": [
        "<b>3.Twitter Sentiment Analysis<b>"
      ]
    },
    {
      "cell_type": "code",
      "execution_count": 1,
      "id": "febf18bb",
      "metadata": {
        "id": "febf18bb"
      },
      "outputs": [],
      "source": [
        "import re\n",
        "import string\n",
        "import numpy as np\n",
        "import pandas as pd\n",
        "from nltk.corpus import stopwords\n",
        "from nltk.stem import PorterStemmer\n",
        "from nltk.tokenize import word_tokenize\n",
        "from nltk.tokenize import TweetTokenizer\n",
        "import html"
      ]
    },
    {
      "cell_type": "code",
      "execution_count": 2,
      "id": "9e83b402",
      "metadata": {
        "id": "9e83b402"
      },
      "outputs": [],
      "source": [
        "tweet=pd.read_csv('Atiku_tweets.csv')"
      ]
    },
    {
      "cell_type": "code",
      "execution_count": 3,
      "id": "1b94ba5d",
      "metadata": {
        "colab": {
          "base_uri": "https://localhost:8080/",
          "height": 542
        },
        "id": "1b94ba5d",
        "outputId": "59bb586c-940f-43ab-bbc7-4684707cfa46"
      },
      "outputs": [
        {
          "output_type": "execute_result",
          "data": {
            "text/plain": [
              "            tweet_created_at             tweet_id         tweet_id_str  \\\n",
              "0  2022-11-09 03:31:52+00:00  1590185374638571522  1590185374638571522   \n",
              "1  2022-11-09 03:30:20+00:00  1590184988099477506  1590184988099477506   \n",
              "2  2022-11-09 03:29:36+00:00  1590184805492477952  1590184805492477952   \n",
              "3  2022-11-09 03:29:24+00:00  1590184756553330689  1590184756553330689   \n",
              "4  2022-11-09 03:27:29+00:00  1590184273864454145  1590184273864454145   \n",
              "\n",
              "                                     tweet_full_text  tweet_truncated  \\\n",
              "0  @raypaxful @PeterObi @atiku @officialABAT @ine...            False   \n",
              "1  RT @atiku: My thoughts and prayers are with th...            False   \n",
              "2  @YeleSowore @atiku @PeterObi @officialABAT @Ye...            False   \n",
              "3  RT @bereket12021664: The 🇪🇹n Gov. &amp; TPLF r...            False   \n",
              "4  RT @raybullionzzz7: @YeleSowore @atiku @PeterO...            False   \n",
              "\n",
              "  tweet_display_text_range                                     tweet_entities  \\\n",
              "0                [55, 197]  {'hashtags': [], 'symbols': [], 'user_mentions...   \n",
              "1                 [0, 140]  {'hashtags': [], 'symbols': [], 'user_mentions...   \n",
              "2                [43, 140]  {'hashtags': [], 'symbols': [], 'user_mentions...   \n",
              "3                 [0, 144]  {'hashtags': [{'text': 'TPLF', 'indices': [84,...   \n",
              "4                 [0, 122]  {'hashtags': [], 'symbols': [], 'user_mentions...   \n",
              "\n",
              "                             tweet_entities_mentions tweet_entities_hashtags  \\\n",
              "0  @raypaxful, @PeterObi, @atiku, @officialABAT, ...                     NaN   \n",
              "1                                             @atiku                     NaN   \n",
              "2  @YeleSowore, @atiku, @PeterObi, @officialABAT,...                     NaN   \n",
              "3                     @bereket12021664, @martinplaut                   #TPLF   \n",
              "4  @raybullionzzz7, @YeleSowore, @atiku, @PeterOb...                     NaN   \n",
              "\n",
              "  tweet_entities_urls  ... user_profile_use_background_image  \\\n",
              "0                 NaN  ...                              True   \n",
              "1                 NaN  ...                              True   \n",
              "2                 NaN  ...                              True   \n",
              "3                 NaN  ...                              True   \n",
              "4                 NaN  ...                              True   \n",
              "\n",
              "  user_has_extended_profile user_default_profile user_default_profile_image  \\\n",
              "0                      True                 True                      False   \n",
              "1                      True                 True                      False   \n",
              "2                     False                 True                      False   \n",
              "3                      True                 True                      False   \n",
              "4                      True                 True                      False   \n",
              "\n",
              "   user_following  user_follow_request_sent  user_notifications  \\\n",
              "0           False                     False               False   \n",
              "1           False                     False               False   \n",
              "2           False                     False               False   \n",
              "3           False                     False               False   \n",
              "4           False                     False               False   \n",
              "\n",
              "   user_translator_type user_withheld_in_countries  \\\n",
              "0                  none                         []   \n",
              "1                  none                         []   \n",
              "2                  none                         []   \n",
              "3                  none                         []   \n",
              "4                  none                         []   \n",
              "\n",
              "                      tweet_source_url  \n",
              "0  http://twitter.com/download/android  \n",
              "1  http://twitter.com/download/android  \n",
              "2   http://twitter.com/download/iphone  \n",
              "3  http://twitter.com/download/android  \n",
              "4  http://twitter.com/download/android  \n",
              "\n",
              "[5 rows x 80 columns]"
            ],
            "text/html": [
              "\n",
              "  <div id=\"df-5c0e8092-7134-46db-87fe-6fb289f9c0c3\">\n",
              "    <div class=\"colab-df-container\">\n",
              "      <div>\n",
              "<style scoped>\n",
              "    .dataframe tbody tr th:only-of-type {\n",
              "        vertical-align: middle;\n",
              "    }\n",
              "\n",
              "    .dataframe tbody tr th {\n",
              "        vertical-align: top;\n",
              "    }\n",
              "\n",
              "    .dataframe thead th {\n",
              "        text-align: right;\n",
              "    }\n",
              "</style>\n",
              "<table border=\"1\" class=\"dataframe\">\n",
              "  <thead>\n",
              "    <tr style=\"text-align: right;\">\n",
              "      <th></th>\n",
              "      <th>tweet_created_at</th>\n",
              "      <th>tweet_id</th>\n",
              "      <th>tweet_id_str</th>\n",
              "      <th>tweet_full_text</th>\n",
              "      <th>tweet_truncated</th>\n",
              "      <th>tweet_display_text_range</th>\n",
              "      <th>tweet_entities</th>\n",
              "      <th>tweet_entities_mentions</th>\n",
              "      <th>tweet_entities_hashtags</th>\n",
              "      <th>tweet_entities_urls</th>\n",
              "      <th>...</th>\n",
              "      <th>user_profile_use_background_image</th>\n",
              "      <th>user_has_extended_profile</th>\n",
              "      <th>user_default_profile</th>\n",
              "      <th>user_default_profile_image</th>\n",
              "      <th>user_following</th>\n",
              "      <th>user_follow_request_sent</th>\n",
              "      <th>user_notifications</th>\n",
              "      <th>user_translator_type</th>\n",
              "      <th>user_withheld_in_countries</th>\n",
              "      <th>tweet_source_url</th>\n",
              "    </tr>\n",
              "  </thead>\n",
              "  <tbody>\n",
              "    <tr>\n",
              "      <th>0</th>\n",
              "      <td>2022-11-09 03:31:52+00:00</td>\n",
              "      <td>1590185374638571522</td>\n",
              "      <td>1590185374638571522</td>\n",
              "      <td>@raypaxful @PeterObi @atiku @officialABAT @ine...</td>\n",
              "      <td>False</td>\n",
              "      <td>[55, 197]</td>\n",
              "      <td>{'hashtags': [], 'symbols': [], 'user_mentions...</td>\n",
              "      <td>@raypaxful, @PeterObi, @atiku, @officialABAT, ...</td>\n",
              "      <td>NaN</td>\n",
              "      <td>NaN</td>\n",
              "      <td>...</td>\n",
              "      <td>True</td>\n",
              "      <td>True</td>\n",
              "      <td>True</td>\n",
              "      <td>False</td>\n",
              "      <td>False</td>\n",
              "      <td>False</td>\n",
              "      <td>False</td>\n",
              "      <td>none</td>\n",
              "      <td>[]</td>\n",
              "      <td>http://twitter.com/download/android</td>\n",
              "    </tr>\n",
              "    <tr>\n",
              "      <th>1</th>\n",
              "      <td>2022-11-09 03:30:20+00:00</td>\n",
              "      <td>1590184988099477506</td>\n",
              "      <td>1590184988099477506</td>\n",
              "      <td>RT @atiku: My thoughts and prayers are with th...</td>\n",
              "      <td>False</td>\n",
              "      <td>[0, 140]</td>\n",
              "      <td>{'hashtags': [], 'symbols': [], 'user_mentions...</td>\n",
              "      <td>@atiku</td>\n",
              "      <td>NaN</td>\n",
              "      <td>NaN</td>\n",
              "      <td>...</td>\n",
              "      <td>True</td>\n",
              "      <td>True</td>\n",
              "      <td>True</td>\n",
              "      <td>False</td>\n",
              "      <td>False</td>\n",
              "      <td>False</td>\n",
              "      <td>False</td>\n",
              "      <td>none</td>\n",
              "      <td>[]</td>\n",
              "      <td>http://twitter.com/download/android</td>\n",
              "    </tr>\n",
              "    <tr>\n",
              "      <th>2</th>\n",
              "      <td>2022-11-09 03:29:36+00:00</td>\n",
              "      <td>1590184805492477952</td>\n",
              "      <td>1590184805492477952</td>\n",
              "      <td>@YeleSowore @atiku @PeterObi @officialABAT @Ye...</td>\n",
              "      <td>False</td>\n",
              "      <td>[43, 140]</td>\n",
              "      <td>{'hashtags': [], 'symbols': [], 'user_mentions...</td>\n",
              "      <td>@YeleSowore, @atiku, @PeterObi, @officialABAT,...</td>\n",
              "      <td>NaN</td>\n",
              "      <td>NaN</td>\n",
              "      <td>...</td>\n",
              "      <td>True</td>\n",
              "      <td>False</td>\n",
              "      <td>True</td>\n",
              "      <td>False</td>\n",
              "      <td>False</td>\n",
              "      <td>False</td>\n",
              "      <td>False</td>\n",
              "      <td>none</td>\n",
              "      <td>[]</td>\n",
              "      <td>http://twitter.com/download/iphone</td>\n",
              "    </tr>\n",
              "    <tr>\n",
              "      <th>3</th>\n",
              "      <td>2022-11-09 03:29:24+00:00</td>\n",
              "      <td>1590184756553330689</td>\n",
              "      <td>1590184756553330689</td>\n",
              "      <td>RT @bereket12021664: The 🇪🇹n Gov. &amp;amp; TPLF r...</td>\n",
              "      <td>False</td>\n",
              "      <td>[0, 144]</td>\n",
              "      <td>{'hashtags': [{'text': 'TPLF', 'indices': [84,...</td>\n",
              "      <td>@bereket12021664, @martinplaut</td>\n",
              "      <td>#TPLF</td>\n",
              "      <td>NaN</td>\n",
              "      <td>...</td>\n",
              "      <td>True</td>\n",
              "      <td>True</td>\n",
              "      <td>True</td>\n",
              "      <td>False</td>\n",
              "      <td>False</td>\n",
              "      <td>False</td>\n",
              "      <td>False</td>\n",
              "      <td>none</td>\n",
              "      <td>[]</td>\n",
              "      <td>http://twitter.com/download/android</td>\n",
              "    </tr>\n",
              "    <tr>\n",
              "      <th>4</th>\n",
              "      <td>2022-11-09 03:27:29+00:00</td>\n",
              "      <td>1590184273864454145</td>\n",
              "      <td>1590184273864454145</td>\n",
              "      <td>RT @raybullionzzz7: @YeleSowore @atiku @PeterO...</td>\n",
              "      <td>False</td>\n",
              "      <td>[0, 122]</td>\n",
              "      <td>{'hashtags': [], 'symbols': [], 'user_mentions...</td>\n",
              "      <td>@raybullionzzz7, @YeleSowore, @atiku, @PeterOb...</td>\n",
              "      <td>NaN</td>\n",
              "      <td>NaN</td>\n",
              "      <td>...</td>\n",
              "      <td>True</td>\n",
              "      <td>True</td>\n",
              "      <td>True</td>\n",
              "      <td>False</td>\n",
              "      <td>False</td>\n",
              "      <td>False</td>\n",
              "      <td>False</td>\n",
              "      <td>none</td>\n",
              "      <td>[]</td>\n",
              "      <td>http://twitter.com/download/android</td>\n",
              "    </tr>\n",
              "  </tbody>\n",
              "</table>\n",
              "<p>5 rows × 80 columns</p>\n",
              "</div>\n",
              "      <button class=\"colab-df-convert\" onclick=\"convertToInteractive('df-5c0e8092-7134-46db-87fe-6fb289f9c0c3')\"\n",
              "              title=\"Convert this dataframe to an interactive table.\"\n",
              "              style=\"display:none;\">\n",
              "        \n",
              "  <svg xmlns=\"http://www.w3.org/2000/svg\" height=\"24px\"viewBox=\"0 0 24 24\"\n",
              "       width=\"24px\">\n",
              "    <path d=\"M0 0h24v24H0V0z\" fill=\"none\"/>\n",
              "    <path d=\"M18.56 5.44l.94 2.06.94-2.06 2.06-.94-2.06-.94-.94-2.06-.94 2.06-2.06.94zm-11 1L8.5 8.5l.94-2.06 2.06-.94-2.06-.94L8.5 2.5l-.94 2.06-2.06.94zm10 10l.94 2.06.94-2.06 2.06-.94-2.06-.94-.94-2.06-.94 2.06-2.06.94z\"/><path d=\"M17.41 7.96l-1.37-1.37c-.4-.4-.92-.59-1.43-.59-.52 0-1.04.2-1.43.59L10.3 9.45l-7.72 7.72c-.78.78-.78 2.05 0 2.83L4 21.41c.39.39.9.59 1.41.59.51 0 1.02-.2 1.41-.59l7.78-7.78 2.81-2.81c.8-.78.8-2.07 0-2.86zM5.41 20L4 18.59l7.72-7.72 1.47 1.35L5.41 20z\"/>\n",
              "  </svg>\n",
              "      </button>\n",
              "      \n",
              "  <style>\n",
              "    .colab-df-container {\n",
              "      display:flex;\n",
              "      flex-wrap:wrap;\n",
              "      gap: 12px;\n",
              "    }\n",
              "\n",
              "    .colab-df-convert {\n",
              "      background-color: #E8F0FE;\n",
              "      border: none;\n",
              "      border-radius: 50%;\n",
              "      cursor: pointer;\n",
              "      display: none;\n",
              "      fill: #1967D2;\n",
              "      height: 32px;\n",
              "      padding: 0 0 0 0;\n",
              "      width: 32px;\n",
              "    }\n",
              "\n",
              "    .colab-df-convert:hover {\n",
              "      background-color: #E2EBFA;\n",
              "      box-shadow: 0px 1px 2px rgba(60, 64, 67, 0.3), 0px 1px 3px 1px rgba(60, 64, 67, 0.15);\n",
              "      fill: #174EA6;\n",
              "    }\n",
              "\n",
              "    [theme=dark] .colab-df-convert {\n",
              "      background-color: #3B4455;\n",
              "      fill: #D2E3FC;\n",
              "    }\n",
              "\n",
              "    [theme=dark] .colab-df-convert:hover {\n",
              "      background-color: #434B5C;\n",
              "      box-shadow: 0px 1px 3px 1px rgba(0, 0, 0, 0.15);\n",
              "      filter: drop-shadow(0px 1px 2px rgba(0, 0, 0, 0.3));\n",
              "      fill: #FFFFFF;\n",
              "    }\n",
              "  </style>\n",
              "\n",
              "      <script>\n",
              "        const buttonEl =\n",
              "          document.querySelector('#df-5c0e8092-7134-46db-87fe-6fb289f9c0c3 button.colab-df-convert');\n",
              "        buttonEl.style.display =\n",
              "          google.colab.kernel.accessAllowed ? 'block' : 'none';\n",
              "\n",
              "        async function convertToInteractive(key) {\n",
              "          const element = document.querySelector('#df-5c0e8092-7134-46db-87fe-6fb289f9c0c3');\n",
              "          const dataTable =\n",
              "            await google.colab.kernel.invokeFunction('convertToInteractive',\n",
              "                                                     [key], {});\n",
              "          if (!dataTable) return;\n",
              "\n",
              "          const docLinkHtml = 'Like what you see? Visit the ' +\n",
              "            '<a target=\"_blank\" href=https://colab.research.google.com/notebooks/data_table.ipynb>data table notebook</a>'\n",
              "            + ' to learn more about interactive tables.';\n",
              "          element.innerHTML = '';\n",
              "          dataTable['output_type'] = 'display_data';\n",
              "          await google.colab.output.renderOutput(dataTable, element);\n",
              "          const docLink = document.createElement('div');\n",
              "          docLink.innerHTML = docLinkHtml;\n",
              "          element.appendChild(docLink);\n",
              "        }\n",
              "      </script>\n",
              "    </div>\n",
              "  </div>\n",
              "  "
            ]
          },
          "metadata": {},
          "execution_count": 3
        }
      ],
      "source": [
        "new_data = tweet.drop_duplicates('tweet_full_text',keep='first') #delete the duplicates by dropping them and store the result value to a new variable\n",
        "new_data.head()"
      ]
    },
    {
      "cell_type": "code",
      "execution_count": 4,
      "id": "0809a261",
      "metadata": {
        "colab": {
          "base_uri": "https://localhost:8080/",
          "height": 0
        },
        "id": "0809a261",
        "outputId": "fc29848e-727b-4d17-fba4-cd0a421b92bd"
      },
      "outputs": [
        {
          "output_type": "execute_result",
          "data": {
            "text/plain": [
              "0    @raypaxful @PeterObi @atiku @officialABAT @ine...\n",
              "1    RT @atiku: My thoughts and prayers are with th...\n",
              "2    @YeleSowore @atiku @PeterObi @officialABAT @Ye...\n",
              "3    RT @bereket12021664: The 🇪🇹n Gov. &amp; TPLF r...\n",
              "4    RT @raybullionzzz7: @YeleSowore @atiku @PeterO...\n",
              "Name: tweet_full_text, dtype: object"
            ]
          },
          "metadata": {},
          "execution_count": 4
        }
      ],
      "source": [
        "new_data.to_csv(r'my_new_sample.csv', index = False)\n",
        "new_sample = pd.read_csv('my_new_sample.csv')\n",
        "new_sample.head()\n",
        "tweets = new_sample['tweet_full_text']\n",
        "tweets.head()"
      ]
    },
    {
      "cell_type": "code",
      "execution_count": 5,
      "id": "3cef2511",
      "metadata": {
        "colab": {
          "base_uri": "https://localhost:8080/",
          "height": 0
        },
        "id": "3cef2511",
        "outputId": "579c3065-656e-4c76-e3b7-ece503f31518"
      },
      "outputs": [
        {
          "output_type": "stream",
          "name": "stderr",
          "text": [
            "<ipython-input-5-0aa6cd3f07c9>:3: SettingWithCopyWarning: \n",
            "A value is trying to be set on a copy of a slice from a DataFrame\n",
            "\n",
            "See the caveats in the documentation: https://pandas.pydata.org/pandas-docs/stable/user_guide/indexing.html#returning-a-view-versus-a-copy\n",
            "  tweets[i] = html.unescape(x)\n"
          ]
        },
        {
          "output_type": "execute_result",
          "data": {
            "text/plain": [
              "0    @raypaxful @PeterObi @atiku @officialABAT @ine...\n",
              "1    RT @atiku: My thoughts and prayers are with th...\n",
              "2    @YeleSowore @atiku @PeterObi @officialABAT @Ye...\n",
              "3    RT @bereket12021664: The 🇪🇹n Gov. &amp; TPLF r...\n",
              "4    RT @raybullionzzz7: @YeleSowore @atiku @PeterO...\n",
              "Name: tweet_full_text, dtype: object"
            ]
          },
          "metadata": {},
          "execution_count": 5
        }
      ],
      "source": [
        "for i in range (len(tweets)):\n",
        "    x = tweets[i].replace(\"\\n\",\" \") #cleaning newline “\\n” from the tweets\n",
        "tweets[i] = html.unescape(x)\n",
        "tweets.head()"
      ]
    },
    {
      "cell_type": "code",
      "execution_count": 6,
      "id": "88b936d5",
      "metadata": {
        "colab": {
          "base_uri": "https://localhost:8080/",
          "height": 0
        },
        "id": "88b936d5",
        "outputId": "ec733c84-0bcd-4eef-f719-b6f96d7ad62a"
      },
      "outputs": [
        {
          "output_type": "stream",
          "name": "stderr",
          "text": [
            "<ipython-input-6-fe1ce977eacf>:2: SettingWithCopyWarning: \n",
            "A value is trying to be set on a copy of a slice from a DataFrame\n",
            "\n",
            "See the caveats in the documentation: https://pandas.pydata.org/pandas-docs/stable/user_guide/indexing.html#returning-a-view-versus-a-copy\n",
            "  tweets[i] = re.sub(r\"(@[A-Za-z0–9_]+)|[^\\w\\s]|#|http\\S+\", \"\", tweets[i])\n"
          ]
        }
      ],
      "source": [
        "for i in range (len(tweets)):\n",
        "    tweets[i] = re.sub(r\"(@[A-Za-z0–9_]+)|[^\\w\\s]|#|http\\S+\", \"\", tweets[i])"
      ]
    },
    {
      "cell_type": "code",
      "execution_count": 7,
      "id": "207f9aaa",
      "metadata": {
        "id": "207f9aaa"
      },
      "outputs": [],
      "source": [
        "df=pd.DataFrame(tweets)"
      ]
    },
    {
      "cell_type": "code",
      "execution_count": 8,
      "id": "81c99d28",
      "metadata": {
        "id": "81c99d28"
      },
      "outputs": [],
      "source": [
        "df=df[~df.tweet_full_text.str.contains('RT')]"
      ]
    },
    {
      "cell_type": "code",
      "execution_count": 9,
      "id": "10c9eb84",
      "metadata": {
        "colab": {
          "base_uri": "https://localhost:8080/",
          "height": 206
        },
        "id": "10c9eb84",
        "outputId": "e905bfdd-c285-47d0-ae33-ad1b63992d36"
      },
      "outputs": [
        {
          "output_type": "execute_result",
          "data": {
            "text/plain": [
              "                                      tweet_full_text\n",
              "0        This whole thing is nonsense and waste of...\n",
              "2        You are not any better you just havent ha...\n",
              "10       Why sowore no take am to courtNo be Candi...\n",
              "11      What is the difference between a drug runn...\n",
              "14       Funny enough you follow sign Peace Accord..."
            ],
            "text/html": [
              "\n",
              "  <div id=\"df-da54e408-7f09-4f71-a75b-d8bf0bc06b1f\">\n",
              "    <div class=\"colab-df-container\">\n",
              "      <div>\n",
              "<style scoped>\n",
              "    .dataframe tbody tr th:only-of-type {\n",
              "        vertical-align: middle;\n",
              "    }\n",
              "\n",
              "    .dataframe tbody tr th {\n",
              "        vertical-align: top;\n",
              "    }\n",
              "\n",
              "    .dataframe thead th {\n",
              "        text-align: right;\n",
              "    }\n",
              "</style>\n",
              "<table border=\"1\" class=\"dataframe\">\n",
              "  <thead>\n",
              "    <tr style=\"text-align: right;\">\n",
              "      <th></th>\n",
              "      <th>tweet_full_text</th>\n",
              "    </tr>\n",
              "  </thead>\n",
              "  <tbody>\n",
              "    <tr>\n",
              "      <th>0</th>\n",
              "      <td>This whole thing is nonsense and waste of...</td>\n",
              "    </tr>\n",
              "    <tr>\n",
              "      <th>2</th>\n",
              "      <td>You are not any better you just havent ha...</td>\n",
              "    </tr>\n",
              "    <tr>\n",
              "      <th>10</th>\n",
              "      <td>Why sowore no take am to courtNo be Candi...</td>\n",
              "    </tr>\n",
              "    <tr>\n",
              "      <th>11</th>\n",
              "      <td>What is the difference between a drug runn...</td>\n",
              "    </tr>\n",
              "    <tr>\n",
              "      <th>14</th>\n",
              "      <td>Funny enough you follow sign Peace Accord...</td>\n",
              "    </tr>\n",
              "  </tbody>\n",
              "</table>\n",
              "</div>\n",
              "      <button class=\"colab-df-convert\" onclick=\"convertToInteractive('df-da54e408-7f09-4f71-a75b-d8bf0bc06b1f')\"\n",
              "              title=\"Convert this dataframe to an interactive table.\"\n",
              "              style=\"display:none;\">\n",
              "        \n",
              "  <svg xmlns=\"http://www.w3.org/2000/svg\" height=\"24px\"viewBox=\"0 0 24 24\"\n",
              "       width=\"24px\">\n",
              "    <path d=\"M0 0h24v24H0V0z\" fill=\"none\"/>\n",
              "    <path d=\"M18.56 5.44l.94 2.06.94-2.06 2.06-.94-2.06-.94-.94-2.06-.94 2.06-2.06.94zm-11 1L8.5 8.5l.94-2.06 2.06-.94-2.06-.94L8.5 2.5l-.94 2.06-2.06.94zm10 10l.94 2.06.94-2.06 2.06-.94-2.06-.94-.94-2.06-.94 2.06-2.06.94z\"/><path d=\"M17.41 7.96l-1.37-1.37c-.4-.4-.92-.59-1.43-.59-.52 0-1.04.2-1.43.59L10.3 9.45l-7.72 7.72c-.78.78-.78 2.05 0 2.83L4 21.41c.39.39.9.59 1.41.59.51 0 1.02-.2 1.41-.59l7.78-7.78 2.81-2.81c.8-.78.8-2.07 0-2.86zM5.41 20L4 18.59l7.72-7.72 1.47 1.35L5.41 20z\"/>\n",
              "  </svg>\n",
              "      </button>\n",
              "      \n",
              "  <style>\n",
              "    .colab-df-container {\n",
              "      display:flex;\n",
              "      flex-wrap:wrap;\n",
              "      gap: 12px;\n",
              "    }\n",
              "\n",
              "    .colab-df-convert {\n",
              "      background-color: #E8F0FE;\n",
              "      border: none;\n",
              "      border-radius: 50%;\n",
              "      cursor: pointer;\n",
              "      display: none;\n",
              "      fill: #1967D2;\n",
              "      height: 32px;\n",
              "      padding: 0 0 0 0;\n",
              "      width: 32px;\n",
              "    }\n",
              "\n",
              "    .colab-df-convert:hover {\n",
              "      background-color: #E2EBFA;\n",
              "      box-shadow: 0px 1px 2px rgba(60, 64, 67, 0.3), 0px 1px 3px 1px rgba(60, 64, 67, 0.15);\n",
              "      fill: #174EA6;\n",
              "    }\n",
              "\n",
              "    [theme=dark] .colab-df-convert {\n",
              "      background-color: #3B4455;\n",
              "      fill: #D2E3FC;\n",
              "    }\n",
              "\n",
              "    [theme=dark] .colab-df-convert:hover {\n",
              "      background-color: #434B5C;\n",
              "      box-shadow: 0px 1px 3px 1px rgba(0, 0, 0, 0.15);\n",
              "      filter: drop-shadow(0px 1px 2px rgba(0, 0, 0, 0.3));\n",
              "      fill: #FFFFFF;\n",
              "    }\n",
              "  </style>\n",
              "\n",
              "      <script>\n",
              "        const buttonEl =\n",
              "          document.querySelector('#df-da54e408-7f09-4f71-a75b-d8bf0bc06b1f button.colab-df-convert');\n",
              "        buttonEl.style.display =\n",
              "          google.colab.kernel.accessAllowed ? 'block' : 'none';\n",
              "\n",
              "        async function convertToInteractive(key) {\n",
              "          const element = document.querySelector('#df-da54e408-7f09-4f71-a75b-d8bf0bc06b1f');\n",
              "          const dataTable =\n",
              "            await google.colab.kernel.invokeFunction('convertToInteractive',\n",
              "                                                     [key], {});\n",
              "          if (!dataTable) return;\n",
              "\n",
              "          const docLinkHtml = 'Like what you see? Visit the ' +\n",
              "            '<a target=\"_blank\" href=https://colab.research.google.com/notebooks/data_table.ipynb>data table notebook</a>'\n",
              "            + ' to learn more about interactive tables.';\n",
              "          element.innerHTML = '';\n",
              "          dataTable['output_type'] = 'display_data';\n",
              "          await google.colab.output.renderOutput(dataTable, element);\n",
              "          const docLink = document.createElement('div');\n",
              "          docLink.innerHTML = docLinkHtml;\n",
              "          element.appendChild(docLink);\n",
              "        }\n",
              "      </script>\n",
              "    </div>\n",
              "  </div>\n",
              "  "
            ]
          },
          "metadata": {},
          "execution_count": 9
        }
      ],
      "source": [
        "df.head()"
      ]
    },
    {
      "cell_type": "code",
      "execution_count": 10,
      "id": "4e3f1c83",
      "metadata": {
        "colab": {
          "base_uri": "https://localhost:8080/",
          "height": 423
        },
        "id": "4e3f1c83",
        "outputId": "7923f564-a683-4b43-86cd-588681fa66b0"
      },
      "outputs": [
        {
          "output_type": "execute_result",
          "data": {
            "text/plain": [
              "                                        tweet_full_text  Subjectivity  \\\n",
              "0          This whole thing is nonsense and waste of...      0.200000   \n",
              "2          You are not any better you just havent ha...      0.500000   \n",
              "10         Why sowore no take am to courtNo be Candi...      0.000000   \n",
              "11        What is the difference between a drug runn...      0.000000   \n",
              "14         Funny enough you follow sign Peace Accord...      0.650000   \n",
              "...                                                 ...           ...   \n",
              "1016    Atiku is not destined to become the presiden...      0.000000   \n",
              "1018                                       We love you       0.600000   \n",
              "1019   Mr presidential candidate please unify your p...      0.233333   \n",
              "1020   Atiku is the man\\nThe unifier the bridge buil...      0.000000   \n",
              "1021                          May God comfort them Amen      0.000000   \n",
              "\n",
              "      Polarity  \n",
              "0     0.000000  \n",
              "2     0.500000  \n",
              "10    0.000000  \n",
              "11    0.000000  \n",
              "14    0.441667  \n",
              "...        ...  \n",
              "1016  0.000000  \n",
              "1018  0.500000  \n",
              "1019  0.316667  \n",
              "1020  0.000000  \n",
              "1021  0.000000  \n",
              "\n",
              "[800 rows x 3 columns]"
            ],
            "text/html": [
              "\n",
              "  <div id=\"df-04af6338-b5cd-4d82-9a95-b726efc3886d\">\n",
              "    <div class=\"colab-df-container\">\n",
              "      <div>\n",
              "<style scoped>\n",
              "    .dataframe tbody tr th:only-of-type {\n",
              "        vertical-align: middle;\n",
              "    }\n",
              "\n",
              "    .dataframe tbody tr th {\n",
              "        vertical-align: top;\n",
              "    }\n",
              "\n",
              "    .dataframe thead th {\n",
              "        text-align: right;\n",
              "    }\n",
              "</style>\n",
              "<table border=\"1\" class=\"dataframe\">\n",
              "  <thead>\n",
              "    <tr style=\"text-align: right;\">\n",
              "      <th></th>\n",
              "      <th>tweet_full_text</th>\n",
              "      <th>Subjectivity</th>\n",
              "      <th>Polarity</th>\n",
              "    </tr>\n",
              "  </thead>\n",
              "  <tbody>\n",
              "    <tr>\n",
              "      <th>0</th>\n",
              "      <td>This whole thing is nonsense and waste of...</td>\n",
              "      <td>0.200000</td>\n",
              "      <td>0.000000</td>\n",
              "    </tr>\n",
              "    <tr>\n",
              "      <th>2</th>\n",
              "      <td>You are not any better you just havent ha...</td>\n",
              "      <td>0.500000</td>\n",
              "      <td>0.500000</td>\n",
              "    </tr>\n",
              "    <tr>\n",
              "      <th>10</th>\n",
              "      <td>Why sowore no take am to courtNo be Candi...</td>\n",
              "      <td>0.000000</td>\n",
              "      <td>0.000000</td>\n",
              "    </tr>\n",
              "    <tr>\n",
              "      <th>11</th>\n",
              "      <td>What is the difference between a drug runn...</td>\n",
              "      <td>0.000000</td>\n",
              "      <td>0.000000</td>\n",
              "    </tr>\n",
              "    <tr>\n",
              "      <th>14</th>\n",
              "      <td>Funny enough you follow sign Peace Accord...</td>\n",
              "      <td>0.650000</td>\n",
              "      <td>0.441667</td>\n",
              "    </tr>\n",
              "    <tr>\n",
              "      <th>...</th>\n",
              "      <td>...</td>\n",
              "      <td>...</td>\n",
              "      <td>...</td>\n",
              "    </tr>\n",
              "    <tr>\n",
              "      <th>1016</th>\n",
              "      <td>Atiku is not destined to become the presiden...</td>\n",
              "      <td>0.000000</td>\n",
              "      <td>0.000000</td>\n",
              "    </tr>\n",
              "    <tr>\n",
              "      <th>1018</th>\n",
              "      <td>We love you</td>\n",
              "      <td>0.600000</td>\n",
              "      <td>0.500000</td>\n",
              "    </tr>\n",
              "    <tr>\n",
              "      <th>1019</th>\n",
              "      <td>Mr presidential candidate please unify your p...</td>\n",
              "      <td>0.233333</td>\n",
              "      <td>0.316667</td>\n",
              "    </tr>\n",
              "    <tr>\n",
              "      <th>1020</th>\n",
              "      <td>Atiku is the man\\nThe unifier the bridge buil...</td>\n",
              "      <td>0.000000</td>\n",
              "      <td>0.000000</td>\n",
              "    </tr>\n",
              "    <tr>\n",
              "      <th>1021</th>\n",
              "      <td>May God comfort them Amen</td>\n",
              "      <td>0.000000</td>\n",
              "      <td>0.000000</td>\n",
              "    </tr>\n",
              "  </tbody>\n",
              "</table>\n",
              "<p>800 rows × 3 columns</p>\n",
              "</div>\n",
              "      <button class=\"colab-df-convert\" onclick=\"convertToInteractive('df-04af6338-b5cd-4d82-9a95-b726efc3886d')\"\n",
              "              title=\"Convert this dataframe to an interactive table.\"\n",
              "              style=\"display:none;\">\n",
              "        \n",
              "  <svg xmlns=\"http://www.w3.org/2000/svg\" height=\"24px\"viewBox=\"0 0 24 24\"\n",
              "       width=\"24px\">\n",
              "    <path d=\"M0 0h24v24H0V0z\" fill=\"none\"/>\n",
              "    <path d=\"M18.56 5.44l.94 2.06.94-2.06 2.06-.94-2.06-.94-.94-2.06-.94 2.06-2.06.94zm-11 1L8.5 8.5l.94-2.06 2.06-.94-2.06-.94L8.5 2.5l-.94 2.06-2.06.94zm10 10l.94 2.06.94-2.06 2.06-.94-2.06-.94-.94-2.06-.94 2.06-2.06.94z\"/><path d=\"M17.41 7.96l-1.37-1.37c-.4-.4-.92-.59-1.43-.59-.52 0-1.04.2-1.43.59L10.3 9.45l-7.72 7.72c-.78.78-.78 2.05 0 2.83L4 21.41c.39.39.9.59 1.41.59.51 0 1.02-.2 1.41-.59l7.78-7.78 2.81-2.81c.8-.78.8-2.07 0-2.86zM5.41 20L4 18.59l7.72-7.72 1.47 1.35L5.41 20z\"/>\n",
              "  </svg>\n",
              "      </button>\n",
              "      \n",
              "  <style>\n",
              "    .colab-df-container {\n",
              "      display:flex;\n",
              "      flex-wrap:wrap;\n",
              "      gap: 12px;\n",
              "    }\n",
              "\n",
              "    .colab-df-convert {\n",
              "      background-color: #E8F0FE;\n",
              "      border: none;\n",
              "      border-radius: 50%;\n",
              "      cursor: pointer;\n",
              "      display: none;\n",
              "      fill: #1967D2;\n",
              "      height: 32px;\n",
              "      padding: 0 0 0 0;\n",
              "      width: 32px;\n",
              "    }\n",
              "\n",
              "    .colab-df-convert:hover {\n",
              "      background-color: #E2EBFA;\n",
              "      box-shadow: 0px 1px 2px rgba(60, 64, 67, 0.3), 0px 1px 3px 1px rgba(60, 64, 67, 0.15);\n",
              "      fill: #174EA6;\n",
              "    }\n",
              "\n",
              "    [theme=dark] .colab-df-convert {\n",
              "      background-color: #3B4455;\n",
              "      fill: #D2E3FC;\n",
              "    }\n",
              "\n",
              "    [theme=dark] .colab-df-convert:hover {\n",
              "      background-color: #434B5C;\n",
              "      box-shadow: 0px 1px 3px 1px rgba(0, 0, 0, 0.15);\n",
              "      filter: drop-shadow(0px 1px 2px rgba(0, 0, 0, 0.3));\n",
              "      fill: #FFFFFF;\n",
              "    }\n",
              "  </style>\n",
              "\n",
              "      <script>\n",
              "        const buttonEl =\n",
              "          document.querySelector('#df-04af6338-b5cd-4d82-9a95-b726efc3886d button.colab-df-convert');\n",
              "        buttonEl.style.display =\n",
              "          google.colab.kernel.accessAllowed ? 'block' : 'none';\n",
              "\n",
              "        async function convertToInteractive(key) {\n",
              "          const element = document.querySelector('#df-04af6338-b5cd-4d82-9a95-b726efc3886d');\n",
              "          const dataTable =\n",
              "            await google.colab.kernel.invokeFunction('convertToInteractive',\n",
              "                                                     [key], {});\n",
              "          if (!dataTable) return;\n",
              "\n",
              "          const docLinkHtml = 'Like what you see? Visit the ' +\n",
              "            '<a target=\"_blank\" href=https://colab.research.google.com/notebooks/data_table.ipynb>data table notebook</a>'\n",
              "            + ' to learn more about interactive tables.';\n",
              "          element.innerHTML = '';\n",
              "          dataTable['output_type'] = 'display_data';\n",
              "          await google.colab.output.renderOutput(dataTable, element);\n",
              "          const docLink = document.createElement('div');\n",
              "          docLink.innerHTML = docLinkHtml;\n",
              "          element.appendChild(docLink);\n",
              "        }\n",
              "      </script>\n",
              "    </div>\n",
              "  </div>\n",
              "  "
            ]
          },
          "metadata": {},
          "execution_count": 10
        }
      ],
      "source": [
        "from textblob import TextBlob\n",
        "## create function to subjectivity\n",
        "def getSubjectivity(text):\n",
        "    return TextBlob(text).sentiment.subjectivity\n",
        "## create function to get polarity\n",
        "def getPolarity(text):\n",
        "    return TextBlob(text).sentiment.polarity\n",
        "## create two new column\n",
        "df['Subjectivity']=df['tweet_full_text'].apply(getSubjectivity)\n",
        "df['Polarity']=df['tweet_full_text'].apply(getPolarity)\n",
        "## show new Dataframe\n",
        "df"
      ]
    },
    {
      "cell_type": "code",
      "execution_count": 11,
      "id": "8c0805ac",
      "metadata": {
        "colab": {
          "base_uri": "https://localhost:8080/",
          "height": 0
        },
        "id": "8c0805ac",
        "outputId": "bfe02199-87b7-41d2-c4a2-31a79329f4b4"
      },
      "outputs": [
        {
          "output_type": "stream",
          "name": "stdout",
          "text": [
            "                                        tweet_full_text  Subjectivity  \\\n",
            "0          This whole thing is nonsense and waste of...      0.200000   \n",
            "2          You are not any better you just havent ha...      0.500000   \n",
            "10         Why sowore no take am to courtNo be Candi...      0.000000   \n",
            "11        What is the difference between a drug runn...      0.000000   \n",
            "14         Funny enough you follow sign Peace Accord...      0.650000   \n",
            "...                                                 ...           ...   \n",
            "1016    Atiku is not destined to become the presiden...      0.000000   \n",
            "1018                                       We love you       0.600000   \n",
            "1019   Mr presidential candidate please unify your p...      0.233333   \n",
            "1020   Atiku is the man\\nThe unifier the bridge buil...      0.000000   \n",
            "1021                          May God comfort them Amen      0.000000   \n",
            "\n",
            "      Polarity  Analysis  \n",
            "0     0.000000   Neutral  \n",
            "2     0.500000  Positive  \n",
            "10    0.000000   Neutral  \n",
            "11    0.000000   Neutral  \n",
            "14    0.441667  Positive  \n",
            "...        ...       ...  \n",
            "1016  0.000000   Neutral  \n",
            "1018  0.500000  Positive  \n",
            "1019  0.316667  Positive  \n",
            "1020  0.000000   Neutral  \n",
            "1021  0.000000   Neutral  \n",
            "\n",
            "[800 rows x 4 columns]\n"
          ]
        }
      ],
      "source": [
        "## creating function to compute positive, negative and neutral analysis\n",
        "def getAnalysis(score):\n",
        "    if score<0:\n",
        "        return 'Negative'\n",
        "    elif score==0:\n",
        "        return 'Neutral'\n",
        "    else:\n",
        "        return 'Positive'\n",
        "df['Analysis'] = df['Polarity'].apply(getAnalysis)\n",
        "print(df)"
      ]
    },
    {
      "cell_type": "markdown",
      "id": "41a47bc8",
      "metadata": {
        "id": "41a47bc8"
      },
      "source": [
        "<b> We then plot the sentiments<b>"
      ]
    },
    {
      "cell_type": "code",
      "execution_count": 12,
      "id": "c4632683",
      "metadata": {
        "colab": {
          "base_uri": "https://localhost:8080/",
          "height": 295
        },
        "id": "c4632683",
        "outputId": "bdc13a38-29e0-4eda-859b-175b86ed3872"
      },
      "outputs": [
        {
          "output_type": "display_data",
          "data": {
            "text/plain": [
              "<Figure size 432x288 with 1 Axes>"
            ],
            "image/png": "[encoded data removed]"
          },
          "metadata": {
            "needs_background": "light"
          }
        }
      ],
      "source": [
        "from matplotlib import pyplot as plt\n",
        "## plot polarity and subjectivity\n",
        "for index,row in df.iterrows():\n",
        "    if row['Analysis']=='Positive':\n",
        "        plt.scatter(row['Polarity'],row['Subjectivity'],color='green')\n",
        "    elif row['Analysis']=='Negative':\n",
        "        plt.scatter(row['Polarity'],row['Subjectivity'],color='red')\n",
        "    else:\n",
        "        plt.scatter(row['Polarity'],row['Subjectivity'],color='blue')\n",
        "plt.title('Sentiment Analysis')\n",
        "plt.xlabel('Polarity')\n",
        "plt.ylabel('Subjectivity')\n",
        "plt.show()"
      ]
    },
    {
      "cell_type": "code",
      "execution_count": 13,
      "id": "e7d9bfd9",
      "metadata": {
        "colab": {
          "base_uri": "https://localhost:8080/",
          "height": 330
        },
        "id": "e7d9bfd9",
        "outputId": "712cb3c2-71ff-4b0d-c332-a324f677a2e8"
      },
      "outputs": [
        {
          "output_type": "display_data",
          "data": {
            "text/plain": [
              "<Figure size 432x288 with 1 Axes>"
            ],
            "image/png": "[encoded data removed]"
          },
          "metadata": {
            "needs_background": "light"
          }
        }
      ],
      "source": [
        "ptweets=df[df.Analysis=='Positive']\n",
        "ptweets=ptweets['tweet_full_text']\n",
        "round((ptweets.shape[0]/df.shape[0])*100,1)\n",
        "## get percentage of negative tweets\n",
        "ntweets=df[df.Analysis=='Negative']\n",
        "round((ntweets.shape[0]/df.shape[0])*100,1)\n",
        "## show value counts\n",
        "df['Analysis'].value_counts()\n",
        "## plot visulatisation of count\n",
        "plt.title('Sentiment Analysis')\n",
        "plt.xlabel('Sentiments') \n",
        "plt.ylabel('Counts')\n",
        "df['Analysis'].value_counts().plot(kind='bar')\n",
        "plt.show()"
      ]
    },
    {
      "cell_type": "code",
      "execution_count": 14,
      "id": "a29b8a59",
      "metadata": {
        "id": "a29b8a59"
      },
      "outputs": [],
      "source": [
        "df = df[df['Analysis'] != 'Neutral']"
      ]
    },
    {
      "cell_type": "code",
      "execution_count": 16,
      "id": "b041824e",
      "metadata": {
        "colab": {
          "base_uri": "https://localhost:8080/",
          "height": 330
        },
        "id": "b041824e",
        "outputId": "b3ccfe3f-f06b-4ba0-e836-b0a7b5b45315"
      },
      "outputs": [
        {
          "output_type": "display_data",
          "data": {
            "text/plain": [
              "<Figure size 432x288 with 1 Axes>"
            ],
            "image/png": "[encoded data removed]"
          },
          "metadata": {
            "needs_background": "light"
          }
        }
      ],
      "source": [
        "ptweets=df[df.Analysis=='Positive']\n",
        "ptweets=ptweets['tweet_full_text']\n",
        "round((ptweets.shape[0]/df.shape[0])*100,1)\n",
        "## get percentage of negative tweets\n",
        "ntweets=df[df.Analysis=='Negative']\n",
        "round((ntweets.shape[0]/df.shape[0])*100,1)\n",
        "## show value counts\n",
        "df['Analysis'].value_counts()\n",
        "## plot visulatisation of count\n",
        "plt.title('Sentiment Analysis')\n",
        "plt.xlabel('Sentiments') \n",
        "plt.ylabel('Counts')\n",
        "df['Analysis'].value_counts().plot(kind='bar')\n",
        "plt.show()"
      ]
    },
    {
      "cell_type": "markdown",
      "id": "7c66387f",
      "metadata": {
        "id": "7c66387f"
      },
      "source": [
        "<b> The figure above shows that the positive sentiments are way higher(more than double) the negative sentiments<b>"
      ]
    },
    {
      "cell_type": "code",
      "execution_count": 17,
      "id": "74c0ac02",
      "metadata": {
        "colab": {
          "base_uri": "https://localhost:8080/",
          "height": 0
        },
        "id": "74c0ac02",
        "outputId": "e6fe0214-0a14-4d3c-c36f-ee64f092ece1"
      },
      "outputs": [
        {
          "output_type": "stream",
          "name": "stderr",
          "text": [
            "<ipython-input-17-06661aec017c>:2: SettingWithCopyWarning: \n",
            "A value is trying to be set on a copy of a slice from a DataFrame.\n",
            "Try using .loc[row_indexer,col_indexer] = value instead\n",
            "\n",
            "See the caveats in the documentation: https://pandas.pydata.org/pandas-docs/stable/user_guide/indexing.html#returning-a-view-versus-a-copy\n",
            "  df['Analysis'] = df['Analysis'].map({'Positive': 1, 'Negative': 0})\n"
          ]
        }
      ],
      "source": [
        "# Using map function\n",
        "df['Analysis'] = df['Analysis'].map({'Positive': 1, 'Negative': 0})"
      ]
    },
    {
      "cell_type": "code",
      "execution_count": 18,
      "id": "85c1c6ca",
      "metadata": {
        "colab": {
          "base_uri": "https://localhost:8080/",
          "height": 0
        },
        "id": "85c1c6ca",
        "outputId": "721de3b2-de79-4807-b3a8-ee774a97edfe"
      },
      "outputs": [
        {
          "output_type": "stream",
          "name": "stderr",
          "text": [
            "[nltk_data] Downloading package stopwords to /root/nltk_data...\n",
            "[nltk_data]   Unzipping corpora/stopwords.zip.\n"
          ]
        },
        {
          "output_type": "execute_result",
          "data": {
            "text/plain": [
              "['i',\n",
              " 'me',\n",
              " 'my',\n",
              " 'myself',\n",
              " 'we',\n",
              " 'our',\n",
              " 'ours',\n",
              " 'ourselves',\n",
              " 'you',\n",
              " \"you're\",\n",
              " \"you've\",\n",
              " \"you'll\",\n",
              " \"you'd\",\n",
              " 'your',\n",
              " 'yours',\n",
              " 'yourself',\n",
              " 'yourselves',\n",
              " 'he',\n",
              " 'him',\n",
              " 'his',\n",
              " 'himself',\n",
              " 'she',\n",
              " \"she's\",\n",
              " 'her',\n",
              " 'hers',\n",
              " 'herself',\n",
              " 'it',\n",
              " \"it's\",\n",
              " 'its',\n",
              " 'itself',\n",
              " 'they',\n",
              " 'them',\n",
              " 'their',\n",
              " 'theirs',\n",
              " 'themselves',\n",
              " 'what',\n",
              " 'which',\n",
              " 'who',\n",
              " 'whom',\n",
              " 'this',\n",
              " 'that',\n",
              " \"that'll\",\n",
              " 'these',\n",
              " 'those',\n",
              " 'am',\n",
              " 'is',\n",
              " 'are',\n",
              " 'was',\n",
              " 'were',\n",
              " 'be',\n",
              " 'been',\n",
              " 'being',\n",
              " 'have',\n",
              " 'has',\n",
              " 'had',\n",
              " 'having',\n",
              " 'do',\n",
              " 'does',\n",
              " 'did',\n",
              " 'doing',\n",
              " 'a',\n",
              " 'an',\n",
              " 'the',\n",
              " 'and',\n",
              " 'but',\n",
              " 'if',\n",
              " 'or',\n",
              " 'because',\n",
              " 'as',\n",
              " 'until',\n",
              " 'while',\n",
              " 'of',\n",
              " 'at',\n",
              " 'by',\n",
              " 'for',\n",
              " 'with',\n",
              " 'about',\n",
              " 'against',\n",
              " 'between',\n",
              " 'into',\n",
              " 'through',\n",
              " 'during',\n",
              " 'before',\n",
              " 'after',\n",
              " 'above',\n",
              " 'below',\n",
              " 'to',\n",
              " 'from',\n",
              " 'up',\n",
              " 'down',\n",
              " 'in',\n",
              " 'out',\n",
              " 'on',\n",
              " 'off',\n",
              " 'over',\n",
              " 'under',\n",
              " 'again',\n",
              " 'further',\n",
              " 'then',\n",
              " 'once',\n",
              " 'here',\n",
              " 'there',\n",
              " 'when',\n",
              " 'where',\n",
              " 'why',\n",
              " 'how',\n",
              " 'all',\n",
              " 'any',\n",
              " 'both',\n",
              " 'each',\n",
              " 'few',\n",
              " 'more',\n",
              " 'most',\n",
              " 'other',\n",
              " 'some',\n",
              " 'such',\n",
              " 'no',\n",
              " 'nor',\n",
              " 'not',\n",
              " 'only',\n",
              " 'own',\n",
              " 'same',\n",
              " 'so',\n",
              " 'than',\n",
              " 'too',\n",
              " 'very',\n",
              " 's',\n",
              " 't',\n",
              " 'can',\n",
              " 'will',\n",
              " 'just',\n",
              " 'don',\n",
              " \"don't\",\n",
              " 'should',\n",
              " \"should've\",\n",
              " 'now',\n",
              " 'd',\n",
              " 'll',\n",
              " 'm',\n",
              " 'o',\n",
              " 're',\n",
              " 've',\n",
              " 'y',\n",
              " 'ain',\n",
              " 'aren',\n",
              " \"aren't\",\n",
              " 'couldn',\n",
              " \"couldn't\",\n",
              " 'didn',\n",
              " \"didn't\",\n",
              " 'doesn',\n",
              " \"doesn't\",\n",
              " 'hadn',\n",
              " \"hadn't\",\n",
              " 'hasn',\n",
              " \"hasn't\",\n",
              " 'haven',\n",
              " \"haven't\",\n",
              " 'isn',\n",
              " \"isn't\",\n",
              " 'ma',\n",
              " 'mightn',\n",
              " \"mightn't\",\n",
              " 'mustn',\n",
              " \"mustn't\",\n",
              " 'needn',\n",
              " \"needn't\",\n",
              " 'shan',\n",
              " \"shan't\",\n",
              " 'shouldn',\n",
              " \"shouldn't\",\n",
              " 'wasn',\n",
              " \"wasn't\",\n",
              " 'weren',\n",
              " \"weren't\",\n",
              " 'won',\n",
              " \"won't\",\n",
              " 'wouldn',\n",
              " \"wouldn't\"]"
            ]
          },
          "metadata": {},
          "execution_count": 18
        }
      ],
      "source": [
        "import nltk\n",
        "nltk.download('stopwords')\n",
        "from nltk.corpus import stopwords\n",
        "stopwords.words('english')"
      ]
    },
    {
      "cell_type": "code",
      "execution_count": 19,
      "id": "06da954b",
      "metadata": {
        "id": "06da954b"
      },
      "outputs": [],
      "source": [
        "from sklearn.feature_extraction.text import CountVectorizer\n",
        "sample_new = ['This is first method.', 'This method is the second method.', 'This new one is the third one.' ]"
      ]
    },
    {
      "cell_type": "code",
      "execution_count": 20,
      "id": "e91a72be",
      "metadata": {
        "id": "e91a72be"
      },
      "outputs": [],
      "source": [
        "vectorizer = CountVectorizer()\n",
        "X = vectorizer.fit_transform(sample_new)"
      ]
    },
    {
      "cell_type": "code",
      "execution_count": 21,
      "id": "482f88ff",
      "metadata": {
        "colab": {
          "base_uri": "https://localhost:8080/",
          "height": 0
        },
        "id": "482f88ff",
        "outputId": "969891a4-c82a-4753-d51b-133dd29cdac1"
      },
      "outputs": [
        {
          "output_type": "stream",
          "name": "stdout",
          "text": [
            "['first', 'is', 'method', 'new', 'one', 'second', 'the', 'third', 'this']\n"
          ]
        },
        {
          "output_type": "stream",
          "name": "stderr",
          "text": [
            "/usr/local/lib/python3.8/dist-packages/sklearn/utils/deprecation.py:87: FutureWarning: Function get_feature_names is deprecated; get_feature_names is deprecated in 1.0 and will be removed in 1.2. Please use get_feature_names_out instead.\n",
            "  warnings.warn(msg, category=FutureWarning)\n"
          ]
        }
      ],
      "source": [
        "#Lets see the extracted unique words\n",
        "print (vectorizer.get_feature_names())"
      ]
    },
    {
      "cell_type": "code",
      "execution_count": 22,
      "id": "5ef0842a",
      "metadata": {
        "colab": {
          "base_uri": "https://localhost:8080/",
          "height": 0
        },
        "id": "5ef0842a",
        "outputId": "7b73d4d7-9730-4eea-a829-c0ea0f1079da"
      },
      "outputs": [
        {
          "output_type": "execute_result",
          "data": {
            "text/plain": [
              "<3x9 sparse matrix of type '<class 'numpy.int64'>'\n",
              "\twith 15 stored elements in Compressed Sparse Row format>"
            ]
          },
          "metadata": {},
          "execution_count": 22
        }
      ],
      "source": [
        "X"
      ]
    },
    {
      "cell_type": "code",
      "execution_count": 23,
      "id": "8f9045dd",
      "metadata": {
        "colab": {
          "base_uri": "https://localhost:8080/",
          "height": 0
        },
        "id": "8f9045dd",
        "outputId": "a2041ceb-a0fe-4e82-e66e-c4efffd8f83d"
      },
      "outputs": [
        {
          "output_type": "stream",
          "name": "stdout",
          "text": [
            "[[1 1 1 0 0 0 0 0 1]\n",
            " [0 1 2 0 0 1 1 0 1]\n",
            " [0 1 0 1 2 0 1 1 1]]\n"
          ]
        }
      ],
      "source": [
        "print(X.toarray())"
      ]
    },
    {
      "cell_type": "code",
      "execution_count": 24,
      "id": "8409dd93",
      "metadata": {
        "colab": {
          "base_uri": "https://localhost:8080/",
          "height": 0
        },
        "id": "8409dd93",
        "outputId": "39a21adc-4fb8-45f0-f171-90f061ba55b5"
      },
      "outputs": [
        {
          "output_type": "stream",
          "name": "stdout",
          "text": [
            "[[1 1]\n",
            " [2 1]\n",
            " [1 3]]\n"
          ]
        }
      ],
      "source": [
        "second_sample = ['Hello World.', 'Hello Hello World', 'Hello World world world']\n",
        "XX = vectorizer.fit_transform(second_sample)\n",
        "print(XX.toarray())"
      ]
    },
    {
      "cell_type": "code",
      "execution_count": 25,
      "id": "424858c5",
      "metadata": {
        "id": "424858c5"
      },
      "outputs": [],
      "source": [
        "def text_cleaning(text):\n",
        "    remv_punc = [char for char in text.lower() if char not in string.punctuation]\n",
        "    remv_punc_join = ''.join(remv_punc)\n",
        "    remv_punc_clean = [word for word in remv_punc_join.split() if word.lower() not in stopwords.words('english')]\n",
        "    return remv_punc_clean"
      ]
    },
    {
      "cell_type": "code",
      "execution_count": 26,
      "id": "fd5d5ff2",
      "metadata": {
        "colab": {
          "base_uri": "https://localhost:8080/",
          "height": 0
        },
        "id": "fd5d5ff2",
        "outputId": "e93db3bf-7dbd-42e6-bed1-cedcaa1afe11"
      },
      "outputs": [
        {
          "output_type": "stream",
          "name": "stdout",
          "text": [
            "2               [better, havent, opportunity, yet, steal]\n",
            "14      [funny, enough, follow, sign, peace, accord, c...\n",
            "26      [12, 878, months, time, election, hold, vote, ...\n",
            "28      [fake, news, merchantobi, one, picture, crooki...\n",
            "31                                       [real, criminal]\n",
            "                              ...                        \n",
            "1005    [thats, sad, one, honestly, hope, members, are...\n",
            "1009    [vote, give, look, around, let, know, happy, w...\n",
            "1015    [see, rubbish, reply, atiku, goes, smelling, m...\n",
            "1018                                               [love]\n",
            "1019    [mr, presidential, candidate, please, unify, p...\n",
            "Name: tweet_full_text, Length: 389, dtype: object\n"
          ]
        }
      ],
      "source": [
        "#Lets visualize the newly created function\n",
        "tweets_df_clean = df['tweet_full_text'].apply(text_cleaning)\n",
        "print(tweets_df_clean)"
      ]
    },
    {
      "cell_type": "code",
      "execution_count": 27,
      "id": "4ef560b2",
      "metadata": {
        "id": "4ef560b2"
      },
      "outputs": [],
      "source": [
        "vectorizer_analyzer = CountVectorizer(analyzer = text_cleaning)\n",
        "countvectorizer_tweets = CountVectorizer(analyzer= text_cleaning, dtype= 'uint8').fit_transform(df['tweet_full_text']).toarray()"
      ]
    },
    {
      "cell_type": "markdown",
      "id": "41081420",
      "metadata": {
        "id": "41081420"
      },
      "source": [
        "# MODEL BUILDING"
      ]
    },
    {
      "cell_type": "markdown",
      "id": "a32308f8",
      "metadata": {
        "id": "a32308f8"
      },
      "source": [
        "<b>Naive Bayes<b>"
      ]
    },
    {
      "cell_type": "code",
      "execution_count": 28,
      "id": "03a5950d",
      "metadata": {
        "id": "03a5950d"
      },
      "outputs": [],
      "source": [
        "from sklearn.model_selection import train_test_split\n",
        "# Split into training and testing data\n",
        "X_features = countvectorizer_tweets\n",
        "y_label = df['Analysis']"
      ]
    },
    {
      "cell_type": "code",
      "execution_count": 29,
      "id": "19ae957f",
      "metadata": {
        "id": "19ae957f"
      },
      "outputs": [],
      "source": [
        "from sklearn.model_selection import train_test_split\n",
        "X_train, X_test, y_train, y_test = train_test_split(X_features, y_label, test_size = 0.2, random_state = 1)"
      ]
    },
    {
      "cell_type": "code",
      "execution_count": 30,
      "id": "67da858f",
      "metadata": {
        "colab": {
          "base_uri": "https://localhost:8080/",
          "height": 0
        },
        "id": "67da858f",
        "outputId": "ae7e21dc-8651-4918-dcc7-aa6cfc748351"
      },
      "outputs": [
        {
          "output_type": "execute_result",
          "data": {
            "text/plain": [
              "MultinomialNB()"
            ]
          },
          "metadata": {},
          "execution_count": 30
        }
      ],
      "source": [
        "from sklearn.naive_bayes import MultinomialNB\n",
        "NaiveBclassifier = MultinomialNB()\n",
        "NaiveBclassifier.fit(X_train,y_train)"
      ]
    },
    {
      "cell_type": "code",
      "execution_count": 31,
      "id": "0a8a0acf",
      "metadata": {
        "id": "0a8a0acf"
      },
      "outputs": [],
      "source": [
        "#Analyzing the model performance\n",
        "from sklearn.metrics import classification_report, confusion_matrix"
      ]
    },
    {
      "cell_type": "code",
      "execution_count": 32,
      "id": "ea4e991a",
      "metadata": {
        "id": "ea4e991a"
      },
      "outputs": [],
      "source": [
        "# Predicting test cases\n",
        "y_pred_test = NaiveBclassifier.predict(X_test)"
      ]
    },
    {
      "cell_type": "code",
      "execution_count": 33,
      "id": "b204d4c1",
      "metadata": {
        "colab": {
          "base_uri": "https://localhost:8080/",
          "height": 283
        },
        "id": "b204d4c1",
        "outputId": "d7532c89-64c1-4258-a199-2b9d9327a7f0"
      },
      "outputs": [
        {
          "output_type": "execute_result",
          "data": {
            "text/plain": [
              "<matplotlib.axes._subplots.AxesSubplot at 0x7f94de6466a0>"
            ]
          },
          "metadata": {},
          "execution_count": 33
        },
        {
          "output_type": "display_data",
          "data": {
            "text/plain": [
              "<Figure size 432x288 with 2 Axes>"
            ],
            "image/png": "[encoded data removed]"
          },
          "metadata": {
            "needs_background": "light"
          }
        }
      ],
      "source": [
        "import seaborn as sns\n",
        "# Confusion matrix\n",
        "cm = confusion_matrix(y_test, y_pred_test)\n",
        "sns.heatmap(cm, annot= True)"
      ]
    },
    {
      "cell_type": "code",
      "execution_count": 34,
      "id": "bbe93ab6",
      "metadata": {
        "colab": {
          "base_uri": "https://localhost:8080/",
          "height": 0
        },
        "id": "bbe93ab6",
        "outputId": "ad7a549a-e244-47e3-a260-8b3a834409c3"
      },
      "outputs": [
        {
          "output_type": "stream",
          "name": "stdout",
          "text": [
            "Accuracy: 0.6025641025641025\n"
          ]
        }
      ],
      "source": [
        "#Import scikit-learn metrics module for accuracy calculation\n",
        "from sklearn import metrics\n",
        "\n",
        "# Model Accuracy, how often is the classifier correct?\n",
        "print(\"Accuracy:\",metrics.accuracy_score(y_test, y_pred_test))"
      ]
    },
    {
      "cell_type": "code",
      "execution_count": 35,
      "id": "db1325f5",
      "metadata": {
        "colab": {
          "base_uri": "https://localhost:8080/",
          "height": 0
        },
        "id": "db1325f5",
        "outputId": "050ce5d6-4bf0-4220-fe19-4180e8d50cb2"
      },
      "outputs": [
        {
          "output_type": "stream",
          "name": "stdout",
          "text": [
            "              precision    recall  f1-score   support\n",
            "\n",
            "           0       0.56      0.61      0.59        36\n",
            "           1       0.64      0.60      0.62        42\n",
            "\n",
            "    accuracy                           0.60        78\n",
            "   macro avg       0.60      0.60      0.60        78\n",
            "weighted avg       0.61      0.60      0.60        78\n",
            "\n"
          ]
        }
      ],
      "source": [
        "from sklearn.metrics import classification_report\n",
        "print(classification_report(y_test, y_pred_test))"
      ]
    },
    {
      "cell_type": "markdown",
      "id": "97092067",
      "metadata": {
        "id": "97092067"
      },
      "source": [
        "<b> The results show that the Naive Bayes classififer has an accuracy of 60.0%<b>"
      ]
    },
    {
      "cell_type": "code",
      "execution_count": 36,
      "id": "65fd9ad2",
      "metadata": {
        "colab": {
          "base_uri": "https://localhost:8080/",
          "height": 0
        },
        "id": "65fd9ad2",
        "outputId": "8cdd5d07-06be-4680-c61f-fb7fc91c54fe"
      },
      "outputs": [
        {
          "output_type": "execute_result",
          "data": {
            "text/plain": [
              "LogisticRegression()"
            ]
          },
          "metadata": {},
          "execution_count": 36
        }
      ],
      "source": [
        "from sklearn.linear_model import LogisticRegression\n",
        "from sklearn import metrics\n",
        "logreg = LogisticRegression()\n",
        "logreg.fit(X_train, y_train)"
      ]
    },
    {
      "cell_type": "code",
      "execution_count": 37,
      "id": "19da028b",
      "metadata": {
        "colab": {
          "base_uri": "https://localhost:8080/",
          "height": 0
        },
        "id": "19da028b",
        "outputId": "abb4f0a0-2b5e-4810-a164-6d58caa8865c"
      },
      "outputs": [
        {
          "output_type": "stream",
          "name": "stdout",
          "text": [
            "Accuracy of logistic regression classifier on test set: 0.69\n"
          ]
        }
      ],
      "source": [
        "y_pred = logreg.predict(X_test)\n",
        "print('Accuracy of logistic regression classifier on test set: {:.2f}'.format(logreg.score(X_test, y_test)))"
      ]
    },
    {
      "cell_type": "code",
      "execution_count": 38,
      "id": "405c8231",
      "metadata": {
        "colab": {
          "base_uri": "https://localhost:8080/",
          "height": 283
        },
        "id": "405c8231",
        "outputId": "7d708e5f-1ba1-45ff-d69c-9b88f3b8ca7c"
      },
      "outputs": [
        {
          "output_type": "execute_result",
          "data": {
            "text/plain": [
              "<matplotlib.axes._subplots.AxesSubplot at 0x7f94de5aa3d0>"
            ]
          },
          "metadata": {},
          "execution_count": 38
        },
        {
          "output_type": "display_data",
          "data": {
            "text/plain": [
              "<Figure size 432x288 with 2 Axes>"
            ],
            "image/png": "[encoded data removed]"
          },
          "metadata": {
            "needs_background": "light"
          }
        }
      ],
      "source": [
        "cm = confusion_matrix(y_test, y_pred)\n",
        "sns.heatmap(cm, annot= True)"
      ]
    },
    {
      "cell_type": "code",
      "execution_count": 39,
      "id": "26940ccb",
      "metadata": {
        "colab": {
          "base_uri": "https://localhost:8080/",
          "height": 0
        },
        "id": "26940ccb",
        "outputId": "d9a2e6c5-5633-446d-9de1-520b6590f849"
      },
      "outputs": [
        {
          "output_type": "stream",
          "name": "stdout",
          "text": [
            "              precision    recall  f1-score   support\n",
            "\n",
            "           0       0.77      0.47      0.59        36\n",
            "           1       0.66      0.88      0.76        42\n",
            "\n",
            "    accuracy                           0.69        78\n",
            "   macro avg       0.72      0.68      0.67        78\n",
            "weighted avg       0.71      0.69      0.68        78\n",
            "\n"
          ]
        }
      ],
      "source": [
        "from sklearn.metrics import classification_report\n",
        "print(classification_report(y_test, y_pred))"
      ]
    },
    {
      "cell_type": "markdown",
      "id": "9232bdbc",
      "metadata": {
        "id": "9232bdbc"
      },
      "source": [
        "<b> Support Vector Machine<b>"
      ]
    },
    {
      "cell_type": "code",
      "execution_count": 40,
      "id": "0361659e",
      "metadata": {
        "colab": {
          "base_uri": "https://localhost:8080/",
          "height": 0
        },
        "id": "0361659e",
        "outputId": "8eba89e5-fb6f-4649-acc2-9ce6d77845ff"
      },
      "outputs": [
        {
          "output_type": "execute_result",
          "data": {
            "text/plain": [
              "SVC(kernel='linear')"
            ]
          },
          "metadata": {},
          "execution_count": 40
        }
      ],
      "source": [
        "from sklearn.svm import SVC  \n",
        "clf = SVC(kernel='linear') \n",
        "  \n",
        "# fitting x samples and y classes \n",
        "clf.fit(X_train, y_train) "
      ]
    },
    {
      "cell_type": "code",
      "execution_count": 41,
      "id": "452e9a1c",
      "metadata": {
        "colab": {
          "base_uri": "https://localhost:8080/",
          "height": 0
        },
        "id": "452e9a1c",
        "outputId": "36c585ac-7807-4368-f2a3-320cc20d469f"
      },
      "outputs": [
        {
          "output_type": "stream",
          "name": "stdout",
          "text": [
            "Accuracy of Support Vector Machine classifier on test set: 0.71\n"
          ]
        }
      ],
      "source": [
        "y_pred = clf .predict(X_test)\n",
        "print('Accuracy of Support Vector Machine classifier on test set: {:.2f}'.format(clf.score(X_test, y_test)))"
      ]
    },
    {
      "cell_type": "code",
      "execution_count": 42,
      "id": "e4fa5d56",
      "metadata": {
        "colab": {
          "base_uri": "https://localhost:8080/",
          "height": 283
        },
        "id": "e4fa5d56",
        "outputId": "13f5cab0-60aa-4a9a-b78c-69bd2a20173e"
      },
      "outputs": [
        {
          "output_type": "execute_result",
          "data": {
            "text/plain": [
              "<matplotlib.axes._subplots.AxesSubplot at 0x7f94e19288b0>"
            ]
          },
          "metadata": {},
          "execution_count": 42
        },
        {
          "output_type": "display_data",
          "data": {
            "text/plain": [
              "<Figure size 432x288 with 2 Axes>"
            ],
            "image/png": "[encoded data removed]"
          },
          "metadata": {
            "needs_background": "light"
          }
        }
      ],
      "source": [
        "cm = confusion_matrix(y_test, y_pred)\n",
        "sns.heatmap(cm, annot= True)"
      ]
    },
    {
      "cell_type": "code",
      "execution_count": 43,
      "id": "ce6da874",
      "metadata": {
        "colab": {
          "base_uri": "https://localhost:8080/",
          "height": 0
        },
        "id": "ce6da874",
        "outputId": "9d7ddc38-3514-47af-ce10-b127efb7adb5"
      },
      "outputs": [
        {
          "output_type": "stream",
          "name": "stdout",
          "text": [
            "              precision    recall  f1-score   support\n",
            "\n",
            "           0       0.71      0.61      0.66        36\n",
            "           1       0.70      0.79      0.74        42\n",
            "\n",
            "    accuracy                           0.71        78\n",
            "   macro avg       0.71      0.70      0.70        78\n",
            "weighted avg       0.71      0.71      0.70        78\n",
            "\n"
          ]
        }
      ],
      "source": [
        "from sklearn.metrics import classification_report\n",
        "print(classification_report(y_test, y_pred))"
      ]
    },
    {
      "cell_type": "markdown",
      "id": "4557afe2",
      "metadata": {
        "id": "4557afe2"
      },
      "source": [
        "<b>K-Nearest Neighbor<b>"
      ]
    },
    {
      "cell_type": "code",
      "execution_count": 44,
      "id": "a0a96a4f",
      "metadata": {
        "id": "a0a96a4f"
      },
      "outputs": [],
      "source": [
        "from sklearn.neighbors import KNeighborsClassifier\n",
        "neighbors = np.arange(1, 9)\n",
        "train_accuracy = np.empty(len(neighbors))\n",
        "test_accuracy = np.empty(len(neighbors))\n",
        "  \n",
        "# Loop over K values\n",
        "for i, k in enumerate(neighbors):\n",
        "    knn = KNeighborsClassifier(n_neighbors=k)\n",
        "    knn.fit(X_train, y_train)"
      ]
    },
    {
      "cell_type": "code",
      "execution_count": 45,
      "id": "8efb6880",
      "metadata": {
        "colab": {
          "base_uri": "https://localhost:8080/",
          "height": 0
        },
        "id": "8efb6880",
        "outputId": "6dd885b9-9f2a-4aea-8c74-9b49c3731ede"
      },
      "outputs": [
        {
          "output_type": "stream",
          "name": "stdout",
          "text": [
            "Accuracy of K-Nearest Neighbor classifier on test set: 0.53\n"
          ]
        }
      ],
      "source": [
        "y_pred = knn .predict(X_test)\n",
        "print('Accuracy of K-Nearest Neighbor classifier on test set: {:.2f}'.format(knn.score(X_test, y_test)))"
      ]
    },
    {
      "cell_type": "markdown",
      "id": "f2ce4ae0",
      "metadata": {
        "id": "f2ce4ae0"
      },
      "source": [
        "<b>Latent Dirichlet Allocation<b>"
      ]
    },
    {
      "cell_type": "code",
      "execution_count": 46,
      "id": "14ca0bc0",
      "metadata": {
        "id": "14ca0bc0"
      },
      "outputs": [],
      "source": [
        "import gensim\n",
        "from gensim import corpora, models, similarities\n",
        "from gensim.parsing.preprocessing import STOPWORDS\n",
        "from nltk.corpus import stopwords"
      ]
    },
    {
      "cell_type": "markdown",
      "id": "a6a1ad95",
      "metadata": {
        "id": "a6a1ad95"
      },
      "source": [
        "<b>Examining  the full vocabulary of the tweets<b> "
      ]
    },
    {
      "cell_type": "code",
      "execution_count": 47,
      "id": "49d9d0ae",
      "metadata": {
        "colab": {
          "base_uri": "https://localhost:8080/",
          "height": 0
        },
        "id": "49d9d0ae",
        "outputId": "7e103986-b0f9-4541-bc25-1b0066a5c2fa"
      },
      "outputs": [
        {
          "output_type": "stream",
          "name": "stdout",
          "text": [
            "50588 words total, with a vocabulary size of 71\n",
            "Max tweet length is 290\n"
          ]
        }
      ],
      "source": [
        "all_words = [word for tokens in df['tweet_full_text'] for word in tokens]\n",
        "tweet_lengths = [len(tokens) for tokens in df['tweet_full_text']]\n",
        "vocab = sorted(list(set(all_words)))\n",
        "\n",
        "print('{} words total, with a vocabulary size of {}'.format(len(all_words), len(vocab)))\n",
        "print('Max tweet length is {}'.format(max(tweet_lengths)))"
      ]
    },
    {
      "cell_type": "markdown",
      "id": "b97029fb",
      "metadata": {
        "id": "b97029fb"
      },
      "source": [
        "<b>I can build a dictionary to make the word cloud once I know the word frequencies.<b>"
      ]
    },
    {
      "cell_type": "code",
      "execution_count": 48,
      "id": "ef5e6439",
      "metadata": {
        "colab": {
          "base_uri": "https://localhost:8080/",
          "height": 0
        },
        "id": "ef5e6439",
        "outputId": "35ae7e3c-870f-4f53-cb64-f9d6a4c85e40"
      },
      "outputs": [
        {
          "output_type": "execute_result",
          "data": {
            "text/plain": [
              "[(' ', 10254),\n",
              " ('e', 4431),\n",
              " ('o', 3317),\n",
              " ('t', 3242),\n",
              " ('a', 2973),\n",
              " ('i', 2874),\n",
              " ('n', 2677),\n",
              " ('s', 2281),\n",
              " ('r', 2241),\n",
              " ('h', 1779),\n",
              " ('l', 1688),\n",
              " ('u', 1500),\n",
              " ('d', 1310),\n",
              " ('y', 1062),\n",
              " ('c', 900),\n",
              " ('m', 893),\n",
              " ('g', 842),\n",
              " ('p', 788),\n",
              " ('w', 760),\n",
              " ('f', 717),\n",
              " ('b', 673),\n",
              " ('k', 390),\n",
              " ('v', 355),\n",
              " ('O', 192),\n",
              " ('A', 185),\n",
              " ('I', 182),\n",
              " ('\\n', 168),\n",
              " ('P', 160),\n",
              " ('T', 151),\n",
              " ('N', 135)]"
            ]
          },
          "metadata": {},
          "execution_count": 48
        }
      ],
      "source": [
        "from nltk.probability import FreqDist\n",
        "\n",
        "#iterate through each tweet, then each token in each tweet, and store in one list\n",
        "flat_words = [item for sublist in df['tweet_full_text'] for item in sublist]\n",
        "\n",
        "word_freq = FreqDist(flat_words)\n",
        "\n",
        "word_freq.most_common(30)"
      ]
    },
    {
      "cell_type": "code",
      "execution_count": 49,
      "id": "a9c69dc9",
      "metadata": {
        "id": "a9c69dc9"
      },
      "outputs": [],
      "source": [
        "#retrieve word and count from FreqDist tuples\n",
        "\n",
        "most_common_count = [x[1] for x in word_freq.most_common(30)]\n",
        "most_common_word = [x[0] for x in word_freq.most_common(30)]\n",
        "\n",
        "#create dictionary mapping of word count\n",
        "top_30_dictionary = dict(zip(most_common_word, most_common_count))"
      ]
    },
    {
      "cell_type": "code",
      "execution_count": 50,
      "id": "77a19dcd",
      "metadata": {
        "colab": {
          "base_uri": "https://localhost:8080/",
          "height": 433
        },
        "id": "77a19dcd",
        "outputId": "6a70d3b4-3120-4a6f-cb0f-09fff4e77de7"
      },
      "outputs": [
        {
          "output_type": "display_data",
          "data": {
            "text/plain": [
              "<Figure size 864x576 with 1 Axes>"
            ],
            "image/png": "[encoded data removed]"
          },
          "metadata": {
            "needs_background": "light"
          }
        }
      ],
      "source": [
        "from wordcloud import WordCloud\n",
        "\n",
        "#Create Word Cloud of top 30 words\n",
        "wordcloud = WordCloud(colormap = 'Accent', background_color = 'black')\\\n",
        ".generate_from_frequencies(top_30_dictionary)\n",
        "\n",
        "#plot with matplotlib\n",
        "plt.figure(figsize=(12, 8))\n",
        "plt.imshow(wordcloud, interpolation='bilinear')\n",
        "plt.axis(\"off\")\n",
        "plt.tight_layout(pad=0)\n",
        "plt.savefig('top_30_cloud.png')\n",
        "\n",
        "plt.show()"
      ]
    },
    {
      "cell_type": "code",
      "execution_count": 51,
      "id": "1a4ce6f2",
      "metadata": {
        "id": "1a4ce6f2"
      },
      "outputs": [],
      "source": [
        "from sklearn.feature_extraction.text import TfidfVectorizer\n",
        "tweets=pd.DataFrame(tweets)\n",
        "docs = tweets['tweet_full_text']\n",
        "df=pd.DataFrame(docs)\n",
        "vectorizer = TfidfVectorizer()\n",
        "df = vectorizer.fit_transform(docs)"
      ]
    },
    {
      "cell_type": "code",
      "execution_count": 52,
      "id": "fc412b54",
      "metadata": {
        "colab": {
          "base_uri": "https://localhost:8080/",
          "height": 0
        },
        "id": "fc412b54",
        "outputId": "fc93ea2c-934f-46ef-ce5a-0355bd5ced49"
      },
      "outputs": [
        {
          "output_type": "stream",
          "name": "stdout",
          "text": [
            "(1022, 3276)\n"
          ]
        }
      ],
      "source": [
        "print(df.shape)"
      ]
    },
    {
      "cell_type": "code",
      "execution_count": 53,
      "id": "f50c71ae",
      "metadata": {
        "colab": {
          "base_uri": "https://localhost:8080/",
          "height": 0
        },
        "id": "f50c71ae",
        "outputId": "656121d3-cc62-4c60-9d5d-ed3606c7ef49"
      },
      "outputs": [
        {
          "output_type": "execute_result",
          "data": {
            "text/plain": [
              "{'better': 0,\n",
              " 'havent': 1,\n",
              " 'opportunity': 2,\n",
              " 'steal': 3,\n",
              " 'yet': 4,\n",
              " 'accord': 5,\n",
              " 'adebayo': 6,\n",
              " 'calling': 7,\n",
              " 'doesnt': 8,\n",
              " 'enough': 9,\n",
              " 'even': 10,\n",
              " 'follow': 11,\n",
              " 'funny': 12,\n",
              " 'imagine': 13,\n",
              " 'kind': 14,\n",
              " 'know': 15,\n",
              " 'liar': 16,\n",
              " 'love': 17,\n",
              " 'okay': 18,\n",
              " 'peace': 19,\n",
              " 'people': 20,\n",
              " 'peter': 21,\n",
              " 'play': 22,\n",
              " 'politics': 23,\n",
              " 'pulling': 24,\n",
              " 'sign': 25,\n",
              " 'u': 26,\n",
              " 'unit': 27,\n",
              " 'win': 28,\n",
              " 'wont': 29,\n",
              " '12': 30,\n",
              " '878': 31,\n",
              " 'allow': 32,\n",
              " 'choice': 33,\n",
              " 'count': 34,\n",
              " 'election': 35,\n",
              " 'hold': 36,\n",
              " 'inec': 37,\n",
              " 'months': 38,\n",
              " 'time': 39,\n",
              " 'vote': 40,\n",
              " 'crookif': 41,\n",
              " 'fake': 42,\n",
              " 'internet': 43,\n",
              " 'merchantobi': 44,\n",
              " 'news': 45,\n",
              " 'one': 46,\n",
              " 'picture': 47,\n",
              " 'criminal': 48,\n",
              " 'real': 49,\n",
              " 'baron': 50,\n",
              " 'drug': 51,\n",
              " 'fried': 52,\n",
              " 'openly': 53,\n",
              " 'plate': 54,\n",
              " 'rice': 55,\n",
              " 'supporting': 56,\n",
              " 'broyou': 57,\n",
              " 'claim': 58,\n",
              " 'guys': 59,\n",
              " 'jumping': 60,\n",
              " 'lazyalways': 61,\n",
              " 'lazyyyy': 62,\n",
              " 'opposition': 63,\n",
              " 'really': 64,\n",
              " 'shame': 65,\n",
              " 'thrash': 66,\n",
              " 'whats': 67,\n",
              " 'wonder': 68,\n",
              " 'yoursno': 69,\n",
              " 'aide': 70,\n",
              " 'amp': 71,\n",
              " 'best': 72,\n",
              " 'created': 73,\n",
              " 'dear': 74,\n",
              " 'details': 75,\n",
              " 'dm': 76,\n",
              " 'emerging': 77,\n",
              " 'enable': 78,\n",
              " 'founded': 79,\n",
              " 'kindly': 80,\n",
              " 'login': 81,\n",
              " 'media': 82,\n",
              " 'new': 83,\n",
              " 'nigerias': 84,\n",
              " 'platform': 85,\n",
              " 'president': 86,\n",
              " 'regards': 87,\n",
              " 'send': 88,\n",
              " 'sir': 89,\n",
              " 'social': 90,\n",
              " 'trenchat': 91,\n",
              " 'us': 92,\n",
              " 'verified': 93,\n",
              " 'vice': 94,\n",
              " 'bullies': 95,\n",
              " 'candidate': 96,\n",
              " 'cant': 97,\n",
              " 'dat': 98,\n",
              " 'dey': 99,\n",
              " 'party': 100,\n",
              " 'withstand': 101,\n",
              " 'bold': 102,\n",
              " 'think': 103,\n",
              " 'family': 104,\n",
              " 'im': 105,\n",
              " 'obidient': 106,\n",
              " 'side': 107,\n",
              " 'still': 108,\n",
              " 'sure': 109,\n",
              " 'aboutsmh': 110,\n",
              " 'atiku': 111,\n",
              " 'careless': 112,\n",
              " 'dont': 113,\n",
              " 'get': 114,\n",
              " 'hear': 115,\n",
              " 'hears': 116,\n",
              " 'hurt': 117,\n",
              " 'let': 118,\n",
              " 'like': 119,\n",
              " 'message': 120,\n",
              " 'money': 121,\n",
              " 'paid': 122,\n",
              " 'talking': 123,\n",
              " 'telling': 124,\n",
              " 'truth': 125,\n",
              " 'wake': 126,\n",
              " 'writing': 127,\n",
              " 'deborahdubai': 128,\n",
              " 'man': 129,\n",
              " 'muchdid': 130,\n",
              " 'thank': 131,\n",
              " '2015': 132,\n",
              " 'also': 133,\n",
              " 'besides': 134,\n",
              " 'buhari': 135,\n",
              " 'campaigned': 136,\n",
              " 'heavily': 137,\n",
              " 'obi': 138,\n",
              " 'part': 139,\n",
              " 'problem': 140,\n",
              " 'record': 141,\n",
              " 'rest': 142,\n",
              " 'sowore': 143,\n",
              " 'apc': 144,\n",
              " 'everyone': 145,\n",
              " 'hates': 146,\n",
              " 'lp': 147,\n",
              " 'order': 148,\n",
              " 'street': 149,\n",
              " 'voice': 150,\n",
              " 'waste': 151,\n",
              " 'attending': 152,\n",
              " 'candidates': 153,\n",
              " 'debates': 154,\n",
              " 'delta': 155,\n",
              " 'embarrassment': 156,\n",
              " 'future': 157,\n",
              " 'halls': 158,\n",
              " 'impersonating': 159,\n",
              " 'leave': 160,\n",
              " 'mumu': 161,\n",
              " 'presidential': 162,\n",
              " 'save': 163,\n",
              " 'silly': 164,\n",
              " 'state': 165,\n",
              " 'stop': 166,\n",
              " 'town': 167,\n",
              " 'undeveloped': 168,\n",
              " 'use': 169,\n",
              " 'ayu': 170,\n",
              " 'believe': 171,\n",
              " 'gain': 172,\n",
              " 'loose': 173,\n",
              " 'pdp': 174,\n",
              " 'pop': 175,\n",
              " 'position': 176,\n",
              " 'presidency': 177,\n",
              " 'sacrifice': 178,\n",
              " 'see': 179,\n",
              " 'votes': 180,\n",
              " 'want': 181,\n",
              " 'world': 182,\n",
              " '2023': 183,\n",
              " 'aspirant': 184,\n",
              " 'called': 185,\n",
              " 'clear': 186,\n",
              " 'end': 187,\n",
              " 'house': 188,\n",
              " 'loosehis': 189,\n",
              " 'lot': 190,\n",
              " 'might': 191,\n",
              " 'put': 192,\n",
              " 'reputation': 193,\n",
              " 'sinks': 194,\n",
              " '5': 195,\n",
              " 'accordingly': 196,\n",
              " 'act': 197,\n",
              " 'cos': 198,\n",
              " 'feel': 199,\n",
              " 'getting': 200,\n",
              " 'joke': 201,\n",
              " 'landing': 202,\n",
              " 'listen': 203,\n",
              " 'looking': 204,\n",
              " 'loosing': 205,\n",
              " 'loves': 206,\n",
              " 'ooo': 207,\n",
              " 'pain': 208,\n",
              " 'reading': 209,\n",
              " 'safe': 210,\n",
              " 'states': 211,\n",
              " 'voting': 212,\n",
              " '10th': 213,\n",
              " '4goodgeoff': 214,\n",
              " 'come': 215,\n",
              " 'distant': 216,\n",
              " 'e': 217,\n",
              " 'go': 218,\n",
              " 'insult': 219,\n",
              " 'join': 220,\n",
              " 'mek': 221,\n",
              " 'past': 222,\n",
              " 'werey': 223,\n",
              " 'crisis': 224,\n",
              " 'going': 225,\n",
              " 'governors': 226,\n",
              " 'hearing': 227,\n",
              " 'issues': 228,\n",
              " 'partypls': 229,\n",
              " 'recent': 230,\n",
              " 'say': 231,\n",
              " 'seems': 232,\n",
              " 'serious': 233,\n",
              " 'united': 234,\n",
              " 'within': 235,\n",
              " 'worries': 236,\n",
              " 'alone': 237,\n",
              " 'apart': 238,\n",
              " 'clean': 239,\n",
              " 'done': 240,\n",
              " 'hes': 241,\n",
              " 'include': 242,\n",
              " 'must': 243,\n",
              " 'wrong': 244,\n",
              " 'appear': 245,\n",
              " 'appearamprespect': 246,\n",
              " 'available': 247,\n",
              " 'carried': 248,\n",
              " 'certainly': 249,\n",
              " 'disrespectfulif': 250,\n",
              " 'gallon': 251,\n",
              " 'heavier': 252,\n",
              " 'interviews': 253,\n",
              " 'lets': 254,\n",
              " 'means': 255,\n",
              " 'nothing': 256,\n",
              " 'offer': 257,\n",
              " 'oil': 258,\n",
              " 'shows': 259,\n",
              " 'simply': 260,\n",
              " 'tinubu': 261,\n",
              " 'water': 262,\n",
              " 'youll': 263,\n",
              " 'advises': 264,\n",
              " 'always': 265,\n",
              " 'anybody': 266,\n",
              " 'begging': 267,\n",
              " 'egbon': 268,\n",
              " 'food': 269,\n",
              " 'fuck': 270,\n",
              " 'insulting': 271,\n",
              " 'mean': 272,\n",
              " 'read': 273,\n",
              " 'start': 274,\n",
              " 'tomorrow': 275,\n",
              " 'tweet': 276,\n",
              " 'different': 277,\n",
              " 'isnt': 278,\n",
              " 'leader': 279,\n",
              " 'need': 280,\n",
              " 'sowereys': 281,\n",
              " 'tears': 282,\n",
              " 'tell': 283,\n",
              " 'abi': 284,\n",
              " 'unfortunate': 285,\n",
              " 'youths': 286,\n",
              " 'allah': 287,\n",
              " 'burn': 288,\n",
              " 'general': 289,\n",
              " 'insha': 290,\n",
              " 'nigeria': 291,\n",
              " 'peaceful': 292,\n",
              " '1': 293,\n",
              " '4petobi': 294,\n",
              " 'anyhow': 295,\n",
              " 'blood': 296,\n",
              " 'collect': 297,\n",
              " 'hot': 298,\n",
              " 'lmao': 299,\n",
              " 'oga': 300,\n",
              " 'excellency': 301,\n",
              " 'good': 302,\n",
              " 'ur': 303,\n",
              " 'crimes': 304,\n",
              " 'fit': 305,\n",
              " 'humanity': 306,\n",
              " 'office': 307,\n",
              " 'sorry': 308,\n",
              " 'youre': 309,\n",
              " 'aa': 310,\n",
              " 'ability': 311,\n",
              " 'accident': 312,\n",
              " 'action': 313,\n",
              " 'affected': 314,\n",
              " 'chemical': 315,\n",
              " 'empathised': 316,\n",
              " 'little': 317,\n",
              " 'positive': 318,\n",
              " 'thanks': 319,\n",
              " 'victims': 320,\n",
              " 'words': 321,\n",
              " 'age': 322,\n",
              " 'bone': 323,\n",
              " 'carrier': 324,\n",
              " 'country': 325,\n",
              " 'crooked': 326,\n",
              " 'employ': 327,\n",
              " 'ever': 328,\n",
              " 'got': 329,\n",
              " 'hand': 330,\n",
              " 'height': 331,\n",
              " 'nobody': 332,\n",
              " 'noticed': 333,\n",
              " 'propaganda': 334,\n",
              " 'stucked': 335,\n",
              " 'sympathy': 336,\n",
              " 'throats': 337,\n",
              " 'unfortunately': 338,\n",
              " 'battling': 339,\n",
              " 'drugs': 340,\n",
              " 'enugu': 341,\n",
              " 'fighting': 342,\n",
              " 'hunting': 343,\n",
              " 'masses': 344,\n",
              " 'ortom': 345,\n",
              " 'poor': 346,\n",
              " 'wike': 347,\n",
              " 'cousin': 348,\n",
              " 'lol': 349,\n",
              " 'mr': 350,\n",
              " 'next': 351,\n",
              " 'wale': 352,\n",
              " '24': 353,\n",
              " 'ahead': 354,\n",
              " 'almost': 355,\n",
              " 'give': 356,\n",
              " 'hours': 357,\n",
              " 'plan': 358,\n",
              " 'please': 359,\n",
              " 'preside': 360,\n",
              " 'progress': 361,\n",
              " 'tried': 362,\n",
              " 'whole': 363,\n",
              " 'without': 364,\n",
              " 'youarebetterthanthis': 365,\n",
              " 'back': 366,\n",
              " 'boy': 367,\n",
              " 'boys': 368,\n",
              " 'fire': 369,\n",
              " 'golden': 370,\n",
              " 'mikano': 371,\n",
              " 'oh': 372,\n",
              " 'shots': 373,\n",
              " 'thats': 374,\n",
              " 'thought': 375,\n",
              " 'wanted': 376,\n",
              " 'credibility': 377,\n",
              " 'heard': 378,\n",
              " 'lost': 379,\n",
              " 'ounce': 380,\n",
              " 'case': 381,\n",
              " 'collapsing': 382,\n",
              " 'could': 383,\n",
              " 'current': 384,\n",
              " 'disappointing': 385,\n",
              " 'disheartening': 386,\n",
              " 'disorganized': 387,\n",
              " 'disunityi': 388,\n",
              " 'forever': 389,\n",
              " 'gradually': 390,\n",
              " 'great': 391,\n",
              " 'history': 392,\n",
              " 'last': 393,\n",
              " 'attempting': 394,\n",
              " 'communicate': 395,\n",
              " 'credible': 396,\n",
              " 'fool': 397,\n",
              " 'make': 398,\n",
              " 'po': 399,\n",
              " 'seen': 400,\n",
              " 'zoom': 401,\n",
              " 'full': 402,\n",
              " 'hate': 403,\n",
              " 'knowing': 404,\n",
              " 'lie': 405,\n",
              " 'making': 406,\n",
              " 'person': 407,\n",
              " 'well': 408,\n",
              " 'elders': 409,\n",
              " 'games': 410,\n",
              " 'home': 411,\n",
              " 'name': 412,\n",
              " 'notice': 413,\n",
              " 'online': 414,\n",
              " 'poll': 415,\n",
              " 'respect': 416,\n",
              " 'step': 417,\n",
              " 'today': 418,\n",
              " 'video': 419,\n",
              " 'dishonest': 420,\n",
              " 'somebody': 421,\n",
              " 'black': 422,\n",
              " 'half': 423,\n",
              " 'knows': 424,\n",
              " 'mailer': 425,\n",
              " 'outfit': 426,\n",
              " 'truths': 427,\n",
              " 'uses': 428,\n",
              " 'bat': 429,\n",
              " 'ewu': 430,\n",
              " 'eye': 431,\n",
              " 'foolishness': 432,\n",
              " 'keep': 433,\n",
              " 'rigging': 434,\n",
              " 'sleep': 435,\n",
              " 'anywhere': 436,\n",
              " 'blackmailthe': 437,\n",
              " 'close': 438,\n",
              " 'dangerous': 439,\n",
              " 'fellow': 440,\n",
              " 'power': 441,\n",
              " 'thing': 442,\n",
              " 'lies': 443,\n",
              " 'peyr': 444,\n",
              " '4dv': 445,\n",
              " 'allegations': 446,\n",
              " 'cleared': 447,\n",
              " 'emilocorn': 448,\n",
              " 'guess': 449,\n",
              " 'guessed': 450,\n",
              " 'hasnt': 451,\n",
              " 'leveled': 452,\n",
              " 'mentioned': 453,\n",
              " 'pablo': 454,\n",
              " 'right': 455,\n",
              " 'tinubus': 456,\n",
              " 'ate': 457,\n",
              " 'gan': 458,\n",
              " 'jesus': 459,\n",
              " 'sinners': 460,\n",
              " 'wise': 461,\n",
              " 'panama': 462,\n",
              " 'papers': 463,\n",
              " 'sha': 464,\n",
              " 'sell': 465,\n",
              " 'wan': 466,\n",
              " 'actually': 467,\n",
              " 'europe': 468,\n",
              " 'investment': 469,\n",
              " 'sa': 470,\n",
              " 'significant': 471,\n",
              " 'another': 472,\n",
              " 'gettat': 473,\n",
              " 'jor': 474,\n",
              " 'land': 475,\n",
              " 'nonsense': 476,\n",
              " 'proudly': 477,\n",
              " 'refuse': 478,\n",
              " 'repair': 479,\n",
              " 'sense': 480,\n",
              " 'shout': 481,\n",
              " 'shut': 482,\n",
              " 'stan': 483,\n",
              " 'una': 484,\n",
              " 'xenophobia': 485,\n",
              " 'courage': 486,\n",
              " 'lacked': 487,\n",
              " 'thief': 488,\n",
              " 'wow': 489,\n",
              " 'agents': 490,\n",
              " 'becomes': 491,\n",
              " 'cry': 492,\n",
              " 'donate': 493,\n",
              " 'instead': 494,\n",
              " 'polling': 495,\n",
              " 'station': 496,\n",
              " 'strategize': 497,\n",
              " 'third': 498,\n",
              " 'arab': 499,\n",
              " 'avoid': 500,\n",
              " 'away': 501,\n",
              " 'behaviours': 502,\n",
              " 'blackmaillie': 503,\n",
              " 'bullion': 504,\n",
              " 'chief': 505,\n",
              " 'commander': 506,\n",
              " 'dollarbankroll': 507,\n",
              " 'excusesdisrespect': 508,\n",
              " 'giving': 509,\n",
              " 'nasty': 510,\n",
              " 'peoplebuy': 511,\n",
              " 'peopleeven': 512,\n",
              " 'public': 513,\n",
              " 'rascals': 514,\n",
              " 'reprimanding': 515,\n",
              " 'shy': 516,\n",
              " 'dirty': 517,\n",
              " 'mouth': 518,\n",
              " 'ode': 519,\n",
              " 'paper': 520,\n",
              " 'tissue': 521,\n",
              " 'cap': 522,\n",
              " 'everybody': 523,\n",
              " 'na': 524,\n",
              " 'ogbeni': 525,\n",
              " 'cow': 526,\n",
              " 'omoleye': 527,\n",
              " 'saint': 528,\n",
              " 'weldon': 529,\n",
              " 'character': 530,\n",
              " 'convicted': 531,\n",
              " 'ctc': 532,\n",
              " 'deal': 533,\n",
              " 'electing': 534,\n",
              " 'lord': 535,\n",
              " 'may': 536,\n",
              " 'mistake': 537,\n",
              " 'much': 538,\n",
              " 'nig': 539,\n",
              " 'nigerians': 540,\n",
              " 'release': 541,\n",
              " 'subtle': 542,\n",
              " 'warning': 543,\n",
              " 'gbogbo': 544,\n",
              " 'greatest': 545,\n",
              " 'advice': 546,\n",
              " 'assume': 547,\n",
              " 'benefit': 548,\n",
              " 'call': 549,\n",
              " 'candid': 550,\n",
              " 'dealer': 551,\n",
              " 'didnt': 552,\n",
              " 'las': 553,\n",
              " 'revolution': 554,\n",
              " 'single': 555,\n",
              " 'crook': 556,\n",
              " 'lawyer': 557,\n",
              " 'selling': 558,\n",
              " 'soul': 559,\n",
              " 'appreciate': 560,\n",
              " 'assistance': 561,\n",
              " 'criminals': 562,\n",
              " 'gently': 563,\n",
              " 'heroine': 564,\n",
              " 'launderers': 565,\n",
              " 'liberate': 566,\n",
              " 'peddlers': 567,\n",
              " 'reminded': 568,\n",
              " 'tinubuthedrugdealer': 569,\n",
              " 'tinubuthedruglord': 570,\n",
              " 'day': 571,\n",
              " 'least': 572,\n",
              " 'needed': 573,\n",
              " 'talk': 574,\n",
              " 'carefully': 575,\n",
              " 'debate': 576,\n",
              " 'head': 577,\n",
              " 'heart': 578,\n",
              " 'ideas': 579,\n",
              " 'mind': 580,\n",
              " 'obvious': 581,\n",
              " 'script': 582,\n",
              " 'someone': 583,\n",
              " 'wrote': 584,\n",
              " 'circulating': 585,\n",
              " 'bridge': 586,\n",
              " 'built': 587,\n",
              " 'cannot': 588,\n",
              " 'congratulations': 589,\n",
              " 'succeed': 590,\n",
              " 'wins': 591,\n",
              " 'contesting': 592,\n",
              " 'precious': 593,\n",
              " 'race': 594,\n",
              " 'sug': 595,\n",
              " 'atom': 596,\n",
              " 'bi': 597,\n",
              " 'dem': 598,\n",
              " 'documented': 599,\n",
              " 'elections': 600,\n",
              " 'everything': 601,\n",
              " 'global': 602,\n",
              " 'living': 603,\n",
              " 'said': 604,\n",
              " 'shake': 605,\n",
              " 'surely': 606,\n",
              " 'surprise': 607,\n",
              " 'team': 608,\n",
              " 'trash': 609,\n",
              " 'village': 610,\n",
              " 'abeg': 611,\n",
              " 'allowing': 612,\n",
              " 'aso': 613,\n",
              " 'baba': 614,\n",
              " 'deep': 615,\n",
              " 'menibbto': 616,\n",
              " 'obidiently': 617,\n",
              " 'old': 618,\n",
              " 'pas': 619,\n",
              " 'peoples': 620,\n",
              " 'response': 621,\n",
              " 'rock': 622,\n",
              " 'thinkam': 623,\n",
              " 'young': 624,\n",
              " 'atikus': 625,\n",
              " 'bunch': 626,\n",
              " 'charlatans': 627,\n",
              " 'clowns': 628,\n",
              " 'conjure': 629,\n",
              " 'deficiency': 630,\n",
              " 'exactly': 631,\n",
              " 'expose': 632,\n",
              " 'gathering': 633,\n",
              " 'iq': 634,\n",
              " 'lest': 635,\n",
              " 'mindful': 636,\n",
              " 'mission': 637,\n",
              " 'photo': 638,\n",
              " 'session': 639,\n",
              " 'speak': 640,\n",
              " 'translates': 641,\n",
              " 'allowed': 642,\n",
              " 'aside': 643,\n",
              " 'creating': 644,\n",
              " 'expected': 645,\n",
              " 'matter': 646,\n",
              " 'n': 647,\n",
              " 'opinion': 648,\n",
              " 'pacify': 649,\n",
              " 'ppl': 650,\n",
              " 'present': 651,\n",
              " 'rubbish': 652,\n",
              " 'shoe': 653,\n",
              " 'slide': 654,\n",
              " 'statement': 655,\n",
              " 'benefits': 656,\n",
              " 'countries': 657,\n",
              " 'kill': 658,\n",
              " 'trouble': 659,\n",
              " 'finish': 660,\n",
              " 'rig': 661,\n",
              " 'unna': 662,\n",
              " 'happiness': 663,\n",
              " 'sadnessno': 664,\n",
              " 'soon': 665,\n",
              " 'turn': 666,\n",
              " 'wicked': 667,\n",
              " 'charges': 668,\n",
              " 'coming': 669,\n",
              " 'facing': 670,\n",
              " 'forth': 671,\n",
              " 'goodwill': 672,\n",
              " 'honor': 673,\n",
              " 'honorable': 674,\n",
              " 'indictments': 675,\n",
              " 'iota': 676,\n",
              " 'otherwise': 677,\n",
              " 'patriotic': 678,\n",
              " 'pepper': 679,\n",
              " 'show': 680,\n",
              " 'childish': 681,\n",
              " 'embarrassed': 682,\n",
              " 'foolish': 683,\n",
              " 'seriously': 684,\n",
              " 'take': 685,\n",
              " 'aid': 686,\n",
              " 'awear': 687,\n",
              " 'backing': 688,\n",
              " 'claims': 689,\n",
              " 'closest': 690,\n",
              " 'evidence': 691,\n",
              " 'fully': 692,\n",
              " 'glad': 693,\n",
              " 'late': 694,\n",
              " 'pariya': 695,\n",
              " 'umar': 696,\n",
              " 'would': 697,\n",
              " 'boko': 698,\n",
              " 'forgot': 699,\n",
              " 'grandmaster': 700,\n",
              " 'haram': 701,\n",
              " 'neither': 702,\n",
              " 'never': 703,\n",
              " 'reject': 704,\n",
              " 'shettima': 705,\n",
              " 'sponsors': 706,\n",
              " 'terrorists': 707,\n",
              " 'top': 708,\n",
              " 'add': 709,\n",
              " 'become': 710,\n",
              " 'dare': 711,\n",
              " 'failure': 712,\n",
              " 'finished': 713,\n",
              " 'monumental': 714,\n",
              " 'told': 715,\n",
              " 'christ': 716,\n",
              " 'claimed': 717,\n",
              " 'false': 718,\n",
              " 'nawa': 719,\n",
              " 'peddling': 720,\n",
              " 'sake': 721,\n",
              " 'things': 722,\n",
              " 'try': 723,\n",
              " 'tweeting': 724,\n",
              " 'verify': 725,\n",
              " 'experienced': 726,\n",
              " 'governance': 727,\n",
              " 'governor': 728,\n",
              " 'governorship': 729,\n",
              " 'mental': 730,\n",
              " 'shady': 731,\n",
              " 'twice': 732,\n",
              " 'contestant': 733,\n",
              " 'orphan': 734,\n",
              " 'political': 735,\n",
              " 'professional': 736,\n",
              " 'beyond': 737,\n",
              " 'caring': 738,\n",
              " 'compassionate': 739,\n",
              " 'crazy': 740,\n",
              " 'hope': 741,\n",
              " 'nightmare': 742,\n",
              " 'politicians': 743,\n",
              " 'scenario': 744,\n",
              " 'trying': 745,\n",
              " 'ashawo': 746,\n",
              " 'beging': 747,\n",
              " 'chairlady': 748,\n",
              " 'change': 749,\n",
              " 'location': 750,\n",
              " 'many': 751,\n",
              " 'quarters': 752,\n",
              " 'reason': 753,\n",
              " 'somany': 754,\n",
              " 'times': 755,\n",
              " 'afraid': 756,\n",
              " 'answer': 757,\n",
              " 'questions': 758,\n",
              " 'recover': 759,\n",
              " 'awon': 760,\n",
              " 'bottle': 761,\n",
              " 'igbo': 762,\n",
              " 'omo': 763,\n",
              " 'wine': 764,\n",
              " 'bah': 765,\n",
              " 'deborah': 766,\n",
              " 'delete': 767,\n",
              " 'stand': 768,\n",
              " 'facts': 769,\n",
              " 'first': 770,\n",
              " 'says': 771,\n",
              " 'supported': 772,\n",
              " 'fall': 773,\n",
              " 'books': 774,\n",
              " 'career': 775,\n",
              " 'disastrous': 776,\n",
              " 'help': 777,\n",
              " 'month': 778,\n",
              " 'ok': 779,\n",
              " 'peterobiforpresident': 780,\n",
              " 'support': 781,\n",
              " 'write': 782,\n",
              " 'failed': 783,\n",
              " 'hang': 784,\n",
              " 'intense': 785,\n",
              " 'pressure': 786,\n",
              " 'project': 787,\n",
              " 'anyone': 788,\n",
              " 'around': 789,\n",
              " 'arrested': 790,\n",
              " 'court': 791,\n",
              " 'efcc': 792,\n",
              " 'free': 793,\n",
              " 'jailed': 794,\n",
              " 'sanitize': 795,\n",
              " 'walking': 796,\n",
              " '3': 797,\n",
              " 'engagements': 798,\n",
              " 'reducing': 799,\n",
              " 'work': 800,\n",
              " 'english': 801,\n",
              " 'hard': 802,\n",
              " 'learned': 803,\n",
              " 'prove': 804,\n",
              " 'relevance': 805,\n",
              " 'zero': 806,\n",
              " 'buy': 807,\n",
              " 'dis': 808,\n",
              " 'doctor': 809,\n",
              " 'nah': 810,\n",
              " 'shirt': 811,\n",
              " 'sufferhead': 812,\n",
              " 'weak': 813,\n",
              " 'acting': 814,\n",
              " 'certified': 815,\n",
              " 'gift': 816,\n",
              " 'gimmicks': 817,\n",
              " 'harness': 818,\n",
              " 'movement': 819,\n",
              " 'obistop': 820,\n",
              " 'potential': 821,\n",
              " 'wasting': 822,\n",
              " 'way': 823,\n",
              " 'winning': 824,\n",
              " 'baggage': 825,\n",
              " 'declining': 826,\n",
              " 'existence': 827,\n",
              " 'guy': 828,\n",
              " 'probably': 829,\n",
              " 'refreshed': 830,\n",
              " 'something': 831,\n",
              " 'known': 832,\n",
              " 'look': 833,\n",
              " 'true': 834,\n",
              " 'align': 835,\n",
              " 'anything': 836,\n",
              " 'bet': 837,\n",
              " 'obidients': 838,\n",
              " 'posted': 839,\n",
              " 'posterity': 840,\n",
              " 'ill': 841,\n",
              " 'obviously': 842,\n",
              " 'pull': 843,\n",
              " 'god': 844,\n",
              " 'proving': 845,\n",
              " 'church': 846,\n",
              " 'enjoying': 847,\n",
              " 'forget': 848,\n",
              " 'killings': 849,\n",
              " 'lady': 850,\n",
              " 'life': 851,\n",
              " 'opm': 852,\n",
              " 'bros': 853,\n",
              " 'fan': 854,\n",
              " 'totally': 855,\n",
              " 'mugu': 856,\n",
              " 'numbers': 857,\n",
              " 'allows': 858,\n",
              " 'ashamed': 859,\n",
              " 'associate': 860,\n",
              " 'attack': 861,\n",
              " 'breath': 862,\n",
              " 'breathing': 863,\n",
              " 'democracy': 864,\n",
              " 'extremism': 865,\n",
              " 'hey': 866,\n",
              " 'houses': 867,\n",
              " 'labored': 868,\n",
              " 'live': 869,\n",
              " 'proof': 870,\n",
              " 'rudderless': 871,\n",
              " 'speech': 872,\n",
              " 'post': 873,\n",
              " 'anrchy': 874,\n",
              " 'attention': 875,\n",
              " 'class': 876,\n",
              " 'collective': 877,\n",
              " 'continue': 878,\n",
              " 'dom': 879,\n",
              " 'easy': 880,\n",
              " 'elites': 881,\n",
              " 'falsehood': 882,\n",
              " 'freedom': 883,\n",
              " 'goal': 884,\n",
              " 'lead': 885,\n",
              " 'paying': 886,\n",
              " 'pvcs': 887,\n",
              " 'road': 888,\n",
              " 'ruling': 889,\n",
              " 'short': 890,\n",
              " 'wr': 891,\n",
              " 'agenda': 892,\n",
              " 'hidden': 893,\n",
              " 'ipob': 894,\n",
              " 'made': 895,\n",
              " 'master': 896,\n",
              " 'messiah': 897,\n",
              " 'obedient': 898,\n",
              " 'suddenly': 899,\n",
              " 'condemning': 900,\n",
              " 'deleted': 901,\n",
              " 'fresh': 902,\n",
              " 'gruesome': 903,\n",
              " 'hypocrisy': 904,\n",
              " 'memory': 905,\n",
              " 'murder': 906,\n",
              " 'smell': 907,\n",
              " '7': 908,\n",
              " 'hug': 909,\n",
              " 'transformer': 910,\n",
              " 'already': 911,\n",
              " 'mess': 912,\n",
              " '84': 913,\n",
              " 'able': 914,\n",
              " 'backfired': 915,\n",
              " 'bully': 916,\n",
              " 'crying': 917,\n",
              " 'madness': 918,\n",
              " 'started': 919,\n",
              " 'thinking': 920,\n",
              " 'eat': 921,\n",
              " 'poison': 922,\n",
              " 'rat': 923,\n",
              " 'b4': 924,\n",
              " 'kissing': 925,\n",
              " 'passionately': 926,\n",
              " 'smelling': 927,\n",
              " 'jail': 928,\n",
              " 'normal': 929,\n",
              " 'suppose': 930,\n",
              " 'high': 931,\n",
              " 'brought': 932,\n",
              " 'forgotten': 933,\n",
              " 'government': 934,\n",
              " 'helped': 935,\n",
              " 'rule': 936,\n",
              " 'bring': 937,\n",
              " 'onwer': 938,\n",
              " 'records': 939,\n",
              " 'reporter': 940,\n",
              " 'sahara': 941,\n",
              " 'confused': 942,\n",
              " 'twitt': 943,\n",
              " 'admit': 944,\n",
              " 'big': 945,\n",
              " 'bit': 946,\n",
              " 'defense': 947,\n",
              " 'defensive': 948,\n",
              " 'dino': 949,\n",
              " 'gave': 950,\n",
              " 'gov': 951,\n",
              " 'however': 952,\n",
              " 'miffed': 953,\n",
              " 'offensive': 954,\n",
              " 'ready': 955,\n",
              " 'tempered': 956,\n",
              " 'baija': 957,\n",
              " 'ballot': 958,\n",
              " 'boxes': 959,\n",
              " 'evil': 960,\n",
              " 'stolen': 961,\n",
              " 'went': 962,\n",
              " 'axe': 963,\n",
              " 'clever': 964,\n",
              " 'convinced': 965,\n",
              " 'forest': 966,\n",
              " 'handle': 967,\n",
              " 'incompetent': 968,\n",
              " 'kept': 969,\n",
              " 'nigerian': 970,\n",
              " 'proverb': 971,\n",
              " 'shrinking': 972,\n",
              " 'story': 973,\n",
              " 'trees': 974,\n",
              " 'turkish': 975,\n",
              " 'wood': 976,\n",
              " 'business': 977,\n",
              " 'characters': 978,\n",
              " 'community': 979,\n",
              " 'contestants': 980,\n",
              " 'corruptiondrugsamp': 981,\n",
              " 'crime': 982,\n",
              " 'international': 983,\n",
              " 'otherwiseinec': 984,\n",
              " 'parading': 985,\n",
              " 'parties': 986,\n",
              " 'related': 987,\n",
              " 'rethink': 988,\n",
              " 'sink': 989,\n",
              " 'blind': 990,\n",
              " 'men': 991,\n",
              " 'killed': 992,\n",
              " 'prayers': 993,\n",
              " 'thoughts': 994,\n",
              " 'wisely': 995,\n",
              " 'agency': 996,\n",
              " 'committed': 997,\n",
              " 'competent': 998,\n",
              " 'course': 999,\n",
              " ...}"
            ]
          },
          "metadata": {},
          "execution_count": 53
        }
      ],
      "source": [
        "from gensim.corpora import Dictionary\n",
        "\n",
        "#create dictionary\n",
        "text_dict = Dictionary(tweets_df_clean)\n",
        "\n",
        "#view integer mappings\n",
        "text_dict.token2id"
      ]
    },
    {
      "cell_type": "code",
      "execution_count": 54,
      "id": "2f80c108",
      "metadata": {
        "id": "2f80c108"
      },
      "outputs": [],
      "source": [
        "tweets_bow = [text_dict.doc2bow(tweet) for tweet in tweets_df_clean]"
      ]
    },
    {
      "cell_type": "code",
      "execution_count": 55,
      "id": "b93434a8",
      "metadata": {
        "colab": {
          "base_uri": "https://localhost:8080/",
          "height": 0
        },
        "id": "b93434a8",
        "outputId": "6fc5bdab-27d3-43df-f818-cbd8cc9ce983"
      },
      "outputs": [
        {
          "output_type": "execute_result",
          "data": {
            "text/plain": [
              "[(0,\n",
              "  '0.015*\"obi\" + 0.011*\"peter\" + 0.007*\"atiku\" + 0.007*\"vote\" + 0.007*\"amp\" + 0.006*\"dont\" + 0.006*\"tinubu\" + 0.006*\"picture\" + 0.006*\"po\" + 0.005*\"want\"'),\n",
              " (1,\n",
              "  '0.012*\"u\" + 0.010*\"nigeria\" + 0.010*\"go\" + 0.009*\"atiku\" + 0.009*\"us\" + 0.007*\"one\" + 0.007*\"need\" + 0.006*\"dey\" + 0.005*\"sir\" + 0.005*\"money\"'),\n",
              " (2,\n",
              "  '0.009*\"man\" + 0.009*\"atiku\" + 0.009*\"u\" + 0.008*\"like\" + 0.008*\"obi\" + 0.007*\"us\" + 0.006*\"peter\" + 0.006*\"1\" + 0.006*\"know\" + 0.006*\"drug\"'),\n",
              " (3,\n",
              "  '0.009*\"u\" + 0.009*\"like\" + 0.008*\"amp\" + 0.006*\"please\" + 0.006*\"obi\" + 0.006*\"dey\" + 0.006*\"one\" + 0.005*\"country\" + 0.004*\"youre\" + 0.004*\"peter\"'),\n",
              " (4,\n",
              "  '0.009*\"atiku\" + 0.009*\"peter\" + 0.009*\"obi\" + 0.009*\"man\" + 0.009*\"people\" + 0.009*\"say\" + 0.008*\"see\" + 0.006*\"nigeria\" + 0.006*\"u\" + 0.006*\"support\"')]"
            ]
          },
          "metadata": {},
          "execution_count": 55
        }
      ],
      "source": [
        "from gensim.models.ldamodel import LdaModel\n",
        "\n",
        "k = 5\n",
        "tweets_lda = LdaModel(tweets_bow,\n",
        "                      num_topics = k,\n",
        "                      id2word = text_dict,\n",
        "                      random_state = 1,\n",
        "                      passes=10)\n",
        "\n",
        "tweets_lda.show_topics()"
      ]
    },
    {
      "cell_type": "markdown",
      "id": "ee22baa4",
      "metadata": {
        "id": "ee22baa4"
      },
      "source": [
        "<b>Visualizing a topic model<b>"
      ]
    },
    {
      "cell_type": "markdown",
      "id": "0ae5a108",
      "metadata": {
        "id": "0ae5a108"
      },
      "source": [
        "<b> The most obvious topic depicted is the Nigerian Presidential elections<b>"
      ]
    },
    {
      "cell_type": "markdown",
      "id": "ae023ca0",
      "metadata": {
        "id": "ae023ca0"
      },
      "source": [
        "<B>CONCLUSION <B>"
      ]
    },
    {
      "cell_type": "markdown",
      "id": "348678fa",
      "metadata": {
        "id": "348678fa"
      },
      "source": [
        "<b>For the sentiment analysis, the best classification model between Naïve Bayes for sentiment analysis/classification, Support Vector Machine for tweet classification,Logistic Regression sentiment classification, and K-Nearest Neighbor for tweet classification was the Support Vector Machine for tweet classification because it had the highest accuracy of 71%<b>"
      ]
    },
    {
      "cell_type": "code",
      "execution_count": null,
      "id": "1a43693a",
      "metadata": {
        "id": "1a43693a"
      },
      "outputs": [],
      "source": []
    }
  ],
  "metadata": {
    "kernelspec": {
      "display_name": "Python 3 (ipykernel)",
      "language": "python",
      "name": "python3"
    },
    "language_info": {
      "codemirror_mode": {
        "name": "ipython",
        "version": 3
      },
      "file_extension": ".py",
      "mimetype": "text/x-python",
      "name": "python",
      "nbconvert_exporter": "python",
      "pygments_lexer": "ipython3",
      "version": "3.9.12"
    },
    "colab": {
      "provenance": []
    }
  },
  "nbformat": 4,
  "nbformat_minor": 5
}